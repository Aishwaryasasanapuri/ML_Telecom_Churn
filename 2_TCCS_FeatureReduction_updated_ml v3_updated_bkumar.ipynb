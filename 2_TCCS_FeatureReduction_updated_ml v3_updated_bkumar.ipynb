{
 "cells": [
  {
   "cell_type": "markdown",
   "metadata": {},
   "source": [
    "# <font color='blue'>Telecom Churn Case Study</font>\n",
    "* Institution: IIIT, Bangalore and UpGrad\n",
    "* Course: PG Diploma in Machine Lerning and AI March 2018\n",
    "* Date: 14-Aug-2018\n",
    "* Submitted by:\n",
    "    1. Pandinath Siddineni (ID- APFE187000194)\n",
    "    2. AKNR Chandra Sekhar (ID- APFE187000315)\n",
    "    3. Brajesh Kumar       (ID- APFE187000149)\n",
    "    4. Shweta Tiwari\n",
    "-----------------------------------"
   ]
  },
  {
   "cell_type": "markdown",
   "metadata": {},
   "source": [
    "# <font color='blue'>PART 3: FEATURE REDUCTION USING PCA</font>"
   ]
  },
  {
   "cell_type": "code",
   "execution_count": 219,
   "metadata": {
    "collapsed": true
   },
   "outputs": [],
   "source": [
    "import os.path\n",
    "import numpy as np\n",
    "import pandas as pd\n",
    "import matplotlib.pyplot as plt\n",
    "import seaborn as sns\n",
    "import datetime as dt"
   ]
  },
  {
   "cell_type": "code",
   "execution_count": 220,
   "metadata": {
    "collapsed": true
   },
   "outputs": [],
   "source": [
    "pd.options.display.float_format = '{:.2f}'.format"
   ]
  },
  {
   "cell_type": "code",
   "execution_count": 221,
   "metadata": {
    "collapsed": true
   },
   "outputs": [],
   "source": [
    "# Load clean telecom data file\n",
    "master_df = pd.read_csv('telecom_churn_data_clean2.csv', low_memory=False)"
   ]
  },
  {
   "cell_type": "code",
   "execution_count": 222,
   "metadata": {},
   "outputs": [
    {
     "data": {
      "text/html": [
       "<div>\n",
       "<style>\n",
       "    .dataframe thead tr:only-child th {\n",
       "        text-align: right;\n",
       "    }\n",
       "\n",
       "    .dataframe thead th {\n",
       "        text-align: left;\n",
       "    }\n",
       "\n",
       "    .dataframe tbody tr th {\n",
       "        vertical-align: top;\n",
       "    }\n",
       "</style>\n",
       "<table border=\"1\" class=\"dataframe\">\n",
       "  <thead>\n",
       "    <tr style=\"text-align: right;\">\n",
       "      <th></th>\n",
       "      <th>mobile_number</th>\n",
       "      <th>onnet_mou_6</th>\n",
       "      <th>onnet_mou_7</th>\n",
       "      <th>onnet_mou_8</th>\n",
       "      <th>offnet_mou_6</th>\n",
       "      <th>offnet_mou_7</th>\n",
       "      <th>offnet_mou_8</th>\n",
       "      <th>roam_ic_mou_6</th>\n",
       "      <th>roam_ic_mou_7</th>\n",
       "      <th>roam_ic_mou_8</th>\n",
       "      <th>...</th>\n",
       "      <th>rech_days_left_data_7</th>\n",
       "      <th>rech_days_left_8</th>\n",
       "      <th>rech_days_left_data_8</th>\n",
       "      <th>churn</th>\n",
       "      <th>night_pck_churn_6</th>\n",
       "      <th>night_pck_churn_7</th>\n",
       "      <th>night_pck_churn_8</th>\n",
       "      <th>fb_churn_6</th>\n",
       "      <th>fb_churn_7</th>\n",
       "      <th>fb_churn_8</th>\n",
       "    </tr>\n",
       "  </thead>\n",
       "  <tbody>\n",
       "    <tr>\n",
       "      <th>0</th>\n",
       "      <td>7000701601</td>\n",
       "      <td>57.84</td>\n",
       "      <td>54.68</td>\n",
       "      <td>52.29</td>\n",
       "      <td>453.43</td>\n",
       "      <td>567.16</td>\n",
       "      <td>325.91</td>\n",
       "      <td>16.23</td>\n",
       "      <td>33.49</td>\n",
       "      <td>31.64</td>\n",
       "      <td>...</td>\n",
       "      <td>0.00</td>\n",
       "      <td>5.00</td>\n",
       "      <td>0.00</td>\n",
       "      <td>1</td>\n",
       "      <td>0.07</td>\n",
       "      <td>0.08</td>\n",
       "      <td>0.09</td>\n",
       "      <td>0.07</td>\n",
       "      <td>0.08</td>\n",
       "      <td>0.09</td>\n",
       "    </tr>\n",
       "    <tr>\n",
       "      <th>1</th>\n",
       "      <td>7002311591</td>\n",
       "      <td>288.56</td>\n",
       "      <td>376.66</td>\n",
       "      <td>111.61</td>\n",
       "      <td>186.59</td>\n",
       "      <td>1326.06</td>\n",
       "      <td>771.14</td>\n",
       "      <td>52.96</td>\n",
       "      <td>0.00</td>\n",
       "      <td>7.28</td>\n",
       "      <td>...</td>\n",
       "      <td>0.00</td>\n",
       "      <td>6.00</td>\n",
       "      <td>0.00</td>\n",
       "      <td>1</td>\n",
       "      <td>0.07</td>\n",
       "      <td>0.08</td>\n",
       "      <td>0.09</td>\n",
       "      <td>0.07</td>\n",
       "      <td>0.08</td>\n",
       "      <td>0.09</td>\n",
       "    </tr>\n",
       "    <tr>\n",
       "      <th>2</th>\n",
       "      <td>7000959346</td>\n",
       "      <td>120.19</td>\n",
       "      <td>236.14</td>\n",
       "      <td>1.71</td>\n",
       "      <td>2082.18</td>\n",
       "      <td>2532.03</td>\n",
       "      <td>408.54</td>\n",
       "      <td>0.00</td>\n",
       "      <td>0.00</td>\n",
       "      <td>0.00</td>\n",
       "      <td>...</td>\n",
       "      <td>0.00</td>\n",
       "      <td>3.00</td>\n",
       "      <td>0.00</td>\n",
       "      <td>1</td>\n",
       "      <td>0.07</td>\n",
       "      <td>0.08</td>\n",
       "      <td>0.09</td>\n",
       "      <td>0.07</td>\n",
       "      <td>0.08</td>\n",
       "      <td>0.09</td>\n",
       "    </tr>\n",
       "    <tr>\n",
       "      <th>3</th>\n",
       "      <td>7000104470</td>\n",
       "      <td>1241.99</td>\n",
       "      <td>1026.66</td>\n",
       "      <td>0.00</td>\n",
       "      <td>112.91</td>\n",
       "      <td>115.13</td>\n",
       "      <td>0.00</td>\n",
       "      <td>0.00</td>\n",
       "      <td>0.00</td>\n",
       "      <td>0.38</td>\n",
       "      <td>...</td>\n",
       "      <td>0.00</td>\n",
       "      <td>2.00</td>\n",
       "      <td>0.00</td>\n",
       "      <td>1</td>\n",
       "      <td>0.07</td>\n",
       "      <td>0.08</td>\n",
       "      <td>0.09</td>\n",
       "      <td>0.07</td>\n",
       "      <td>0.08</td>\n",
       "      <td>0.09</td>\n",
       "    </tr>\n",
       "    <tr>\n",
       "      <th>4</th>\n",
       "      <td>7000409785</td>\n",
       "      <td>424.98</td>\n",
       "      <td>328.73</td>\n",
       "      <td>363.98</td>\n",
       "      <td>457.09</td>\n",
       "      <td>361.34</td>\n",
       "      <td>391.68</td>\n",
       "      <td>315.29</td>\n",
       "      <td>303.04</td>\n",
       "      <td>254.34</td>\n",
       "      <td>...</td>\n",
       "      <td>0.00</td>\n",
       "      <td>1.00</td>\n",
       "      <td>0.00</td>\n",
       "      <td>1</td>\n",
       "      <td>0.07</td>\n",
       "      <td>0.08</td>\n",
       "      <td>0.09</td>\n",
       "      <td>0.07</td>\n",
       "      <td>0.08</td>\n",
       "      <td>0.09</td>\n",
       "    </tr>\n",
       "  </tbody>\n",
       "</table>\n",
       "<p>5 rows × 144 columns</p>\n",
       "</div>"
      ],
      "text/plain": [
       "   mobile_number  onnet_mou_6  onnet_mou_7  onnet_mou_8  offnet_mou_6  \\\n",
       "0     7000701601        57.84        54.68        52.29        453.43   \n",
       "1     7002311591       288.56       376.66       111.61        186.59   \n",
       "2     7000959346       120.19       236.14         1.71       2082.18   \n",
       "3     7000104470      1241.99      1026.66         0.00        112.91   \n",
       "4     7000409785       424.98       328.73       363.98        457.09   \n",
       "\n",
       "   offnet_mou_7  offnet_mou_8  roam_ic_mou_6  roam_ic_mou_7  roam_ic_mou_8  \\\n",
       "0        567.16        325.91          16.23          33.49          31.64   \n",
       "1       1326.06        771.14          52.96           0.00           7.28   \n",
       "2       2532.03        408.54           0.00           0.00           0.00   \n",
       "3        115.13          0.00           0.00           0.00           0.38   \n",
       "4        361.34        391.68         315.29         303.04         254.34   \n",
       "\n",
       "      ...      rech_days_left_data_7  rech_days_left_8  rech_days_left_data_8  \\\n",
       "0     ...                       0.00              5.00                   0.00   \n",
       "1     ...                       0.00              6.00                   0.00   \n",
       "2     ...                       0.00              3.00                   0.00   \n",
       "3     ...                       0.00              2.00                   0.00   \n",
       "4     ...                       0.00              1.00                   0.00   \n",
       "\n",
       "   churn  night_pck_churn_6  night_pck_churn_7  night_pck_churn_8  fb_churn_6  \\\n",
       "0      1               0.07               0.08               0.09        0.07   \n",
       "1      1               0.07               0.08               0.09        0.07   \n",
       "2      1               0.07               0.08               0.09        0.07   \n",
       "3      1               0.07               0.08               0.09        0.07   \n",
       "4      1               0.07               0.08               0.09        0.07   \n",
       "\n",
       "   fb_churn_7  fb_churn_8  \n",
       "0        0.08        0.09  \n",
       "1        0.08        0.09  \n",
       "2        0.08        0.09  \n",
       "3        0.08        0.09  \n",
       "4        0.08        0.09  \n",
       "\n",
       "[5 rows x 144 columns]"
      ]
     },
     "execution_count": 222,
     "metadata": {},
     "output_type": "execute_result"
    }
   ],
   "source": [
    "master_df.head()"
   ]
  },
  {
   "cell_type": "code",
   "execution_count": 223,
   "metadata": {
    "scrolled": false
   },
   "outputs": [
    {
     "data": {
      "text/plain": [
       "['mobile_number',\n",
       " 'onnet_mou_6',\n",
       " 'onnet_mou_7',\n",
       " 'onnet_mou_8',\n",
       " 'offnet_mou_6',\n",
       " 'offnet_mou_7',\n",
       " 'offnet_mou_8',\n",
       " 'roam_ic_mou_6',\n",
       " 'roam_ic_mou_7',\n",
       " 'roam_ic_mou_8',\n",
       " 'roam_og_mou_6',\n",
       " 'roam_og_mou_7',\n",
       " 'roam_og_mou_8',\n",
       " 'loc_og_t2t_mou_6',\n",
       " 'loc_og_t2t_mou_7',\n",
       " 'loc_og_t2t_mou_8',\n",
       " 'loc_og_t2m_mou_6',\n",
       " 'loc_og_t2m_mou_7',\n",
       " 'loc_og_t2m_mou_8',\n",
       " 'loc_og_t2f_mou_6',\n",
       " 'loc_og_t2f_mou_7',\n",
       " 'loc_og_t2f_mou_8',\n",
       " 'loc_og_t2c_mou_6',\n",
       " 'loc_og_t2c_mou_7',\n",
       " 'loc_og_t2c_mou_8',\n",
       " 'loc_og_mou_6',\n",
       " 'loc_og_mou_7',\n",
       " 'loc_og_mou_8',\n",
       " 'std_og_t2t_mou_6',\n",
       " 'std_og_t2t_mou_7',\n",
       " 'std_og_t2t_mou_8',\n",
       " 'std_og_t2m_mou_6',\n",
       " 'std_og_t2m_mou_7',\n",
       " 'std_og_t2m_mou_8',\n",
       " 'std_og_t2f_mou_6',\n",
       " 'std_og_t2f_mou_7',\n",
       " 'std_og_t2f_mou_8',\n",
       " 'std_og_mou_6',\n",
       " 'std_og_mou_7',\n",
       " 'std_og_mou_8',\n",
       " 'isd_og_mou_6',\n",
       " 'isd_og_mou_7',\n",
       " 'isd_og_mou_8',\n",
       " 'spl_og_mou_6',\n",
       " 'spl_og_mou_7',\n",
       " 'spl_og_mou_8',\n",
       " 'og_others_6',\n",
       " 'og_others_7',\n",
       " 'og_others_8',\n",
       " 'total_og_mou_6',\n",
       " 'total_og_mou_7',\n",
       " 'total_og_mou_8',\n",
       " 'loc_ic_t2t_mou_6',\n",
       " 'loc_ic_t2t_mou_7',\n",
       " 'loc_ic_t2t_mou_8',\n",
       " 'loc_ic_t2m_mou_6',\n",
       " 'loc_ic_t2m_mou_7',\n",
       " 'loc_ic_t2m_mou_8',\n",
       " 'loc_ic_t2f_mou_6',\n",
       " 'loc_ic_t2f_mou_7',\n",
       " 'loc_ic_t2f_mou_8',\n",
       " 'loc_ic_mou_6',\n",
       " 'loc_ic_mou_7',\n",
       " 'loc_ic_mou_8',\n",
       " 'std_ic_t2t_mou_6',\n",
       " 'std_ic_t2t_mou_7',\n",
       " 'std_ic_t2t_mou_8',\n",
       " 'std_ic_t2m_mou_6',\n",
       " 'std_ic_t2m_mou_7',\n",
       " 'std_ic_t2m_mou_8',\n",
       " 'std_ic_t2f_mou_6',\n",
       " 'std_ic_t2f_mou_7',\n",
       " 'std_ic_t2f_mou_8',\n",
       " 'std_ic_mou_6',\n",
       " 'std_ic_mou_7',\n",
       " 'std_ic_mou_8',\n",
       " 'total_ic_mou_6',\n",
       " 'total_ic_mou_7',\n",
       " 'total_ic_mou_8',\n",
       " 'spl_ic_mou_6',\n",
       " 'spl_ic_mou_7',\n",
       " 'spl_ic_mou_8',\n",
       " 'isd_ic_mou_6',\n",
       " 'isd_ic_mou_7',\n",
       " 'isd_ic_mou_8',\n",
       " 'ic_others_6',\n",
       " 'ic_others_7',\n",
       " 'ic_others_8',\n",
       " 'total_rech_amt_6',\n",
       " 'total_rech_amt_7',\n",
       " 'total_rech_amt_8',\n",
       " 'max_rech_amt_6',\n",
       " 'max_rech_amt_7',\n",
       " 'max_rech_amt_8',\n",
       " 'last_day_rch_amt_6',\n",
       " 'last_day_rch_amt_7',\n",
       " 'last_day_rch_amt_8',\n",
       " 'total_rech_data_6',\n",
       " 'total_rech_data_7',\n",
       " 'total_rech_data_8',\n",
       " 'max_rech_data_6',\n",
       " 'max_rech_data_7',\n",
       " 'max_rech_data_8',\n",
       " 'vol_2g_mb_6',\n",
       " 'vol_2g_mb_7',\n",
       " 'vol_2g_mb_8',\n",
       " 'vol_3g_mb_6',\n",
       " 'vol_3g_mb_7',\n",
       " 'vol_3g_mb_8',\n",
       " 'night_pck_user_6',\n",
       " 'night_pck_user_7',\n",
       " 'night_pck_user_8',\n",
       " 'monthly_2g_6',\n",
       " 'monthly_2g_7',\n",
       " 'monthly_2g_8',\n",
       " 'sachet_2g_6',\n",
       " 'sachet_2g_7',\n",
       " 'sachet_2g_8',\n",
       " 'monthly_3g_6',\n",
       " 'monthly_3g_7',\n",
       " 'monthly_3g_8',\n",
       " 'sachet_3g_6',\n",
       " 'sachet_3g_7',\n",
       " 'sachet_3g_8',\n",
       " 'fb_user_6',\n",
       " 'fb_user_7',\n",
       " 'fb_user_8',\n",
       " 'aon',\n",
       " 'total_rech_data_amt_6',\n",
       " 'total_rech_data_amt_7',\n",
       " 'total_rech_data_amt_8',\n",
       " 'rech_days_left_6',\n",
       " 'rech_days_left_data_6',\n",
       " 'rech_days_left_7',\n",
       " 'rech_days_left_data_7',\n",
       " 'rech_days_left_8',\n",
       " 'rech_days_left_data_8',\n",
       " 'churn',\n",
       " 'night_pck_churn_6',\n",
       " 'night_pck_churn_7',\n",
       " 'night_pck_churn_8',\n",
       " 'fb_churn_6',\n",
       " 'fb_churn_7',\n",
       " 'fb_churn_8']"
      ]
     },
     "execution_count": 223,
     "metadata": {},
     "output_type": "execute_result"
    }
   ],
   "source": [
    "list(master_df)"
   ]
  },
  {
   "cell_type": "code",
   "execution_count": 224,
   "metadata": {},
   "outputs": [
    {
     "data": {
      "text/plain": [
       "(28504, 144)"
      ]
     },
     "execution_count": 224,
     "metadata": {},
     "output_type": "execute_result"
    }
   ],
   "source": [
    "master_df.shape"
   ]
  },
  {
   "cell_type": "code",
   "execution_count": 225,
   "metadata": {
    "collapsed": true
   },
   "outputs": [],
   "source": [
    "telecom = master_df.drop(['mobile_number'], 1)\n",
    "telecom = telecom.drop(['fb_user_6', 'fb_user_7', 'fb_user_8', 'night_pck_user_6', 'night_pck_user_7', 'night_pck_user_8'], 1)\n",
    "#telecom = telecom.drop(['fb_churn_6', 'fb_churn_7', 'fb_churn_8', 'night_pck_churn_6', 'night_pck_churn_7', 'night_pck_churn_8'], 1)\n"
   ]
  },
  {
   "cell_type": "code",
   "execution_count": 226,
   "metadata": {},
   "outputs": [
    {
     "data": {
      "text/html": [
       "<div>\n",
       "<style>\n",
       "    .dataframe thead tr:only-child th {\n",
       "        text-align: right;\n",
       "    }\n",
       "\n",
       "    .dataframe thead th {\n",
       "        text-align: left;\n",
       "    }\n",
       "\n",
       "    .dataframe tbody tr th {\n",
       "        vertical-align: top;\n",
       "    }\n",
       "</style>\n",
       "<table border=\"1\" class=\"dataframe\">\n",
       "  <thead>\n",
       "    <tr style=\"text-align: right;\">\n",
       "      <th></th>\n",
       "      <th>onnet_mou_6</th>\n",
       "      <th>onnet_mou_7</th>\n",
       "      <th>onnet_mou_8</th>\n",
       "      <th>offnet_mou_6</th>\n",
       "      <th>offnet_mou_7</th>\n",
       "      <th>offnet_mou_8</th>\n",
       "      <th>roam_ic_mou_6</th>\n",
       "      <th>roam_ic_mou_7</th>\n",
       "      <th>roam_ic_mou_8</th>\n",
       "      <th>roam_og_mou_6</th>\n",
       "      <th>...</th>\n",
       "      <th>rech_days_left_data_7</th>\n",
       "      <th>rech_days_left_8</th>\n",
       "      <th>rech_days_left_data_8</th>\n",
       "      <th>churn</th>\n",
       "      <th>night_pck_churn_6</th>\n",
       "      <th>night_pck_churn_7</th>\n",
       "      <th>night_pck_churn_8</th>\n",
       "      <th>fb_churn_6</th>\n",
       "      <th>fb_churn_7</th>\n",
       "      <th>fb_churn_8</th>\n",
       "    </tr>\n",
       "  </thead>\n",
       "  <tbody>\n",
       "    <tr>\n",
       "      <th>0</th>\n",
       "      <td>57.84</td>\n",
       "      <td>54.68</td>\n",
       "      <td>52.29</td>\n",
       "      <td>453.43</td>\n",
       "      <td>567.16</td>\n",
       "      <td>325.91</td>\n",
       "      <td>16.23</td>\n",
       "      <td>33.49</td>\n",
       "      <td>31.64</td>\n",
       "      <td>23.74</td>\n",
       "      <td>...</td>\n",
       "      <td>0.00</td>\n",
       "      <td>5.00</td>\n",
       "      <td>0.00</td>\n",
       "      <td>1</td>\n",
       "      <td>0.07</td>\n",
       "      <td>0.08</td>\n",
       "      <td>0.09</td>\n",
       "      <td>0.07</td>\n",
       "      <td>0.08</td>\n",
       "      <td>0.09</td>\n",
       "    </tr>\n",
       "    <tr>\n",
       "      <th>1</th>\n",
       "      <td>288.56</td>\n",
       "      <td>376.66</td>\n",
       "      <td>111.61</td>\n",
       "      <td>186.59</td>\n",
       "      <td>1326.06</td>\n",
       "      <td>771.14</td>\n",
       "      <td>52.96</td>\n",
       "      <td>0.00</td>\n",
       "      <td>7.28</td>\n",
       "      <td>10.69</td>\n",
       "      <td>...</td>\n",
       "      <td>0.00</td>\n",
       "      <td>6.00</td>\n",
       "      <td>0.00</td>\n",
       "      <td>1</td>\n",
       "      <td>0.07</td>\n",
       "      <td>0.08</td>\n",
       "      <td>0.09</td>\n",
       "      <td>0.07</td>\n",
       "      <td>0.08</td>\n",
       "      <td>0.09</td>\n",
       "    </tr>\n",
       "    <tr>\n",
       "      <th>2</th>\n",
       "      <td>120.19</td>\n",
       "      <td>236.14</td>\n",
       "      <td>1.71</td>\n",
       "      <td>2082.18</td>\n",
       "      <td>2532.03</td>\n",
       "      <td>408.54</td>\n",
       "      <td>0.00</td>\n",
       "      <td>0.00</td>\n",
       "      <td>0.00</td>\n",
       "      <td>0.00</td>\n",
       "      <td>...</td>\n",
       "      <td>0.00</td>\n",
       "      <td>3.00</td>\n",
       "      <td>0.00</td>\n",
       "      <td>1</td>\n",
       "      <td>0.07</td>\n",
       "      <td>0.08</td>\n",
       "      <td>0.09</td>\n",
       "      <td>0.07</td>\n",
       "      <td>0.08</td>\n",
       "      <td>0.09</td>\n",
       "    </tr>\n",
       "    <tr>\n",
       "      <th>3</th>\n",
       "      <td>1241.99</td>\n",
       "      <td>1026.66</td>\n",
       "      <td>0.00</td>\n",
       "      <td>112.91</td>\n",
       "      <td>115.13</td>\n",
       "      <td>0.00</td>\n",
       "      <td>0.00</td>\n",
       "      <td>0.00</td>\n",
       "      <td>0.38</td>\n",
       "      <td>0.00</td>\n",
       "      <td>...</td>\n",
       "      <td>0.00</td>\n",
       "      <td>2.00</td>\n",
       "      <td>0.00</td>\n",
       "      <td>1</td>\n",
       "      <td>0.07</td>\n",
       "      <td>0.08</td>\n",
       "      <td>0.09</td>\n",
       "      <td>0.07</td>\n",
       "      <td>0.08</td>\n",
       "      <td>0.09</td>\n",
       "    </tr>\n",
       "    <tr>\n",
       "      <th>4</th>\n",
       "      <td>424.98</td>\n",
       "      <td>328.73</td>\n",
       "      <td>363.98</td>\n",
       "      <td>457.09</td>\n",
       "      <td>361.34</td>\n",
       "      <td>391.68</td>\n",
       "      <td>315.29</td>\n",
       "      <td>303.04</td>\n",
       "      <td>254.34</td>\n",
       "      <td>613.84</td>\n",
       "      <td>...</td>\n",
       "      <td>0.00</td>\n",
       "      <td>1.00</td>\n",
       "      <td>0.00</td>\n",
       "      <td>1</td>\n",
       "      <td>0.07</td>\n",
       "      <td>0.08</td>\n",
       "      <td>0.09</td>\n",
       "      <td>0.07</td>\n",
       "      <td>0.08</td>\n",
       "      <td>0.09</td>\n",
       "    </tr>\n",
       "  </tbody>\n",
       "</table>\n",
       "<p>5 rows × 137 columns</p>\n",
       "</div>"
      ],
      "text/plain": [
       "   onnet_mou_6  onnet_mou_7  onnet_mou_8  offnet_mou_6  offnet_mou_7  \\\n",
       "0        57.84        54.68        52.29        453.43        567.16   \n",
       "1       288.56       376.66       111.61        186.59       1326.06   \n",
       "2       120.19       236.14         1.71       2082.18       2532.03   \n",
       "3      1241.99      1026.66         0.00        112.91        115.13   \n",
       "4       424.98       328.73       363.98        457.09        361.34   \n",
       "\n",
       "   offnet_mou_8  roam_ic_mou_6  roam_ic_mou_7  roam_ic_mou_8  roam_og_mou_6  \\\n",
       "0        325.91          16.23          33.49          31.64          23.74   \n",
       "1        771.14          52.96           0.00           7.28          10.69   \n",
       "2        408.54           0.00           0.00           0.00           0.00   \n",
       "3          0.00           0.00           0.00           0.38           0.00   \n",
       "4        391.68         315.29         303.04         254.34         613.84   \n",
       "\n",
       "      ...      rech_days_left_data_7  rech_days_left_8  rech_days_left_data_8  \\\n",
       "0     ...                       0.00              5.00                   0.00   \n",
       "1     ...                       0.00              6.00                   0.00   \n",
       "2     ...                       0.00              3.00                   0.00   \n",
       "3     ...                       0.00              2.00                   0.00   \n",
       "4     ...                       0.00              1.00                   0.00   \n",
       "\n",
       "   churn  night_pck_churn_6  night_pck_churn_7  night_pck_churn_8  fb_churn_6  \\\n",
       "0      1               0.07               0.08               0.09        0.07   \n",
       "1      1               0.07               0.08               0.09        0.07   \n",
       "2      1               0.07               0.08               0.09        0.07   \n",
       "3      1               0.07               0.08               0.09        0.07   \n",
       "4      1               0.07               0.08               0.09        0.07   \n",
       "\n",
       "   fb_churn_7  fb_churn_8  \n",
       "0        0.08        0.09  \n",
       "1        0.08        0.09  \n",
       "2        0.08        0.09  \n",
       "3        0.08        0.09  \n",
       "4        0.08        0.09  \n",
       "\n",
       "[5 rows x 137 columns]"
      ]
     },
     "execution_count": 226,
     "metadata": {},
     "output_type": "execute_result"
    }
   ],
   "source": [
    "telecom.head()"
   ]
  },
  {
   "cell_type": "code",
   "execution_count": 227,
   "metadata": {},
   "outputs": [
    {
     "data": {
      "text/plain": [
       "['onnet_mou_6',\n",
       " 'onnet_mou_7',\n",
       " 'onnet_mou_8',\n",
       " 'offnet_mou_6',\n",
       " 'offnet_mou_7',\n",
       " 'offnet_mou_8',\n",
       " 'roam_ic_mou_6',\n",
       " 'roam_ic_mou_7',\n",
       " 'roam_ic_mou_8',\n",
       " 'roam_og_mou_6',\n",
       " 'roam_og_mou_7',\n",
       " 'roam_og_mou_8',\n",
       " 'loc_og_t2t_mou_6',\n",
       " 'loc_og_t2t_mou_7',\n",
       " 'loc_og_t2t_mou_8',\n",
       " 'loc_og_t2m_mou_6',\n",
       " 'loc_og_t2m_mou_7',\n",
       " 'loc_og_t2m_mou_8',\n",
       " 'loc_og_t2f_mou_6',\n",
       " 'loc_og_t2f_mou_7',\n",
       " 'loc_og_t2f_mou_8',\n",
       " 'loc_og_t2c_mou_6',\n",
       " 'loc_og_t2c_mou_7',\n",
       " 'loc_og_t2c_mou_8',\n",
       " 'loc_og_mou_6',\n",
       " 'loc_og_mou_7',\n",
       " 'loc_og_mou_8',\n",
       " 'std_og_t2t_mou_6',\n",
       " 'std_og_t2t_mou_7',\n",
       " 'std_og_t2t_mou_8',\n",
       " 'std_og_t2m_mou_6',\n",
       " 'std_og_t2m_mou_7',\n",
       " 'std_og_t2m_mou_8',\n",
       " 'std_og_t2f_mou_6',\n",
       " 'std_og_t2f_mou_7',\n",
       " 'std_og_t2f_mou_8',\n",
       " 'std_og_mou_6',\n",
       " 'std_og_mou_7',\n",
       " 'std_og_mou_8',\n",
       " 'isd_og_mou_6',\n",
       " 'isd_og_mou_7',\n",
       " 'isd_og_mou_8',\n",
       " 'spl_og_mou_6',\n",
       " 'spl_og_mou_7',\n",
       " 'spl_og_mou_8',\n",
       " 'og_others_6',\n",
       " 'og_others_7',\n",
       " 'og_others_8',\n",
       " 'total_og_mou_6',\n",
       " 'total_og_mou_7',\n",
       " 'total_og_mou_8',\n",
       " 'loc_ic_t2t_mou_6',\n",
       " 'loc_ic_t2t_mou_7',\n",
       " 'loc_ic_t2t_mou_8',\n",
       " 'loc_ic_t2m_mou_6',\n",
       " 'loc_ic_t2m_mou_7',\n",
       " 'loc_ic_t2m_mou_8',\n",
       " 'loc_ic_t2f_mou_6',\n",
       " 'loc_ic_t2f_mou_7',\n",
       " 'loc_ic_t2f_mou_8',\n",
       " 'loc_ic_mou_6',\n",
       " 'loc_ic_mou_7',\n",
       " 'loc_ic_mou_8',\n",
       " 'std_ic_t2t_mou_6',\n",
       " 'std_ic_t2t_mou_7',\n",
       " 'std_ic_t2t_mou_8',\n",
       " 'std_ic_t2m_mou_6',\n",
       " 'std_ic_t2m_mou_7',\n",
       " 'std_ic_t2m_mou_8',\n",
       " 'std_ic_t2f_mou_6',\n",
       " 'std_ic_t2f_mou_7',\n",
       " 'std_ic_t2f_mou_8',\n",
       " 'std_ic_mou_6',\n",
       " 'std_ic_mou_7',\n",
       " 'std_ic_mou_8',\n",
       " 'total_ic_mou_6',\n",
       " 'total_ic_mou_7',\n",
       " 'total_ic_mou_8',\n",
       " 'spl_ic_mou_6',\n",
       " 'spl_ic_mou_7',\n",
       " 'spl_ic_mou_8',\n",
       " 'isd_ic_mou_6',\n",
       " 'isd_ic_mou_7',\n",
       " 'isd_ic_mou_8',\n",
       " 'ic_others_6',\n",
       " 'ic_others_7',\n",
       " 'ic_others_8',\n",
       " 'total_rech_amt_6',\n",
       " 'total_rech_amt_7',\n",
       " 'total_rech_amt_8',\n",
       " 'max_rech_amt_6',\n",
       " 'max_rech_amt_7',\n",
       " 'max_rech_amt_8',\n",
       " 'last_day_rch_amt_6',\n",
       " 'last_day_rch_amt_7',\n",
       " 'last_day_rch_amt_8',\n",
       " 'total_rech_data_6',\n",
       " 'total_rech_data_7',\n",
       " 'total_rech_data_8',\n",
       " 'max_rech_data_6',\n",
       " 'max_rech_data_7',\n",
       " 'max_rech_data_8',\n",
       " 'vol_2g_mb_6',\n",
       " 'vol_2g_mb_7',\n",
       " 'vol_2g_mb_8',\n",
       " 'vol_3g_mb_6',\n",
       " 'vol_3g_mb_7',\n",
       " 'vol_3g_mb_8',\n",
       " 'monthly_2g_6',\n",
       " 'monthly_2g_7',\n",
       " 'monthly_2g_8',\n",
       " 'sachet_2g_6',\n",
       " 'sachet_2g_7',\n",
       " 'sachet_2g_8',\n",
       " 'monthly_3g_6',\n",
       " 'monthly_3g_7',\n",
       " 'monthly_3g_8',\n",
       " 'sachet_3g_6',\n",
       " 'sachet_3g_7',\n",
       " 'sachet_3g_8',\n",
       " 'aon',\n",
       " 'total_rech_data_amt_6',\n",
       " 'total_rech_data_amt_7',\n",
       " 'total_rech_data_amt_8',\n",
       " 'rech_days_left_6',\n",
       " 'rech_days_left_data_6',\n",
       " 'rech_days_left_7',\n",
       " 'rech_days_left_data_7',\n",
       " 'rech_days_left_8',\n",
       " 'rech_days_left_data_8',\n",
       " 'churn',\n",
       " 'night_pck_churn_6',\n",
       " 'night_pck_churn_7',\n",
       " 'night_pck_churn_8',\n",
       " 'fb_churn_6',\n",
       " 'fb_churn_7',\n",
       " 'fb_churn_8']"
      ]
     },
     "execution_count": 227,
     "metadata": {},
     "output_type": "execute_result"
    }
   ],
   "source": [
    "list(telecom)"
   ]
  },
  {
   "cell_type": "code",
   "execution_count": 229,
   "metadata": {
    "collapsed": true
   },
   "outputs": [],
   "source": [
    "X = telecom.drop(['churn'],axis=1)\n",
    "y = telecom['churn']"
   ]
  },
  {
   "cell_type": "code",
   "execution_count": 230,
   "metadata": {
    "collapsed": true
   },
   "outputs": [],
   "source": [
    "from sklearn.preprocessing import StandardScaler\n",
    "scaler = StandardScaler()\n",
    "X = scaler.fit_transform(X)"
   ]
  },
  {
   "cell_type": "code",
   "execution_count": 231,
   "metadata": {},
   "outputs": [
    {
     "name": "stdout",
     "output_type": "stream",
     "text": [
      "[[-0.45215443 -0.45840141 -0.41472461 ... -4.02600289 -4.00926634\n",
      "  -3.97201821]\n",
      " [ 0.05081583  0.20868857 -0.28688362 ... -4.02600289 -4.00926634\n",
      "  -3.97201821]\n",
      " [-0.31623125 -0.08244592 -0.52372996 ... -4.02600289 -4.00926634\n",
      "  -3.97201821]\n",
      " ...\n",
      " [-0.41766679 -0.34921562 -0.32481352 ...  0.20251344  0.12774223\n",
      "   0.0493752 ]\n",
      " [ 0.48485441  0.99892853  0.87385739 ...  0.20251344  0.12774223\n",
      "   0.0493752 ]\n",
      " [ 0.66982765 -0.06344718 -0.06658851 ...  0.20251344  0.12774223\n",
      "   0.0493752 ]]\n"
     ]
    }
   ],
   "source": [
    "print(X)"
   ]
  },
  {
   "cell_type": "code",
   "execution_count": 232,
   "metadata": {},
   "outputs": [
    {
     "name": "stdout",
     "output_type": "stream",
     "text": [
      "Feature space holds 28504 observations and 136 features\n",
      "Unique target labels: [0 1]\n"
     ]
    }
   ],
   "source": [
    "print (\"Feature space holds %d observations and %d features\" % X.shape)\n",
    "print (\"Unique target labels:\", np.unique(y))\n",
    "      "
   ]
  },
  {
   "cell_type": "code",
   "execution_count": 233,
   "metadata": {},
   "outputs": [
    {
     "name": "stdout",
     "output_type": "stream",
     "text": [
      "(28504, 136)\n"
     ]
    }
   ],
   "source": [
    "print(X.shape)"
   ]
  },
  {
   "cell_type": "code",
   "execution_count": 235,
   "metadata": {},
   "outputs": [
    {
     "name": "stdout",
     "output_type": "stream",
     "text": [
      "(28504, 2)\n",
      "[0 1]\n"
     ]
    },
    {
     "name": "stderr",
     "output_type": "stream",
     "text": [
      "C:\\Users\\bkumar5\\AppData\\Local\\Continuum\\Anaconda3\\lib\\site-packages\\sklearn\\utils\\__init__.py:93: FutureWarning: Conversion of the second argument of issubdtype from `int` to `np.signedinteger` is deprecated. In future, it will be treated as `np.int32 == np.dtype(int).type`.\n",
      "  if np.issubdtype(mask.dtype, np.int):\n"
     ]
    }
   ],
   "source": [
    "from sklearn.svm import LinearSVC\n",
    "from sklearn.feature_selection import SelectFromModel\n",
    " \n",
    "lsvc = LinearSVC(C=0.02, penalty=\"l1\", dual=False).fit(X,y)\n",
    "model = SelectFromModel(lsvc, prefit=True)\n",
    "X = model.transform(X)\n",
    "pos = model.get_support(indices=True)\n",
    " \n",
    "print(X.shape)\n",
    "print(pos)\n"
   ]
  },
  {
   "cell_type": "markdown",
   "metadata": {},
   "source": [
    "# applying smote"
   ]
  },
  {
   "cell_type": "code",
   "execution_count": 236,
   "metadata": {},
   "outputs": [
    {
     "name": "stdout",
     "output_type": "stream",
     "text": [
      "(53816, 2)\n",
      "(53816,)\n"
     ]
    },
    {
     "data": {
      "text/plain": [
       "26908"
      ]
     },
     "execution_count": 236,
     "metadata": {},
     "output_type": "execute_result"
    }
   ],
   "source": [
    "from imblearn.over_sampling import SMOTE\n",
    "sm = SMOTE(kind = \"regular\")\n",
    "X_tr,y_tr = sm.fit_sample(X,y)\n",
    "print(X_tr.shape)\n",
    "print(y_tr.shape)\n",
    "np.count_nonzero(y_tr)"
   ]
  },
  {
   "cell_type": "code",
   "execution_count": 237,
   "metadata": {},
   "outputs": [],
   "source": [
    "from sklearn.cross_validation import KFold\n",
    "\n",
    "def run_cv(X_tr,y_tr,clf_class,**kwargs):\n",
    "    # Construct a kfolds object\n",
    "    kf = KFold(len(y),n_folds=3,shuffle=True)\n",
    "    y_pred = y_tr.copy()\n",
    "    \n",
    "    # Iterate through folds\n",
    "    for train_index, test_index in kf:\n",
    "        X_train, X_test = X_tr[train_index], X_tr[test_index]\n",
    "        y_train = y_tr[train_index]\n",
    "        # Initialize a classifier with key word arguments\n",
    "        clf = clf_class(**kwargs)\n",
    "        clf.fit(X_train,y_train)\n",
    "        y_pred[test_index] = clf.predict(X_test)\n",
    "    return y_pred"
   ]
  },
  {
   "cell_type": "code",
   "execution_count": 238,
   "metadata": {},
   "outputs": [
    {
     "name": "stdout",
     "output_type": "stream",
     "text": [
      "Logistic Regression:\n",
      "1.000\n",
      "Gradient Boosting Classifier\n",
      "1.000\n",
      "Support vector machines:\n",
      "1.000\n",
      "Random forest:\n",
      "1.000\n",
      "K-nearest-neighbors:\n",
      "1.000\n",
      "decision tree:\n",
      "1.000\n"
     ]
    }
   ],
   "source": [
    "from sklearn.svm import SVC\n",
    "from sklearn.ensemble import RandomForestClassifier as RF\n",
    "from sklearn.neighbors import KNeighborsClassifier as KNN\n",
    "from sklearn.linear_model import LogisticRegression as LR\n",
    "from sklearn.ensemble import GradientBoostingClassifier as GBC\n",
    "from sklearn.tree import DecisionTreeClassifier as DT\n",
    "from sklearn import tree\n",
    "from sklearn.metrics import average_precision_score\n",
    "\n",
    "def accuracy(y_true,y_pred):\n",
    "    # NumPy interpretes True and False as 1. and 0.\n",
    "    return np.mean(y_true == y_pred)\n",
    "\n",
    "print (\"Logistic Regression:\")\n",
    "print (\"%.3f\" % accuracy(y, run_cv(X,y,LR)))\n",
    "print (\"Gradient Boosting Classifier\")\n",
    "print (\"%.3f\" % accuracy(y, run_cv(X,y,GBC)))\n",
    "print (\"Support vector machines:\")\n",
    "print (\"%.3f\" % accuracy(y, run_cv(X,y,SVC)))\n",
    "print (\"Random forest:\")\n",
    "print (\"%.3f\" % accuracy(y, run_cv(X,y,RF)))\n",
    "print (\"K-nearest-neighbors:\")\n",
    "print (\"%.3f\" % accuracy(y, run_cv(X,y,KNN)))\n",
    "print(\"decision tree:\")\n",
    "print (\"%.3f\" % accuracy(y, run_cv(X,y,DT)))"
   ]
  },
  {
   "cell_type": "code",
   "execution_count": 239,
   "metadata": {},
   "outputs": [
    {
     "name": "stdout",
     "output_type": "stream",
     "text": [
      "[[26908     0]\n",
      " [    0  1596]]\n"
     ]
    },
    {
     "data": {
      "image/png": "[encoded data removed]",
      "text/plain": [
       "<Figure size 432x288 with 2 Axes>"
      ]
     },
     "metadata": {},
     "output_type": "display_data"
    },
    {
     "name": "stdout",
     "output_type": "stream",
     "text": [
      "[[26908     0]\n",
      " [    0  1596]]\n"
     ]
    },
    {
     "data": {
      "image/png": "[encoded data removed]",
      "text/plain": [
       "<Figure size 432x288 with 2 Axes>"
      ]
     },
     "metadata": {},
     "output_type": "display_data"
    },
    {
     "name": "stdout",
     "output_type": "stream",
     "text": [
      "[[26908     0]\n",
      " [    0  1596]]\n"
     ]
    },
    {
     "data": {
      "image/png": "[encoded data removed]",
      "text/plain": [
       "<Figure size 432x288 with 2 Axes>"
      ]
     },
     "metadata": {},
     "output_type": "display_data"
    },
    {
     "name": "stdout",
     "output_type": "stream",
     "text": [
      "[[26908     0]\n",
      " [    0  1596]]\n"
     ]
    },
    {
     "data": {
      "image/png": "[encoded data removed]",
      "text/plain": [
       "<Figure size 432x288 with 2 Axes>"
      ]
     },
     "metadata": {},
     "output_type": "display_data"
    },
    {
     "name": "stdout",
     "output_type": "stream",
     "text": [
      "[[26908     0]\n",
      " [    0  1596]]\n"
     ]
    },
    {
     "data": {
      "image/png": "[encoded data removed]",
      "text/plain": [
       "<Figure size 432x288 with 2 Axes>"
      ]
     },
     "metadata": {},
     "output_type": "display_data"
    }
   ],
   "source": [
    "from sklearn.metrics import confusion_matrix\n",
    "from sklearn.metrics import precision_score\n",
    "from sklearn.metrics import recall_score\n",
    "import matplotlib.pyplot as plt\n",
    "def draw_confusion_matrices(confusion_matricies,class_names):\n",
    "    class_names = class_names.tolist()\n",
    "    for cm in confusion_matrices:\n",
    "        classifier, cm = cm[0], cm[1]\n",
    "        print(cm)\n",
    "        \n",
    "        fig = plt.figure()\n",
    "        ax = fig.add_subplot(111)\n",
    "        cax = ax.matshow(cm)\n",
    "        plt.title('Confusion matrix for %s' % classifier)\n",
    "        fig.colorbar(cax)\n",
    "        ax.set_xticklabels([''] + class_names)\n",
    "        ax.set_yticklabels([''] + class_names)\n",
    "        plt.xlabel('Predicted')\n",
    "        plt.ylabel('True')\n",
    "        plt.show()\n",
    "    \n",
    "y = np.array(y)\n",
    "class_names = np.unique(y)\n",
    "\n",
    "confusion_matrices = [\n",
    "    ( \"Support Vector Machines\", confusion_matrix(y,run_cv(X,y,SVC)) ),\n",
    "    ( \"Random Forest\", confusion_matrix(y,run_cv(X,y,RF)) ),\n",
    "    ( \"K-Nearest-Neighbors\", confusion_matrix(y,run_cv(X,y,KNN)) ),\n",
    "    ( \"Gradient Boosting Classifier\", confusion_matrix(y,run_cv(X,y,GBC)) ),\n",
    "    ( \"Logisitic Regression\", confusion_matrix(y,run_cv(X,y,LR)) )\n",
    "]\n",
    "\n",
    "# Pyplot code not included to reduce clutter\n",
    "# from churn_display import draw_confusion_matrices\n",
    "%matplotlib inline\n",
    "\n",
    "draw_confusion_matrices(confusion_matrices,class_names)"
   ]
  },
  {
   "cell_type": "code",
   "execution_count": 243,
   "metadata": {},
   "outputs": [
    {
     "name": "stdout",
     "output_type": "stream",
     "text": [
      "Support vector machines:\n"
     ]
    },
    {
     "data": {
      "image/png": "[encoded data removed]",
      "text/plain": [
       "<Figure size 432x288 with 1 Axes>"
      ]
     },
     "metadata": {},
     "output_type": "display_data"
    },
    {
     "name": "stdout",
     "output_type": "stream",
     "text": [
      "Random forests:\n"
     ]
    },
    {
     "data": {
      "image/png": "[encoded data removed]",
      "text/plain": [
       "<Figure size 432x288 with 1 Axes>"
      ]
     },
     "metadata": {},
     "output_type": "display_data"
    },
    {
     "name": "stdout",
     "output_type": "stream",
     "text": [
      "K-nearest-neighbors:\n"
     ]
    },
    {
     "data": {
      "image/png": "[encoded data removed]",
      "text/plain": [
       "<Figure size 432x288 with 1 Axes>"
      ]
     },
     "metadata": {},
     "output_type": "display_data"
    },
    {
     "name": "stdout",
     "output_type": "stream",
     "text": [
      "Gradient Boosting Classifier:\n"
     ]
    },
    {
     "data": {
      "image/png": "[encoded data removed]",
      "text/plain": [
       "<Figure size 432x288 with 1 Axes>"
      ]
     },
     "metadata": {},
     "output_type": "display_data"
    },
    {
     "name": "stdout",
     "output_type": "stream",
     "text": [
      "Decision Tree Classifier:\n"
     ]
    },
    {
     "data": {
      "image/png": "[encoded data removed]",
      "text/plain": [
       "<Figure size 432x288 with 1 Axes>"
      ]
     },
     "metadata": {},
     "output_type": "display_data"
    }
   ],
   "source": [
    "from sklearn.metrics import roc_curve, auc\n",
    "from scipy import interp\n",
    "\n",
    "def plot_roc(X, y, clf_class, **kwargs):\n",
    "    kf = KFold(len(y), n_folds=5, shuffle=True)\n",
    "    y_prob = np.zeros((len(y),2))\n",
    "    mean_tpr = 0.0\n",
    "    mean_fpr = np.linspace(0, 1, 100)\n",
    "    all_tpr = []\n",
    "    for i, (train_index, test_index) in enumerate(kf):\n",
    "        X_train, X_test = X[train_index], X[test_index]\n",
    "        y_train = y[train_index]\n",
    "        clf = clf_class(**kwargs)\n",
    "        clf.fit(X_train,y_train)\n",
    "        # Predict probabilities, not classes\n",
    "        y_prob[test_index] = clf.predict_proba(X_test)\n",
    "        fpr, tpr, thresholds = roc_curve(y[test_index], y_prob[test_index, 1])\n",
    "        mean_tpr += interp(mean_fpr, fpr, tpr)\n",
    "        mean_tpr[0] = 0.0\n",
    "        roc_auc = auc(fpr, tpr)\n",
    "        plt.plot(fpr, tpr, lw=1, label='ROC fold %d (area = %0.2f)' % (i, roc_auc))\n",
    "    mean_tpr /= len(kf)\n",
    "    mean_tpr[-1] = 1.0\n",
    "    mean_auc = auc(mean_fpr, mean_tpr)\n",
    "    plt.plot(mean_fpr, mean_tpr, 'k--',label='Mean ROC (area = %0.2f)' % mean_auc, lw=2)\n",
    "    \n",
    "    plt.plot([0, 1], [0, 1], '--', color=(0.6, 0.6, 0.6), label='Random')\n",
    "    plt.xlim([-0.05, 1.05])\n",
    "    plt.ylim([-0.05, 1.05])\n",
    "    plt.xlabel('False Positive Rate')\n",
    "    plt.ylabel('True Positive Rate')\n",
    "    plt.title('Receiver operating characteristic')\n",
    "    plt.legend(loc=\"lower right\")\n",
    "    plt.show()\n",
    "      \n",
    "\n",
    "print (\"Support vector machines:\")\n",
    "plot_roc(X,y,SVC,probability=True)\n",
    "\n",
    "print (\"Random forests:\")\n",
    "plot_roc(X,y,RF,n_estimators=18)\n",
    "\n",
    "print(\"K-nearest-neighbors:\")\n",
    "plot_roc(X,y,KNN)\n",
    "\n",
    "print (\"Gradient Boosting Classifier:\")\n",
    "plot_roc(X,y,GBC)\n",
    "\n",
    "print (\"Decision Tree Classifier:\")\n",
    "plot_roc(X,y,DT)"
   ]
  },
  {
   "cell_type": "markdown",
   "metadata": {},
   "source": [
    "# applying decision tree"
   ]
  },
  {
   "cell_type": "code",
   "execution_count": 205,
   "metadata": {},
   "outputs": [
    {
     "data": {
      "text/plain": [
       "DecisionTreeClassifier(class_weight=None, criterion='gini', max_depth=5,\n",
       "            max_features=None, max_leaf_nodes=None,\n",
       "            min_impurity_decrease=0.0, min_impurity_split=None,\n",
       "            min_samples_leaf=1, min_samples_split=2,\n",
       "            min_weight_fraction_leaf=0.0, presort=False, random_state=None,\n",
       "            splitter='best')"
      ]
     },
     "execution_count": 205,
     "metadata": {},
     "output_type": "execute_result"
    }
   ],
   "source": [
    "# Importing decision tree classifier from sklearn library\n",
    "from sklearn.tree import DecisionTreeClassifier\n",
    "from sklearn import tree\n",
    "\n",
    "# Fitting the decision tree with default hyperparameters, apart from\n",
    "# max_depth which is 5 so that we can plot and read the tree.\n",
    "dt_default = DecisionTreeClassifier(max_depth=5)\n",
    "dt_default.fit(X_train, y_train)"
   ]
  },
  {
   "cell_type": "code",
   "execution_count": 206,
   "metadata": {},
   "outputs": [
    {
     "name": "stdout",
     "output_type": "stream",
     "text": [
      "             precision    recall  f1-score   support\n",
      "\n",
      "          0       1.00      1.00      1.00      8042\n",
      "          1       1.00      1.00      1.00      8103\n",
      "\n",
      "avg / total       1.00      1.00      1.00     16145\n",
      "\n",
      "[0 0 1 ... 0 1 1]\n",
      "[0 0 1 ... 0 1 1]\n"
     ]
    }
   ],
   "source": [
    "# Let's check the evaluation metrics of our default model\n",
    "\n",
    "# Importing classification report and confusion matrix from sklearn metrics\n",
    "from sklearn.metrics import classification_report, confusion_matrix, accuracy_score\n",
    "\n",
    "# Making predictions\n",
    "y_pred_default = dt_default.predict(X_test)\n",
    "\n",
    "# Printing classification report\n",
    "print(classification_report(y_test, y_pred_default))\n",
    "\n",
    "print(y_pred_default)\n",
    "print(y_test)\n"
   ]
  },
  {
   "cell_type": "markdown",
   "metadata": {},
   "source": [
    "\n",
    "# feature extraction using lasso"
   ]
  },
  {
   "cell_type": "code",
   "execution_count": 207,
   "metadata": {},
   "outputs": [
    {
     "name": "stdout",
     "output_type": "stream",
     "text": [
      "(37671, 6)\n",
      "[130 131 132 133 134 135]\n",
      "(16145, 6)\n"
     ]
    },
    {
     "name": "stderr",
     "output_type": "stream",
     "text": [
      "C:\\Users\\bkumar5\\AppData\\Local\\Continuum\\Anaconda3\\lib\\site-packages\\sklearn\\utils\\__init__.py:93: FutureWarning: Conversion of the second argument of issubdtype from `int` to `np.signedinteger` is deprecated. In future, it will be treated as `np.int32 == np.dtype(int).type`.\n",
      "  if np.issubdtype(mask.dtype, np.int):\n"
     ]
    }
   ],
   "source": [
    "from sklearn.svm import LinearSVC\n",
    "from sklearn.feature_selection import SelectFromModel\n",
    " \n",
    "lsvc = LinearSVC(C=0.02, penalty=\"l1\", dual=False).fit(X_train,y_train)\n",
    "model = SelectFromModel(lsvc, prefit=True)\n",
    "X_train_transformed = model.transform(X_train)\n",
    "pos = model.get_support(indices=True)\n",
    " \n",
    "print(X_train_transformed.shape)\n",
    "print(pos)\n",
    " \n",
    "X_test_transformed = model.transform(X_test)\n",
    "print(X_test_transformed.shape) \n"
   ]
  },
  {
   "cell_type": "code",
   "execution_count": 208,
   "metadata": {},
   "outputs": [
    {
     "name": "stdout",
     "output_type": "stream",
     "text": [
      "(37732, 6)\n",
      "(37732,)\n"
     ]
    },
    {
     "data": {
      "text/plain": [
       "18866"
      ]
     },
     "execution_count": 208,
     "metadata": {},
     "output_type": "execute_result"
    }
   ],
   "source": [
    "# Splitting the data into train and test\n",
    "from sklearn.model_selection import train_test_split\n",
    "from imblearn.over_sampling import SMOTE\n",
    "X = X_train_transformed  #telecom.drop(['churn'],axis=1)\n",
    "y = y_train  #telecom['churn']\n",
    "sm = SMOTE(kind = \"regular\")\n",
    "X_tr,y_tr = sm.fit_sample(X,y)\n",
    "print(X_tr.shape)\n",
    "print(y_tr.shape)\n",
    "np.count_nonzero(y_tr)\n"
   ]
  },
  {
   "cell_type": "markdown",
   "metadata": {},
   "source": [
    "# applying decision tree after lasso"
   ]
  },
  {
   "cell_type": "code",
   "execution_count": 209,
   "metadata": {},
   "outputs": [
    {
     "data": {
      "text/plain": [
       "DecisionTreeClassifier(class_weight=None, criterion='gini', max_depth=5,\n",
       "            max_features=None, max_leaf_nodes=None,\n",
       "            min_impurity_decrease=0.0, min_impurity_split=None,\n",
       "            min_samples_leaf=1, min_samples_split=2,\n",
       "            min_weight_fraction_leaf=0.0, presort=False, random_state=None,\n",
       "            splitter='best')"
      ]
     },
     "execution_count": 209,
     "metadata": {},
     "output_type": "execute_result"
    }
   ],
   "source": [
    "# Importing decision tree classifier from sklearn library\n",
    "from sklearn.tree import DecisionTreeClassifier\n",
    "from sklearn import tree\n",
    "\n",
    "# Fitting the decision tree with default hyperparameters, apart from\n",
    "# max_depth which is 5 so that we can plot and read the tree.\n",
    "dt_default = DecisionTreeClassifier(max_depth=5)\n",
    "dt_default.fit(X_train_transformed, y_train)"
   ]
  },
  {
   "cell_type": "code",
   "execution_count": 210,
   "metadata": {},
   "outputs": [
    {
     "name": "stdout",
     "output_type": "stream",
     "text": [
      "             precision    recall  f1-score   support\n",
      "\n",
      "          0       1.00      1.00      1.00      8042\n",
      "          1       1.00      1.00      1.00      8103\n",
      "\n",
      "avg / total       1.00      1.00      1.00     16145\n",
      "\n",
      "[0 0 1 ... 0 1 1]\n",
      "[0 0 1 ... 0 1 1]\n"
     ]
    }
   ],
   "source": [
    "# Let's check the evaluation metrics of our default model\n",
    "\n",
    "# Importing classification report and confusion matrix from sklearn metrics\n",
    "from sklearn.metrics import classification_report, confusion_matrix, accuracy_score\n",
    "\n",
    "# Making predictions\n",
    "y_pred_default = dt_default.predict(X_test_transformed)\n",
    "\n",
    "# Printing classification report\n",
    "print(classification_report(y_test, y_pred_default))\n",
    "\n",
    "print(y_pred_default)\n",
    "print(y_test)\n"
   ]
  },
  {
   "cell_type": "code",
   "execution_count": 211,
   "metadata": {},
   "outputs": [
    {
     "name": "stdout",
     "output_type": "stream",
     "text": [
      "[[8042    0]\n",
      " [   0 8103]]\n"
     ]
    }
   ],
   "source": [
    "# Printing confusion matrix\n",
    "print(confusion_matrix(y_test,y_pred_default))"
   ]
  },
  {
   "cell_type": "code",
   "execution_count": 212,
   "metadata": {},
   "outputs": [
    {
     "name": "stdout",
     "output_type": "stream",
     "text": [
      "1.0\n"
     ]
    }
   ],
   "source": [
    "print(accuracy_score(y_test,y_pred_default))"
   ]
  },
  {
   "cell_type": "markdown",
   "metadata": {
    "collapsed": true
   },
   "source": [
    "# applying default random forest after lasso"
   ]
  },
  {
   "cell_type": "code",
   "execution_count": 213,
   "metadata": {
    "collapsed": true
   },
   "outputs": [],
   "source": [
    "# Importing random forest classifier from sklearn library\n",
    "from sklearn.ensemble import RandomForestClassifier\n",
    "\n",
    "# Running the random forest with default parameters.\n",
    "rfc = RandomForestClassifier()"
   ]
  },
  {
   "cell_type": "code",
   "execution_count": 214,
   "metadata": {},
   "outputs": [
    {
     "data": {
      "text/plain": [
       "RandomForestClassifier(bootstrap=True, class_weight=None, criterion='gini',\n",
       "            max_depth=None, max_features='auto', max_leaf_nodes=None,\n",
       "            min_impurity_decrease=0.0, min_impurity_split=None,\n",
       "            min_samples_leaf=1, min_samples_split=2,\n",
       "            min_weight_fraction_leaf=0.0, n_estimators=10, n_jobs=1,\n",
       "            oob_score=False, random_state=None, verbose=0,\n",
       "            warm_start=False)"
      ]
     },
     "execution_count": 214,
     "metadata": {},
     "output_type": "execute_result"
    }
   ],
   "source": [
    "# fit\n",
    "#rfc.fit(X_train_transformed,y_train)\n",
    "rfc.fit(X_tr,y_tr)"
   ]
  },
  {
   "cell_type": "code",
   "execution_count": 215,
   "metadata": {
    "collapsed": true
   },
   "outputs": [],
   "source": [
    "# Making predictions\n",
    "predictions = rfc.predict(X_test_transformed)"
   ]
  },
  {
   "cell_type": "code",
   "execution_count": 216,
   "metadata": {},
   "outputs": [
    {
     "name": "stdout",
     "output_type": "stream",
     "text": [
      "             precision    recall  f1-score   support\n",
      "\n",
      "          0       1.00      1.00      1.00      8042\n",
      "          1       1.00      1.00      1.00      8103\n",
      "\n",
      "avg / total       1.00      1.00      1.00     16145\n",
      "\n"
     ]
    }
   ],
   "source": [
    "# Let's check the report of our default model\n",
    "from sklearn.metrics import classification_report, confusion_matrix, accuracy_score\n",
    "print(classification_report(y_test,predictions))"
   ]
  },
  {
   "cell_type": "code",
   "execution_count": 217,
   "metadata": {},
   "outputs": [
    {
     "name": "stdout",
     "output_type": "stream",
     "text": [
      "[[8042    0]\n",
      " [   0 8103]]\n"
     ]
    }
   ],
   "source": [
    "# Printing confusion matrix\n",
    "print(confusion_matrix(y_test,predictions))"
   ]
  },
  {
   "cell_type": "code",
   "execution_count": 218,
   "metadata": {},
   "outputs": [
    {
     "name": "stdout",
     "output_type": "stream",
     "text": [
      "1.0\n"
     ]
    }
   ],
   "source": [
    "print(accuracy_score(y_test,predictions))"
   ]
  },
  {
   "cell_type": "markdown",
   "metadata": {},
   "source": [
    "# applying PCA and Logistic regression after lasso"
   ]
  },
  {
   "cell_type": "code",
   "execution_count": 179,
   "metadata": {},
   "outputs": [
    {
     "data": {
      "text/plain": [
       "PCA(copy=True, iterated_power='auto', n_components=None, random_state=100,\n",
       "  svd_solver='auto', tol=0.0, whiten=False)"
      ]
     },
     "execution_count": 179,
     "metadata": {},
     "output_type": "execute_result"
    }
   ],
   "source": [
    "#Improting the PCA module\n",
    "from sklearn.decomposition import PCA\n",
    "pca = PCA(random_state=100)\n",
    "\n",
    "#Doing the PCA on the train data\n",
    "pca.fit(X_tr)"
   ]
  },
  {
   "cell_type": "code",
   "execution_count": 180,
   "metadata": {},
   "outputs": [
    {
     "data": {
      "text/plain": [
       "array([11.3 , 21.19, 27.49, 33.15, 36.99, 40.67, 44.17, 47.01, 49.62,\n",
       "       52.2 , 54.43, 56.51, 58.57, 60.49, 62.3 , 64.09, 65.82, 67.51,\n",
       "       69.17, 70.72, 72.25, 73.75, 75.22, 76.62, 78.02, 79.32, 80.53,\n",
       "       81.71, 82.87, 83.97, 85.02, 86.05, 87.07, 87.99, 88.84, 89.65,\n",
       "       90.41, 91.17, 91.9 , 92.56, 93.16, 93.75, 94.33, 94.84, 95.34,\n",
       "       95.83, 96.28, 96.71, 97.13, 97.53, 97.88, 98.22, 98.54, 98.82,\n",
       "       99.05, 99.26, 99.41, 99.55, 99.69, 99.82, 99.9 , 99.97, 99.99])"
      ]
     },
     "execution_count": 180,
     "metadata": {},
     "output_type": "execute_result"
    }
   ],
   "source": [
    "np.cumsum(np.round(pca.explained_variance_ratio_, decimals=4)*100)"
   ]
  },
  {
   "cell_type": "code",
   "execution_count": 181,
   "metadata": {},
   "outputs": [
    {
     "name": "stdout",
     "output_type": "stream",
     "text": [
      "(26424, 63)\n",
      "(11290, 63)\n"
     ]
    }
   ],
   "source": [
    "df_train_pca = pca.fit_transform(X_tr)\n",
    "print(df_train_pca.shape)\n",
    "\n",
    "df_test_pca = pca.transform(X_test_transformed)\n",
    "print(df_test_pca.shape)"
   ]
  },
  {
   "cell_type": "code",
   "execution_count": 201,
   "metadata": {
    "collapsed": true
   },
   "outputs": [],
   "source": [
    "# Let's run the model using the selected variables\n",
    "from sklearn.linear_model import LogisticRegression\n",
    "from sklearn import metrics\n",
    "logsk = LogisticRegression(C=1e9)\n",
    "#logsk.fit(X_train[col], y_train)\n",
    "logsk.fit(df_train_pca, y_tr)\n",
    "\n",
    "#predict()\n",
    "# Predicted probabilities\n",
    "y_pred = logsk.predict(df_test_pca)\n",
    "# Converting y_pred to a dataframe which is an array\n",
    "y_pred_df = pd.DataFrame(y_pred)"
   ]
  },
  {
   "cell_type": "code",
   "execution_count": 202,
   "metadata": {},
   "outputs": [
    {
     "name": "stdout",
     "output_type": "stream",
     "text": [
      "[[4624  980]\n",
      " [ 793 4893]]\n"
     ]
    }
   ],
   "source": [
    "# Printing confusion matrix\n",
    "print(confusion_matrix(y_test,y_pred))"
   ]
  },
  {
   "cell_type": "code",
   "execution_count": 204,
   "metadata": {},
   "outputs": [
    {
     "name": "stdout",
     "output_type": "stream",
     "text": [
      "0.8429583702391497\n"
     ]
    }
   ],
   "source": [
    "print(accuracy_score(y_test,y_pred))"
   ]
  },
  {
   "cell_type": "code",
   "execution_count": 205,
   "metadata": {},
   "outputs": [
    {
     "name": "stdout",
     "output_type": "stream",
     "text": [
      "0.15704162976085032\n",
      "0.3718003421002486\n"
     ]
    }
   ],
   "source": [
    "r_squared = r2_score(y_test, y_pred)\n",
    "\n",
    "mse = mean_squared_error(y_test, y_pred)\n",
    "\n",
    "print(mse)\n",
    "\n",
    "print(r_squared)"
   ]
  },
  {
   "cell_type": "code",
   "execution_count": 61,
   "metadata": {},
   "outputs": [
    {
     "data": {
      "text/plain": [
       "GridSearchCV(cv=5, error_score='raise',\n",
       "       estimator=RandomForestClassifier(bootstrap=True, class_weight=None, criterion='gini',\n",
       "            max_depth=None, max_features='auto', max_leaf_nodes=None,\n",
       "            min_impurity_decrease=0.0, min_impurity_split=None,\n",
       "            min_samples_leaf=1, min_samples_split=2,\n",
       "            min_weight_fraction_leaf=0.0, n_estimators=10, n_jobs=1,\n",
       "            oob_score=False, random_state=None, verbose=0,\n",
       "            warm_start=False),\n",
       "       fit_params=None, iid=True, n_jobs=1,\n",
       "       param_grid={'max_depth': range(2, 20, 5)}, pre_dispatch='2*n_jobs',\n",
       "       refit=True, return_train_score=True, scoring='accuracy', verbose=0)"
      ]
     },
     "execution_count": 61,
     "metadata": {},
     "output_type": "execute_result"
    }
   ],
   "source": [
    "# GridSearchCV to find optimal n_estimators\n",
    "from sklearn.model_selection import KFold\n",
    "from sklearn.model_selection import GridSearchCV\n",
    "\n",
    "\n",
    "# specify number of folds for k-fold CV\n",
    "n_folds = 5\n",
    "\n",
    "# parameters to build the model on\n",
    "parameters = {'max_depth': range(2, 20, 5)}\n",
    "\n",
    "# instantiate the model\n",
    "rf = RandomForestClassifier()\n",
    "\n",
    "\n",
    "# fit tree on training data\n",
    "rf = GridSearchCV(rf, parameters, \n",
    "                    cv=n_folds, \n",
    "                   scoring=\"accuracy\")\n",
    "rf.fit(X_train_transformed, y_train)"
   ]
  },
  {
   "cell_type": "code",
   "execution_count": 62,
   "metadata": {},
   "outputs": [
    {
     "data": {
      "text/html": [
       "<div>\n",
       "<style>\n",
       "    .dataframe thead tr:only-child th {\n",
       "        text-align: right;\n",
       "    }\n",
       "\n",
       "    .dataframe thead th {\n",
       "        text-align: left;\n",
       "    }\n",
       "\n",
       "    .dataframe tbody tr th {\n",
       "        vertical-align: top;\n",
       "    }\n",
       "</style>\n",
       "<table border=\"1\" class=\"dataframe\">\n",
       "  <thead>\n",
       "    <tr style=\"text-align: right;\">\n",
       "      <th></th>\n",
       "      <th>mean_fit_time</th>\n",
       "      <th>mean_score_time</th>\n",
       "      <th>mean_test_score</th>\n",
       "      <th>mean_train_score</th>\n",
       "      <th>param_max_depth</th>\n",
       "      <th>params</th>\n",
       "      <th>rank_test_score</th>\n",
       "      <th>split0_test_score</th>\n",
       "      <th>split0_train_score</th>\n",
       "      <th>split1_test_score</th>\n",
       "      <th>...</th>\n",
       "      <th>split2_test_score</th>\n",
       "      <th>split2_train_score</th>\n",
       "      <th>split3_test_score</th>\n",
       "      <th>split3_train_score</th>\n",
       "      <th>split4_test_score</th>\n",
       "      <th>split4_train_score</th>\n",
       "      <th>std_fit_time</th>\n",
       "      <th>std_score_time</th>\n",
       "      <th>std_test_score</th>\n",
       "      <th>std_train_score</th>\n",
       "    </tr>\n",
       "  </thead>\n",
       "  <tbody>\n",
       "    <tr>\n",
       "      <th>0</th>\n",
       "      <td>0.48</td>\n",
       "      <td>0.02</td>\n",
       "      <td>1.00</td>\n",
       "      <td>1.00</td>\n",
       "      <td>2</td>\n",
       "      <td>{'max_depth': 2}</td>\n",
       "      <td>4</td>\n",
       "      <td>1.00</td>\n",
       "      <td>1.00</td>\n",
       "      <td>1.00</td>\n",
       "      <td>...</td>\n",
       "      <td>1.00</td>\n",
       "      <td>1.00</td>\n",
       "      <td>1.00</td>\n",
       "      <td>1.00</td>\n",
       "      <td>1.00</td>\n",
       "      <td>1.00</td>\n",
       "      <td>0.05</td>\n",
       "      <td>0.00</td>\n",
       "      <td>0.00</td>\n",
       "      <td>0.00</td>\n",
       "    </tr>\n",
       "    <tr>\n",
       "      <th>1</th>\n",
       "      <td>0.67</td>\n",
       "      <td>0.02</td>\n",
       "      <td>1.00</td>\n",
       "      <td>1.00</td>\n",
       "      <td>7</td>\n",
       "      <td>{'max_depth': 7}</td>\n",
       "      <td>1</td>\n",
       "      <td>1.00</td>\n",
       "      <td>1.00</td>\n",
       "      <td>1.00</td>\n",
       "      <td>...</td>\n",
       "      <td>1.00</td>\n",
       "      <td>1.00</td>\n",
       "      <td>1.00</td>\n",
       "      <td>1.00</td>\n",
       "      <td>1.00</td>\n",
       "      <td>1.00</td>\n",
       "      <td>0.07</td>\n",
       "      <td>0.01</td>\n",
       "      <td>0.00</td>\n",
       "      <td>0.00</td>\n",
       "    </tr>\n",
       "    <tr>\n",
       "      <th>2</th>\n",
       "      <td>0.63</td>\n",
       "      <td>0.02</td>\n",
       "      <td>1.00</td>\n",
       "      <td>1.00</td>\n",
       "      <td>12</td>\n",
       "      <td>{'max_depth': 12}</td>\n",
       "      <td>1</td>\n",
       "      <td>1.00</td>\n",
       "      <td>1.00</td>\n",
       "      <td>1.00</td>\n",
       "      <td>...</td>\n",
       "      <td>1.00</td>\n",
       "      <td>1.00</td>\n",
       "      <td>1.00</td>\n",
       "      <td>1.00</td>\n",
       "      <td>1.00</td>\n",
       "      <td>1.00</td>\n",
       "      <td>0.10</td>\n",
       "      <td>0.00</td>\n",
       "      <td>0.00</td>\n",
       "      <td>0.00</td>\n",
       "    </tr>\n",
       "    <tr>\n",
       "      <th>3</th>\n",
       "      <td>0.67</td>\n",
       "      <td>0.02</td>\n",
       "      <td>1.00</td>\n",
       "      <td>1.00</td>\n",
       "      <td>17</td>\n",
       "      <td>{'max_depth': 17}</td>\n",
       "      <td>1</td>\n",
       "      <td>1.00</td>\n",
       "      <td>1.00</td>\n",
       "      <td>1.00</td>\n",
       "      <td>...</td>\n",
       "      <td>1.00</td>\n",
       "      <td>1.00</td>\n",
       "      <td>1.00</td>\n",
       "      <td>1.00</td>\n",
       "      <td>1.00</td>\n",
       "      <td>1.00</td>\n",
       "      <td>0.03</td>\n",
       "      <td>0.00</td>\n",
       "      <td>0.00</td>\n",
       "      <td>0.00</td>\n",
       "    </tr>\n",
       "  </tbody>\n",
       "</table>\n",
       "<p>4 rows × 21 columns</p>\n",
       "</div>"
      ],
      "text/plain": [
       "   mean_fit_time  mean_score_time  mean_test_score  mean_train_score  \\\n",
       "0           0.48             0.02             1.00              1.00   \n",
       "1           0.67             0.02             1.00              1.00   \n",
       "2           0.63             0.02             1.00              1.00   \n",
       "3           0.67             0.02             1.00              1.00   \n",
       "\n",
       "  param_max_depth             params  rank_test_score  split0_test_score  \\\n",
       "0               2   {'max_depth': 2}                4               1.00   \n",
       "1               7   {'max_depth': 7}                1               1.00   \n",
       "2              12  {'max_depth': 12}                1               1.00   \n",
       "3              17  {'max_depth': 17}                1               1.00   \n",
       "\n",
       "   split0_train_score  split1_test_score       ...         split2_test_score  \\\n",
       "0                1.00               1.00       ...                      1.00   \n",
       "1                1.00               1.00       ...                      1.00   \n",
       "2                1.00               1.00       ...                      1.00   \n",
       "3                1.00               1.00       ...                      1.00   \n",
       "\n",
       "   split2_train_score  split3_test_score  split3_train_score  \\\n",
       "0                1.00               1.00                1.00   \n",
       "1                1.00               1.00                1.00   \n",
       "2                1.00               1.00                1.00   \n",
       "3                1.00               1.00                1.00   \n",
       "\n",
       "   split4_test_score  split4_train_score  std_fit_time  std_score_time  \\\n",
       "0               1.00                1.00          0.05            0.00   \n",
       "1               1.00                1.00          0.07            0.01   \n",
       "2               1.00                1.00          0.10            0.00   \n",
       "3               1.00                1.00          0.03            0.00   \n",
       "\n",
       "   std_test_score  std_train_score  \n",
       "0            0.00             0.00  \n",
       "1            0.00             0.00  \n",
       "2            0.00             0.00  \n",
       "3            0.00             0.00  \n",
       "\n",
       "[4 rows x 21 columns]"
      ]
     },
     "execution_count": 62,
     "metadata": {},
     "output_type": "execute_result"
    }
   ],
   "source": [
    "# scores of GridSearch CV\n",
    "scores = rf.cv_results_\n",
    "pd.DataFrame(scores).head()"
   ]
  },
  {
   "cell_type": "code",
   "execution_count": 63,
   "metadata": {},
   "outputs": [
    {
     "data": {
      "image/png": "[encoded data removed]",
      "text/plain": [
       "<Figure size 576x396 with 1 Axes>"
      ]
     },
     "metadata": {},
     "output_type": "display_data"
    }
   ],
   "source": [
    "# plotting accuracies with max_depth\n",
    "plt.figure()\n",
    "plt.plot(scores[\"param_max_depth\"], \n",
    "         scores[\"mean_train_score\"], \n",
    "         label=\"training accuracy\")\n",
    "plt.plot(scores[\"param_max_depth\"], \n",
    "         scores[\"mean_test_score\"], \n",
    "         label=\"test accuracy\")\n",
    "plt.xlabel(\"max_depth\")\n",
    "plt.ylabel(\"Accuracy\")\n",
    "plt.legend()\n",
    "plt.show()\n"
   ]
  },
  {
   "cell_type": "code",
   "execution_count": 64,
   "metadata": {},
   "outputs": [
    {
     "data": {
      "text/plain": [
       "GridSearchCV(cv=5, error_score='raise',\n",
       "       estimator=RandomForestClassifier(bootstrap=True, class_weight=None, criterion='gini',\n",
       "            max_depth=7, max_features='auto', max_leaf_nodes=None,\n",
       "            min_impurity_decrease=0.0, min_impurity_split=None,\n",
       "            min_samples_leaf=1, min_samples_split=2,\n",
       "            min_weight_fraction_leaf=0.0, n_estimators=10, n_jobs=1,\n",
       "            oob_score=False, random_state=None, verbose=0,\n",
       "            warm_start=False),\n",
       "       fit_params=None, iid=True, n_jobs=1,\n",
       "       param_grid={'n_estimators': range(100, 1500, 400)},\n",
       "       pre_dispatch='2*n_jobs', refit=True, return_train_score=True,\n",
       "       scoring='accuracy', verbose=0)"
      ]
     },
     "execution_count": 64,
     "metadata": {},
     "output_type": "execute_result"
    }
   ],
   "source": [
    "# GridSearchCV to find optimal n_estimators\n",
    "from sklearn.model_selection import KFold\n",
    "from sklearn.model_selection import GridSearchCV\n",
    "\n",
    "\n",
    "# specify number of folds for k-fold CV\n",
    "n_folds = 5\n",
    "\n",
    "# parameters to build the model on\n",
    "parameters = {'n_estimators': range(100, 1500, 400)}\n",
    "\n",
    "# instantiate the model (note we are specifying a max_depth)\n",
    "rf = RandomForestClassifier(max_depth=7)\n",
    "\n",
    "\n",
    "# fit tree on training data\n",
    "rf = GridSearchCV(rf, parameters, \n",
    "                    cv=n_folds, \n",
    "                   scoring=\"accuracy\")\n",
    "rf.fit(X_train_transformed, y_train)"
   ]
  },
  {
   "cell_type": "code",
   "execution_count": 65,
   "metadata": {},
   "outputs": [
    {
     "data": {
      "text/html": [
       "<div>\n",
       "<style>\n",
       "    .dataframe thead tr:only-child th {\n",
       "        text-align: right;\n",
       "    }\n",
       "\n",
       "    .dataframe thead th {\n",
       "        text-align: left;\n",
       "    }\n",
       "\n",
       "    .dataframe tbody tr th {\n",
       "        vertical-align: top;\n",
       "    }\n",
       "</style>\n",
       "<table border=\"1\" class=\"dataframe\">\n",
       "  <thead>\n",
       "    <tr style=\"text-align: right;\">\n",
       "      <th></th>\n",
       "      <th>mean_fit_time</th>\n",
       "      <th>mean_score_time</th>\n",
       "      <th>mean_test_score</th>\n",
       "      <th>mean_train_score</th>\n",
       "      <th>param_n_estimators</th>\n",
       "      <th>params</th>\n",
       "      <th>rank_test_score</th>\n",
       "      <th>split0_test_score</th>\n",
       "      <th>split0_train_score</th>\n",
       "      <th>split1_test_score</th>\n",
       "      <th>...</th>\n",
       "      <th>split2_test_score</th>\n",
       "      <th>split2_train_score</th>\n",
       "      <th>split3_test_score</th>\n",
       "      <th>split3_train_score</th>\n",
       "      <th>split4_test_score</th>\n",
       "      <th>split4_train_score</th>\n",
       "      <th>std_fit_time</th>\n",
       "      <th>std_score_time</th>\n",
       "      <th>std_test_score</th>\n",
       "      <th>std_train_score</th>\n",
       "    </tr>\n",
       "  </thead>\n",
       "  <tbody>\n",
       "    <tr>\n",
       "      <th>0</th>\n",
       "      <td>6.16</td>\n",
       "      <td>0.11</td>\n",
       "      <td>1.00</td>\n",
       "      <td>1.00</td>\n",
       "      <td>100</td>\n",
       "      <td>{'n_estimators': 100}</td>\n",
       "      <td>1</td>\n",
       "      <td>1.00</td>\n",
       "      <td>1.00</td>\n",
       "      <td>1.00</td>\n",
       "      <td>...</td>\n",
       "      <td>1.00</td>\n",
       "      <td>1.00</td>\n",
       "      <td>1.00</td>\n",
       "      <td>1.00</td>\n",
       "      <td>1.00</td>\n",
       "      <td>1.00</td>\n",
       "      <td>0.28</td>\n",
       "      <td>0.00</td>\n",
       "      <td>0.00</td>\n",
       "      <td>0.00</td>\n",
       "    </tr>\n",
       "    <tr>\n",
       "      <th>1</th>\n",
       "      <td>20.62</td>\n",
       "      <td>0.31</td>\n",
       "      <td>1.00</td>\n",
       "      <td>1.00</td>\n",
       "      <td>500</td>\n",
       "      <td>{'n_estimators': 500}</td>\n",
       "      <td>1</td>\n",
       "      <td>1.00</td>\n",
       "      <td>1.00</td>\n",
       "      <td>1.00</td>\n",
       "      <td>...</td>\n",
       "      <td>1.00</td>\n",
       "      <td>1.00</td>\n",
       "      <td>1.00</td>\n",
       "      <td>1.00</td>\n",
       "      <td>1.00</td>\n",
       "      <td>1.00</td>\n",
       "      <td>5.67</td>\n",
       "      <td>0.09</td>\n",
       "      <td>0.00</td>\n",
       "      <td>0.00</td>\n",
       "    </tr>\n",
       "    <tr>\n",
       "      <th>2</th>\n",
       "      <td>29.97</td>\n",
       "      <td>0.47</td>\n",
       "      <td>1.00</td>\n",
       "      <td>1.00</td>\n",
       "      <td>900</td>\n",
       "      <td>{'n_estimators': 900}</td>\n",
       "      <td>1</td>\n",
       "      <td>1.00</td>\n",
       "      <td>1.00</td>\n",
       "      <td>1.00</td>\n",
       "      <td>...</td>\n",
       "      <td>1.00</td>\n",
       "      <td>1.00</td>\n",
       "      <td>1.00</td>\n",
       "      <td>1.00</td>\n",
       "      <td>1.00</td>\n",
       "      <td>1.00</td>\n",
       "      <td>0.66</td>\n",
       "      <td>0.01</td>\n",
       "      <td>0.00</td>\n",
       "      <td>0.00</td>\n",
       "    </tr>\n",
       "    <tr>\n",
       "      <th>3</th>\n",
       "      <td>43.40</td>\n",
       "      <td>0.70</td>\n",
       "      <td>1.00</td>\n",
       "      <td>1.00</td>\n",
       "      <td>1300</td>\n",
       "      <td>{'n_estimators': 1300}</td>\n",
       "      <td>1</td>\n",
       "      <td>1.00</td>\n",
       "      <td>1.00</td>\n",
       "      <td>1.00</td>\n",
       "      <td>...</td>\n",
       "      <td>1.00</td>\n",
       "      <td>1.00</td>\n",
       "      <td>1.00</td>\n",
       "      <td>1.00</td>\n",
       "      <td>1.00</td>\n",
       "      <td>1.00</td>\n",
       "      <td>0.52</td>\n",
       "      <td>0.04</td>\n",
       "      <td>0.00</td>\n",
       "      <td>0.00</td>\n",
       "    </tr>\n",
       "  </tbody>\n",
       "</table>\n",
       "<p>4 rows × 21 columns</p>\n",
       "</div>"
      ],
      "text/plain": [
       "   mean_fit_time  mean_score_time  mean_test_score  mean_train_score  \\\n",
       "0           6.16             0.11             1.00              1.00   \n",
       "1          20.62             0.31             1.00              1.00   \n",
       "2          29.97             0.47             1.00              1.00   \n",
       "3          43.40             0.70             1.00              1.00   \n",
       "\n",
       "  param_n_estimators                  params  rank_test_score  \\\n",
       "0                100   {'n_estimators': 100}                1   \n",
       "1                500   {'n_estimators': 500}                1   \n",
       "2                900   {'n_estimators': 900}                1   \n",
       "3               1300  {'n_estimators': 1300}                1   \n",
       "\n",
       "   split0_test_score  split0_train_score  split1_test_score       ...         \\\n",
       "0               1.00                1.00               1.00       ...          \n",
       "1               1.00                1.00               1.00       ...          \n",
       "2               1.00                1.00               1.00       ...          \n",
       "3               1.00                1.00               1.00       ...          \n",
       "\n",
       "   split2_test_score  split2_train_score  split3_test_score  \\\n",
       "0               1.00                1.00               1.00   \n",
       "1               1.00                1.00               1.00   \n",
       "2               1.00                1.00               1.00   \n",
       "3               1.00                1.00               1.00   \n",
       "\n",
       "   split3_train_score  split4_test_score  split4_train_score  std_fit_time  \\\n",
       "0                1.00               1.00                1.00          0.28   \n",
       "1                1.00               1.00                1.00          5.67   \n",
       "2                1.00               1.00                1.00          0.66   \n",
       "3                1.00               1.00                1.00          0.52   \n",
       "\n",
       "   std_score_time  std_test_score  std_train_score  \n",
       "0            0.00            0.00             0.00  \n",
       "1            0.09            0.00             0.00  \n",
       "2            0.01            0.00             0.00  \n",
       "3            0.04            0.00             0.00  \n",
       "\n",
       "[4 rows x 21 columns]"
      ]
     },
     "execution_count": 65,
     "metadata": {},
     "output_type": "execute_result"
    }
   ],
   "source": [
    "# scores of GridSearch CV\n",
    "scores = rf.cv_results_\n",
    "pd.DataFrame(scores).head()"
   ]
  },
  {
   "cell_type": "code",
   "execution_count": null,
   "metadata": {
    "collapsed": true
   },
   "outputs": [],
   "source": [
    "# plotting accuracies with n_estimators\n",
    "plt.figure()\n",
    "plt.plot(scores[\"param_n_estimators\"], \n",
    "         scores[\"mean_train_score\"], \n",
    "         label=\"training accuracy\")\n",
    "plt.plot(scores[\"param_n_estimators\"], \n",
    "         scores[\"mean_test_score\"], \n",
    "         label=\"test accuracy\")\n",
    "plt.xlabel(\"n_estimators\")\n",
    "plt.ylabel(\"Accuracy\")\n",
    "plt.legend()\n",
    "plt.show()"
   ]
  },
  {
   "cell_type": "code",
   "execution_count": null,
   "metadata": {
    "collapsed": true
   },
   "outputs": [],
   "source": [
    "# GridSearchCV to find optimal max_features\n",
    "from sklearn.model_selection import KFold\n",
    "from sklearn.model_selection import GridSearchCV\n",
    "\n",
    "\n",
    "# specify number of folds for k-fold CV\n",
    "n_folds = 5\n",
    "\n",
    "# parameters to build the model on\n",
    "parameters = {'max_features': [4, 8, 14, 20, 24]}\n",
    "\n",
    "# instantiate the model\n",
    "rf = RandomForestClassifier(max_depth=4)\n",
    "\n",
    "\n",
    "# fit tree on training data\n",
    "rf = GridSearchCV(rf, parameters, \n",
    "                    cv=n_folds, \n",
    "                   scoring=\"accuracy\")\n",
    "rf.fit(X_train_transformed, y_train)"
   ]
  },
  {
   "cell_type": "code",
   "execution_count": null,
   "metadata": {
    "collapsed": true
   },
   "outputs": [],
   "source": [
    "# scores of GridSearch CV\n",
    "scores = rf.cv_results_\n",
    "pd.DataFrame(scores).head()"
   ]
  },
  {
   "cell_type": "code",
   "execution_count": null,
   "metadata": {
    "collapsed": true
   },
   "outputs": [],
   "source": [
    "# plotting accuracies with max_features\n",
    "plt.figure()\n",
    "plt.plot(scores[\"param_max_features\"], \n",
    "         scores[\"mean_train_score\"], \n",
    "         label=\"training accuracy\")\n",
    "plt.plot(scores[\"param_max_features\"], \n",
    "         scores[\"mean_test_score\"], \n",
    "         label=\"test accuracy\")\n",
    "plt.xlabel(\"max_features\")\n",
    "plt.ylabel(\"Accuracy\")\n",
    "plt.legend()\n",
    "plt.show()"
   ]
  },
  {
   "cell_type": "code",
   "execution_count": null,
   "metadata": {
    "collapsed": true
   },
   "outputs": [],
   "source": [
    "# GridSearchCV to find optimal min_samples_leaf\n",
    "from sklearn.model_selection import KFold\n",
    "from sklearn.model_selection import GridSearchCV\n",
    "\n",
    "\n",
    "# specify number of folds for k-fold CV\n",
    "n_folds = 5\n",
    "\n",
    "# parameters to build the model on\n",
    "parameters = {'min_samples_leaf': range(100, 400, 50)}\n",
    "\n",
    "# instantiate the model\n",
    "rf = RandomForestClassifier()\n",
    "\n",
    "\n",
    "# fit tree on training data\n",
    "rf = GridSearchCV(rf, parameters, \n",
    "                    cv=n_folds, \n",
    "                   scoring=\"accuracy\")\n",
    "rf.fit(X_train_transformed, y_train)"
   ]
  },
  {
   "cell_type": "code",
   "execution_count": null,
   "metadata": {
    "collapsed": true
   },
   "outputs": [],
   "source": [
    "# scores of GridSearch CV\n",
    "scores = rf.cv_results_\n",
    "pd.DataFrame(scores).head()"
   ]
  },
  {
   "cell_type": "code",
   "execution_count": null,
   "metadata": {
    "collapsed": true
   },
   "outputs": [],
   "source": [
    "# plotting accuracies with min_samples_leaf\n",
    "plt.figure()\n",
    "plt.plot(scores[\"param_min_samples_leaf\"], \n",
    "         scores[\"mean_train_score\"], \n",
    "         label=\"training accuracy\")\n",
    "plt.plot(scores[\"param_min_samples_leaf\"], \n",
    "         scores[\"mean_test_score\"], \n",
    "         label=\"test accuracy\")\n",
    "plt.xlabel(\"min_samples_leaf\")\n",
    "plt.ylabel(\"Accuracy\")\n",
    "plt.legend()\n",
    "plt.show()"
   ]
  },
  {
   "cell_type": "code",
   "execution_count": null,
   "metadata": {
    "collapsed": true
   },
   "outputs": [],
   "source": [
    "# GridSearchCV to find optimal min_samples_split\n",
    "from sklearn.model_selection import KFold\n",
    "from sklearn.model_selection import GridSearchCV\n",
    "\n",
    "\n",
    "# specify number of folds for k-fold CV\n",
    "n_folds = 5\n",
    "\n",
    "# parameters to build the model on\n",
    "parameters = {'min_samples_split': range(200, 500, 50)}\n",
    "\n",
    "# instantiate the model\n",
    "rf = RandomForestClassifier()\n",
    "\n",
    "\n",
    "# fit tree on training data\n",
    "rf = GridSearchCV(rf, parameters, \n",
    "                    cv=n_folds, \n",
    "                   scoring=\"accuracy\")\n",
    "rf.fit(X_train, y_train)"
   ]
  },
  {
   "cell_type": "code",
   "execution_count": null,
   "metadata": {
    "collapsed": true
   },
   "outputs": [],
   "source": [
    "# scores of GridSearch CV\n",
    "scores = rf.cv_results_\n",
    "pd.DataFrame(scores).head()"
   ]
  },
  {
   "cell_type": "code",
   "execution_count": null,
   "metadata": {
    "collapsed": true
   },
   "outputs": [],
   "source": [
    "# plotting accuracies with min_samples_split\n",
    "plt.figure()\n",
    "plt.plot(scores[\"param_min_samples_split\"], \n",
    "         scores[\"mean_train_score\"], \n",
    "         label=\"training accuracy\")\n",
    "plt.plot(scores[\"param_min_samples_split\"], \n",
    "         scores[\"mean_test_score\"], \n",
    "         label=\"test accuracy\")\n",
    "plt.xlabel(\"min_samples_split\")\n",
    "plt.ylabel(\"Accuracy\")\n",
    "plt.legend()\n",
    "plt.show()"
   ]
  },
  {
   "cell_type": "code",
   "execution_count": null,
   "metadata": {
    "collapsed": true
   },
   "outputs": [],
   "source": [
    "# Create the parameter grid based on the results of random search \n",
    "param_grid = {\n",
    "    'max_depth': [4,8,10],\n",
    "    'min_samples_leaf': range(100, 400, 200),\n",
    "    'min_samples_split': range(200, 500, 200),\n",
    "    'n_estimators': [100,200, 300], \n",
    "    'max_features': [5, 10]\n",
    "}\n",
    "# Create a based model\n",
    "rf = RandomForestClassifier()\n",
    "# Instantiate the grid search model\n",
    "grid_search = GridSearchCV(estimator = rf, param_grid = param_grid, \n",
    "                          cv = 3, n_jobs = -1,verbose = 1)"
   ]
  },
  {
   "cell_type": "code",
   "execution_count": null,
   "metadata": {
    "collapsed": true
   },
   "outputs": [],
   "source": [
    "# Fit the grid search to the data\n",
    "grid_search.fit(X_train_transformed, y_train)"
   ]
  },
  {
   "cell_type": "code",
   "execution_count": null,
   "metadata": {
    "collapsed": true
   },
   "outputs": [],
   "source": [
    "# printing the optimal accuracy score and hyperparameters\n",
    "print('We can get accuracy of',grid_search.best_score_,'using',grid_search.best_params_)"
   ]
  },
  {
   "cell_type": "code",
   "execution_count": null,
   "metadata": {
    "collapsed": true
   },
   "outputs": [],
   "source": [
    "# model with the best hyperparameters\n",
    "from sklearn.ensemble import RandomForestClassifier\n",
    "rfc = RandomForestClassifier(bootstrap=True,\n",
    "                             max_depth=10,\n",
    "                             min_samples_leaf=100, \n",
    "                             min_samples_split=200,\n",
    "                             max_features=10,\n",
    "                             n_estimators=100)"
   ]
  },
  {
   "cell_type": "code",
   "execution_count": null,
   "metadata": {
    "collapsed": true
   },
   "outputs": [],
   "source": [
    "# fit\n",
    "rfc.fit(X_train_transformed,y_train)"
   ]
  },
  {
   "cell_type": "code",
   "execution_count": null,
   "metadata": {
    "collapsed": true
   },
   "outputs": [],
   "source": [
    "# predict\n",
    "predictions = rfc.predict(X_test_transformed)"
   ]
  },
  {
   "cell_type": "code",
   "execution_count": null,
   "metadata": {
    "collapsed": true
   },
   "outputs": [],
   "source": [
    "# evaluation metrics\n",
    "from sklearn.metrics import classification_report,confusion_matrix"
   ]
  },
  {
   "cell_type": "code",
   "execution_count": null,
   "metadata": {
    "collapsed": true
   },
   "outputs": [],
   "source": [
    "print(classification_report(y_test,predictions))"
   ]
  },
  {
   "cell_type": "code",
   "execution_count": null,
   "metadata": {
    "collapsed": true
   },
   "outputs": [],
   "source": [
    "print(confusion_matrix(y_test,predictions))"
   ]
  },
  {
   "cell_type": "code",
   "execution_count": null,
   "metadata": {
    "collapsed": true
   },
   "outputs": [],
   "source": []
  },
  {
   "cell_type": "code",
   "execution_count": null,
   "metadata": {
    "collapsed": true
   },
   "outputs": [],
   "source": []
  },
  {
   "cell_type": "markdown",
   "metadata": {},
   "source": [
    "# applying decision tree"
   ]
  },
  {
   "cell_type": "code",
   "execution_count": 21,
   "metadata": {},
   "outputs": [
    {
     "data": {
      "text/plain": [
       "DecisionTreeClassifier(class_weight=None, criterion='gini', max_depth=5,\n",
       "            max_features=None, max_leaf_nodes=None,\n",
       "            min_impurity_split=1e-07, min_samples_leaf=1,\n",
       "            min_samples_split=2, min_weight_fraction_leaf=0.0,\n",
       "            presort=False, random_state=None, splitter='best')"
      ]
     },
     "execution_count": 21,
     "metadata": {},
     "output_type": "execute_result"
    }
   ],
   "source": [
    "dt_default = DecisionTreeClassifier(max_depth=5)\n",
    "dt_default.fit(X_train_transformed, y_train)"
   ]
  },
  {
   "cell_type": "code",
   "execution_count": 23,
   "metadata": {},
   "outputs": [
    {
     "name": "stdout",
     "output_type": "stream",
     "text": [
      "             precision    recall  f1-score   support\n",
      "\n",
      "          0       0.95      0.99      0.97      8128\n",
      "          1       0.59      0.26      0.36       531\n",
      "\n",
      "avg / total       0.93      0.94      0.93      8659\n",
      "\n"
     ]
    }
   ],
   "source": [
    "y_pred_default = dt_default.predict(X_test_transformed)\n",
    "\n",
    "# Printing classification report\n",
    "print(classification_report(y_test, y_pred_default))"
   ]
  },
  {
   "cell_type": "code",
   "execution_count": null,
   "metadata": {
    "collapsed": true
   },
   "outputs": [],
   "source": []
  }
 ],
 "metadata": {
  "kernelspec": {
   "display_name": "Python 3",
   "language": "python",
   "name": "python3"
  },
  "language_info": {
   "codemirror_mode": {
    "name": "ipython",
    "version": 3
   },
   "file_extension": ".py",
   "mimetype": "text/x-python",
   "name": "python",
   "nbconvert_exporter": "python",
   "pygments_lexer": "ipython3",
   "version": "3.6.6"
  }
 },
 "nbformat": 4,
 "nbformat_minor": 2
}

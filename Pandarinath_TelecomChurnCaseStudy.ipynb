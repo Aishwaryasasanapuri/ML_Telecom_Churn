{
 "cells": [
  {
   "cell_type": "markdown",
   "metadata": {},
   "source": [
    "# <font color='blue'>Telecom Churn Case Study</font>\n",
    "* Institution: IIIT, Bangalore and UpGrad\n",
    "* Course: PG Diploma in Machine Lerning and AI March 2018\n",
    "* Date: 13-Aug-2018\n",
    "* Submitted by:\n",
    "    1. Pandinath Siddineni (ID- APFE187000194)\n",
    "    2. AKNR Chandra Sekhar (ID- APFE187000315)\n",
    "    3. Brajesh Kumar       (ID- APFE187000149)\n",
    "    4. Shweta Tiwari\n"
   ]
  },
  {
   "cell_type": "markdown",
   "metadata": {},
   "source": [
    "### <font color='blue'>Business Goals:</font>\n",
    "1. Retaining high profitable customers is the number one business goal.\n",
    "2. This project is based on the Indian and Southeast Asian market.\n",
    "3. In the Indian and the southeast Asian market, approximately 80% of revenue comes from the top 20% customers (called high-value customers). Thus, if we can reduce churn of the high-value customers, we will be able to reduce significant revenue leakage.\n",
    "4. The business objective is to predict the churn in the last (i.e. the ninth) month using the data (features) from the first three months. To do this task well, understanding the typical customer behaviour during churn will be helpful.\n",
    "\n",
    "### <font color='blue'>Analysis Goals:</font>\n",
    "1. Predict which customers are at high risk of churn\n",
    "2. Build predictive models to identify customers at high risk of churn and identify the main indicators of churn.\n",
    "3. Prepaid is the most common model in India and southeast Asia. Focus on prepaid customers.\n",
    "3. Curn definition used-- \"Usage-based churn: Customers who have not done any usage, either incoming or outgoing - in terms of calls, internet etc. over a period of time.\" In this project, we will use the usage-based definition to define churn.\n",
    "4. In this project, you will define high-value customers based on a certain metric (mentioned later below) and predict churn only on high-value customers.\n",
    "5. especially high-value customers go through  three phases of customer lifecycle: a. The ‘good’ phase, b. The ‘action’ phase, c. The ‘churn’ phase\n",
    "---------------------------"
   ]
  },
  {
   "cell_type": "markdown",
   "metadata": {},
   "source": [
    "## <font color='blue'>PART 1: DATA UNDERSTANDING AND CLEANING</font>\n",
    "\n",
    "1. Understand the properties of loaded dataframe\n",
    "2. Idnetify Uniquness key\n",
    "3. Identify bad colums that has no infromation (all entries are null or same)\n",
    "4. Conver dates to meaningful number of days\n",
    "5. Remove columns with data that does not make much sense for our analysis\n",
    "6. Missing value treatment: replace with '0', mean or median; drop rows; drop columns\n",
    "7. Outlier Treatment\n",
    "8. Write data into a clean data file. This will be used to create master-df for analysis"
   ]
  },
  {
   "cell_type": "markdown",
   "metadata": {},
   "source": [
    "### Import libraries and load datafile"
   ]
  },
  {
   "cell_type": "code",
   "execution_count": 1,
   "metadata": {},
   "outputs": [],
   "source": [
    "# Import required libraries\n",
    "import numpy as np\n",
    "import pandas as pd\n",
    "import matplotlib.pyplot as plt\n",
    "import seaborn as sns\n",
    "\n",
    "# Until fuction: line seperator\n",
    "def print_ln():\n",
    "    print('-'*80, '\\n')\n",
    "    \n",
    "pd.options.display.float_format = '{:.2f}'.format\n",
    "\n",
    "# Load csv data file\n",
    "telecom_orig = pd.read_csv('telecom_churn_data.csv', low_memory=False)"
   ]
  },
  {
   "cell_type": "code",
   "execution_count": 2,
   "metadata": {},
   "outputs": [
    {
     "name": "stdout",
     "output_type": "stream",
     "text": [
      "Dataframe Shape:  (99999, 226)\n",
      "-------------------------------------------------------------------------------- \n",
      "\n",
      "Dataframe Info: \n",
      "\n",
      "<class 'pandas.core.frame.DataFrame'>\n",
      "RangeIndex: 99999 entries, 0 to 99998\n",
      "Columns: 226 entries, mobile_number to sep_vbc_3g\n",
      "dtypes: float64(179), int64(35), object(12)\n",
      "memory usage: 172.4+ MB\n",
      "-------------------------------------------------------------------------------- \n",
      "\n"
     ]
    },
    {
     "data": {
      "text/html": [
       "<div>\n",
       "<style>\n",
       "    .dataframe thead tr:only-child th {\n",
       "        text-align: right;\n",
       "    }\n",
       "\n",
       "    .dataframe thead th {\n",
       "        text-align: left;\n",
       "    }\n",
       "\n",
       "    .dataframe tbody tr th {\n",
       "        vertical-align: top;\n",
       "    }\n",
       "</style>\n",
       "<table border=\"1\" class=\"dataframe\">\n",
       "  <thead>\n",
       "    <tr style=\"text-align: right;\">\n",
       "      <th></th>\n",
       "      <th>mobile_number</th>\n",
       "      <th>circle_id</th>\n",
       "      <th>loc_og_t2o_mou</th>\n",
       "      <th>std_og_t2o_mou</th>\n",
       "      <th>loc_ic_t2o_mou</th>\n",
       "      <th>last_date_of_month_6</th>\n",
       "      <th>last_date_of_month_7</th>\n",
       "      <th>last_date_of_month_8</th>\n",
       "      <th>last_date_of_month_9</th>\n",
       "      <th>arpu_6</th>\n",
       "      <th>...</th>\n",
       "      <th>sachet_3g_9</th>\n",
       "      <th>fb_user_6</th>\n",
       "      <th>fb_user_7</th>\n",
       "      <th>fb_user_8</th>\n",
       "      <th>fb_user_9</th>\n",
       "      <th>aon</th>\n",
       "      <th>aug_vbc_3g</th>\n",
       "      <th>jul_vbc_3g</th>\n",
       "      <th>jun_vbc_3g</th>\n",
       "      <th>sep_vbc_3g</th>\n",
       "    </tr>\n",
       "  </thead>\n",
       "  <tbody>\n",
       "    <tr>\n",
       "      <th>0</th>\n",
       "      <td>7000842753</td>\n",
       "      <td>109</td>\n",
       "      <td>0.00</td>\n",
       "      <td>0.00</td>\n",
       "      <td>0.00</td>\n",
       "      <td>6/30/2014</td>\n",
       "      <td>7/31/2014</td>\n",
       "      <td>8/31/2014</td>\n",
       "      <td>9/30/2014</td>\n",
       "      <td>197.38</td>\n",
       "      <td>...</td>\n",
       "      <td>0</td>\n",
       "      <td>1.00</td>\n",
       "      <td>1.00</td>\n",
       "      <td>1.00</td>\n",
       "      <td>nan</td>\n",
       "      <td>968</td>\n",
       "      <td>30.40</td>\n",
       "      <td>0.00</td>\n",
       "      <td>101.20</td>\n",
       "      <td>3.58</td>\n",
       "    </tr>\n",
       "    <tr>\n",
       "      <th>1</th>\n",
       "      <td>7001865778</td>\n",
       "      <td>109</td>\n",
       "      <td>0.00</td>\n",
       "      <td>0.00</td>\n",
       "      <td>0.00</td>\n",
       "      <td>6/30/2014</td>\n",
       "      <td>7/31/2014</td>\n",
       "      <td>8/31/2014</td>\n",
       "      <td>9/30/2014</td>\n",
       "      <td>34.05</td>\n",
       "      <td>...</td>\n",
       "      <td>0</td>\n",
       "      <td>nan</td>\n",
       "      <td>1.00</td>\n",
       "      <td>1.00</td>\n",
       "      <td>nan</td>\n",
       "      <td>1006</td>\n",
       "      <td>0.00</td>\n",
       "      <td>0.00</td>\n",
       "      <td>0.00</td>\n",
       "      <td>0.00</td>\n",
       "    </tr>\n",
       "    <tr>\n",
       "      <th>2</th>\n",
       "      <td>7001625959</td>\n",
       "      <td>109</td>\n",
       "      <td>0.00</td>\n",
       "      <td>0.00</td>\n",
       "      <td>0.00</td>\n",
       "      <td>6/30/2014</td>\n",
       "      <td>7/31/2014</td>\n",
       "      <td>8/31/2014</td>\n",
       "      <td>9/30/2014</td>\n",
       "      <td>167.69</td>\n",
       "      <td>...</td>\n",
       "      <td>0</td>\n",
       "      <td>nan</td>\n",
       "      <td>nan</td>\n",
       "      <td>nan</td>\n",
       "      <td>1.00</td>\n",
       "      <td>1103</td>\n",
       "      <td>0.00</td>\n",
       "      <td>0.00</td>\n",
       "      <td>4.17</td>\n",
       "      <td>0.00</td>\n",
       "    </tr>\n",
       "    <tr>\n",
       "      <th>3</th>\n",
       "      <td>7001204172</td>\n",
       "      <td>109</td>\n",
       "      <td>0.00</td>\n",
       "      <td>0.00</td>\n",
       "      <td>0.00</td>\n",
       "      <td>6/30/2014</td>\n",
       "      <td>7/31/2014</td>\n",
       "      <td>8/31/2014</td>\n",
       "      <td>9/30/2014</td>\n",
       "      <td>221.34</td>\n",
       "      <td>...</td>\n",
       "      <td>0</td>\n",
       "      <td>nan</td>\n",
       "      <td>nan</td>\n",
       "      <td>nan</td>\n",
       "      <td>nan</td>\n",
       "      <td>2491</td>\n",
       "      <td>0.00</td>\n",
       "      <td>0.00</td>\n",
       "      <td>0.00</td>\n",
       "      <td>0.00</td>\n",
       "    </tr>\n",
       "    <tr>\n",
       "      <th>4</th>\n",
       "      <td>7000142493</td>\n",
       "      <td>109</td>\n",
       "      <td>0.00</td>\n",
       "      <td>0.00</td>\n",
       "      <td>0.00</td>\n",
       "      <td>6/30/2014</td>\n",
       "      <td>7/31/2014</td>\n",
       "      <td>8/31/2014</td>\n",
       "      <td>9/30/2014</td>\n",
       "      <td>261.64</td>\n",
       "      <td>...</td>\n",
       "      <td>0</td>\n",
       "      <td>0.00</td>\n",
       "      <td>nan</td>\n",
       "      <td>nan</td>\n",
       "      <td>nan</td>\n",
       "      <td>1526</td>\n",
       "      <td>0.00</td>\n",
       "      <td>0.00</td>\n",
       "      <td>0.00</td>\n",
       "      <td>0.00</td>\n",
       "    </tr>\n",
       "  </tbody>\n",
       "</table>\n",
       "<p>5 rows × 226 columns</p>\n",
       "</div>"
      ],
      "text/plain": [
       "   mobile_number  circle_id  loc_og_t2o_mou  std_og_t2o_mou  loc_ic_t2o_mou  \\\n",
       "0     7000842753        109            0.00            0.00            0.00   \n",
       "1     7001865778        109            0.00            0.00            0.00   \n",
       "2     7001625959        109            0.00            0.00            0.00   \n",
       "3     7001204172        109            0.00            0.00            0.00   \n",
       "4     7000142493        109            0.00            0.00            0.00   \n",
       "\n",
       "  last_date_of_month_6 last_date_of_month_7 last_date_of_month_8  \\\n",
       "0            6/30/2014            7/31/2014            8/31/2014   \n",
       "1            6/30/2014            7/31/2014            8/31/2014   \n",
       "2            6/30/2014            7/31/2014            8/31/2014   \n",
       "3            6/30/2014            7/31/2014            8/31/2014   \n",
       "4            6/30/2014            7/31/2014            8/31/2014   \n",
       "\n",
       "  last_date_of_month_9  arpu_6     ...      sachet_3g_9  fb_user_6  fb_user_7  \\\n",
       "0            9/30/2014  197.38     ...                0       1.00       1.00   \n",
       "1            9/30/2014   34.05     ...                0        nan       1.00   \n",
       "2            9/30/2014  167.69     ...                0        nan        nan   \n",
       "3            9/30/2014  221.34     ...                0        nan        nan   \n",
       "4            9/30/2014  261.64     ...                0       0.00        nan   \n",
       "\n",
       "   fb_user_8  fb_user_9   aon  aug_vbc_3g  jul_vbc_3g  jun_vbc_3g  sep_vbc_3g  \n",
       "0       1.00        nan   968       30.40        0.00      101.20        3.58  \n",
       "1       1.00        nan  1006        0.00        0.00        0.00        0.00  \n",
       "2        nan       1.00  1103        0.00        0.00        4.17        0.00  \n",
       "3        nan        nan  2491        0.00        0.00        0.00        0.00  \n",
       "4        nan        nan  1526        0.00        0.00        0.00        0.00  \n",
       "\n",
       "[5 rows x 226 columns]"
      ]
     },
     "execution_count": 2,
     "metadata": {},
     "output_type": "execute_result"
    }
   ],
   "source": [
    "# Understand the properties of loaded dataframe\n",
    "telecom = telecom_orig.copy()\n",
    "print('Dataframe Shape: ', telecom.shape); print_ln();\n",
    "print(\"Dataframe Info: \\n\"); telecom.info(); print_ln();\n",
    "telecom.head(5)"
   ]
  },
  {
   "cell_type": "markdown",
   "metadata": {},
   "source": [
    "### Treating Categorical Variables\n",
    "There are 8 of them and all of these have more than 60% missing values.\n",
    "Missing values can be imputed with '-1' where -1 can be treated as a new category.\n",
    "\n",
    "CATEGORICAL VARIABLES:\n",
    "* night_pck_user_6\n",
    "* night_pck_user_7\n",
    "* night_pck_user_8\n",
    "* night_pck_user_9\n",
    "* fb_user_6\n",
    "* fb_user_7\n",
    "* fb_user_8\n",
    "* fb_user_9"
   ]
  },
  {
   "cell_type": "code",
   "execution_count": 3,
   "metadata": {},
   "outputs": [],
   "source": [
    "# Missing values can be imputed with '-1' \n",
    "# where -1 can be treated as a new category.\n",
    "\n",
    "categorical_vars = [\"night_pck_user_6\", \"night_pck_user_7\", \"night_pck_user_8\", \n",
    "\"night_pck_user_9\", \"fb_user_6\", \"fb_user_7\", \"fb_user_8\", \"fb_user_9\"]\n",
    "\n",
    "for var in categorical_vars:\n",
    "    telecom[var].fillna(value=-1, inplace=True)"
   ]
  },
  {
   "cell_type": "code",
   "execution_count": 4,
   "metadata": {
    "collapsed": true
   },
   "outputs": [],
   "source": [
    "# Create dummy variables for all the six categorial variables\n",
    "night_pck_user_6_s = pd.get_dummies(telecom['night_pck_user_6'],prefix=\"night6\",drop_first=True)\n",
    "night_pck_user_7_s = pd.get_dummies(telecom['night_pck_user_7'],prefix=\"night7\",drop_first=True)\n",
    "night_pck_user_8_s = pd.get_dummies(telecom['night_pck_user_8'],prefix=\"night8\",drop_first=True)\n",
    "\n",
    "fb_user_6_s = pd.get_dummies(telecom['fb_user_6'],prefix=\"fb6\", drop_first=True)\n",
    "fb_user_7_s = pd.get_dummies(telecom['fb_user_7'],prefix=\"fb7\",drop_first=True)\n",
    "fb_user_8_s = pd.get_dummies(telecom['fb_user_8'],prefix=\"fb8\",drop_first=True)\n",
    "\n",
    "telecom = pd.concat([telecom,night_pck_user_6_s],axis=1)\n",
    "telecom = pd.concat([telecom,night_pck_user_7_s],axis=1)\n",
    "telecom = pd.concat([telecom,night_pck_user_8_s],axis=1)\n",
    "\n",
    "telecom = pd.concat([telecom,fb_user_6_s],axis=1)\n",
    "telecom = pd.concat([telecom,fb_user_7_s],axis=1)\n",
    "telecom = pd.concat([telecom,fb_user_8_s],axis=1)"
   ]
  },
  {
   "cell_type": "markdown",
   "metadata": {},
   "source": [
    "### Missing Value Treatment\n",
    "1. Delete: Delete the missing values \n",
    "2. Impute: \n",
    "    - Imputing by a simple statistic: Replace the missing values by another value, commonly the mean, median, mode etc. \n",
    "    - Predictive techniques: Use statistical models such as k-NN, SVM etc. to predict and impute missing values"
   ]
  },
  {
   "cell_type": "markdown",
   "metadata": {},
   "source": [
    "#### COLUMN-WISE: MISSING VALUES"
   ]
  },
  {
   "cell_type": "code",
   "execution_count": 5,
   "metadata": {},
   "outputs": [
    {
     "data": {
      "text/plain": [
       "mobile_number              0\n",
       "circle_id                  0\n",
       "loc_og_t2o_mou          1018\n",
       "std_og_t2o_mou          1018\n",
       "loc_ic_t2o_mou          1018\n",
       "last_date_of_month_6       0\n",
       "last_date_of_month_7     601\n",
       "last_date_of_month_8    1100\n",
       "last_date_of_month_9    1659\n",
       "arpu_6                     0\n",
       "arpu_7                     0\n",
       "arpu_8                     0\n",
       "arpu_9                     0\n",
       "onnet_mou_6             3937\n",
       "onnet_mou_7             3859\n",
       "onnet_mou_8             5378\n",
       "onnet_mou_9             7745\n",
       "offnet_mou_6            3937\n",
       "offnet_mou_7            3859\n",
       "offnet_mou_8            5378\n",
       "offnet_mou_9            7745\n",
       "roam_ic_mou_6           3937\n",
       "roam_ic_mou_7           3859\n",
       "roam_ic_mou_8           5378\n",
       "roam_ic_mou_9           7745\n",
       "roam_og_mou_6           3937\n",
       "roam_og_mou_7           3859\n",
       "roam_og_mou_8           5378\n",
       "roam_og_mou_9           7745\n",
       "loc_og_t2t_mou_6        3937\n",
       "                        ... \n",
       "sachet_2g_9                0\n",
       "monthly_3g_6               0\n",
       "monthly_3g_7               0\n",
       "monthly_3g_8               0\n",
       "monthly_3g_9               0\n",
       "sachet_3g_6                0\n",
       "sachet_3g_7                0\n",
       "sachet_3g_8                0\n",
       "sachet_3g_9                0\n",
       "fb_user_6                  0\n",
       "fb_user_7                  0\n",
       "fb_user_8                  0\n",
       "fb_user_9                  0\n",
       "aon                        0\n",
       "aug_vbc_3g                 0\n",
       "jul_vbc_3g                 0\n",
       "jun_vbc_3g                 0\n",
       "sep_vbc_3g                 0\n",
       "night6_0.0                 0\n",
       "night6_1.0                 0\n",
       "night7_0.0                 0\n",
       "night7_1.0                 0\n",
       "night8_0.0                 0\n",
       "night8_1.0                 0\n",
       "fb6_0.0                    0\n",
       "fb6_1.0                    0\n",
       "fb7_0.0                    0\n",
       "fb7_1.0                    0\n",
       "fb8_0.0                    0\n",
       "fb8_1.0                    0\n",
       "Length: 238, dtype: int64"
      ]
     },
     "execution_count": 5,
     "metadata": {},
     "output_type": "execute_result"
    }
   ],
   "source": [
    "# summing up the missing values (column-wise)\n",
    "telecom.isnull().sum()"
   ]
  },
  {
   "cell_type": "code",
   "execution_count": 6,
   "metadata": {},
   "outputs": [
    {
     "data": {
      "text/plain": [
       "mobile_number          0.00\n",
       "circle_id              0.00\n",
       "loc_og_t2o_mou         1.02\n",
       "std_og_t2o_mou         1.02\n",
       "loc_ic_t2o_mou         1.02\n",
       "last_date_of_month_6   0.00\n",
       "last_date_of_month_7   0.60\n",
       "last_date_of_month_8   1.10\n",
       "last_date_of_month_9   1.66\n",
       "arpu_6                 0.00\n",
       "arpu_7                 0.00\n",
       "arpu_8                 0.00\n",
       "arpu_9                 0.00\n",
       "onnet_mou_6            3.94\n",
       "onnet_mou_7            3.86\n",
       "onnet_mou_8            5.38\n",
       "onnet_mou_9            7.75\n",
       "offnet_mou_6           3.94\n",
       "offnet_mou_7           3.86\n",
       "offnet_mou_8           5.38\n",
       "offnet_mou_9           7.75\n",
       "roam_ic_mou_6          3.94\n",
       "roam_ic_mou_7          3.86\n",
       "roam_ic_mou_8          5.38\n",
       "roam_ic_mou_9          7.75\n",
       "roam_og_mou_6          3.94\n",
       "roam_og_mou_7          3.86\n",
       "roam_og_mou_8          5.38\n",
       "roam_og_mou_9          7.75\n",
       "loc_og_t2t_mou_6       3.94\n",
       "                       ... \n",
       "sachet_2g_9            0.00\n",
       "monthly_3g_6           0.00\n",
       "monthly_3g_7           0.00\n",
       "monthly_3g_8           0.00\n",
       "monthly_3g_9           0.00\n",
       "sachet_3g_6            0.00\n",
       "sachet_3g_7            0.00\n",
       "sachet_3g_8            0.00\n",
       "sachet_3g_9            0.00\n",
       "fb_user_6              0.00\n",
       "fb_user_7              0.00\n",
       "fb_user_8              0.00\n",
       "fb_user_9              0.00\n",
       "aon                    0.00\n",
       "aug_vbc_3g             0.00\n",
       "jul_vbc_3g             0.00\n",
       "jun_vbc_3g             0.00\n",
       "sep_vbc_3g             0.00\n",
       "night6_0.0             0.00\n",
       "night6_1.0             0.00\n",
       "night7_0.0             0.00\n",
       "night7_1.0             0.00\n",
       "night8_0.0             0.00\n",
       "night8_1.0             0.00\n",
       "fb6_0.0                0.00\n",
       "fb6_1.0                0.00\n",
       "fb7_0.0                0.00\n",
       "fb7_1.0                0.00\n",
       "fb8_0.0                0.00\n",
       "fb8_1.0                0.00\n",
       "Length: 238, dtype: float64"
      ]
     },
     "execution_count": 6,
     "metadata": {},
     "output_type": "execute_result"
    }
   ],
   "source": [
    "# Percentage of missing values (column-wise)\n",
    "round(100*(telecom.isnull().sum()/len(telecom.index)), 2)"
   ]
  },
  {
   "cell_type": "code",
   "execution_count": 7,
   "metadata": {},
   "outputs": [
    {
     "data": {
      "text/plain": [
       "date_of_last_rech_data_6   74.85\n",
       "date_of_last_rech_data_7   74.43\n",
       "date_of_last_rech_data_8   73.66\n",
       "date_of_last_rech_data_9   74.08\n",
       "total_rech_data_6          74.85\n",
       "total_rech_data_7          74.43\n",
       "total_rech_data_8          73.66\n",
       "total_rech_data_9          74.08\n",
       "max_rech_data_6            74.85\n",
       "max_rech_data_7            74.43\n",
       "max_rech_data_8            73.66\n",
       "max_rech_data_9            74.08\n",
       "count_rech_2g_6            74.85\n",
       "count_rech_2g_7            74.43\n",
       "count_rech_2g_8            73.66\n",
       "count_rech_2g_9            74.08\n",
       "count_rech_3g_6            74.85\n",
       "count_rech_3g_7            74.43\n",
       "count_rech_3g_8            73.66\n",
       "count_rech_3g_9            74.08\n",
       "av_rech_amt_data_6         74.85\n",
       "av_rech_amt_data_7         74.43\n",
       "av_rech_amt_data_8         73.66\n",
       "av_rech_amt_data_9         74.08\n",
       "arpu_3g_6                  74.85\n",
       "arpu_3g_7                  74.43\n",
       "arpu_3g_8                  73.66\n",
       "arpu_3g_9                  74.08\n",
       "arpu_2g_6                  74.85\n",
       "arpu_2g_7                  74.43\n",
       "arpu_2g_8                  73.66\n",
       "arpu_2g_9                  74.08\n",
       "dtype: float64"
      ]
     },
     "execution_count": 7,
     "metadata": {},
     "output_type": "execute_result"
    }
   ],
   "source": [
    "# Columns with more than 70% missing values\n",
    "colmns_missing_data = round(100*(telecom.isnull().sum()/len(telecom.index)), 2)\n",
    "colmns_missing_data[colmns_missing_data >= 70]"
   ]
  },
  {
   "cell_type": "code",
   "execution_count": 8,
   "metadata": {},
   "outputs": [
    {
     "name": "stdout",
     "output_type": "stream",
     "text": [
      "count   25153.00\n",
      "mean        2.46\n",
      "std         2.79\n",
      "min         1.00\n",
      "25%         1.00\n",
      "50%         1.00\n",
      "75%         3.00\n",
      "max        61.00\n",
      "Name: total_rech_data_6, dtype: float64\n",
      "-------------------------------------------------------------------------------- \n",
      "\n",
      "count   25571.00\n",
      "mean        2.67\n",
      "std         3.03\n",
      "min         1.00\n",
      "25%         1.00\n",
      "50%         1.00\n",
      "75%         3.00\n",
      "max        54.00\n",
      "Name: total_rech_data_7, dtype: float64\n",
      "-------------------------------------------------------------------------------- \n",
      "\n",
      "count   25153.00\n",
      "mean      192.60\n",
      "std       192.65\n",
      "min         1.00\n",
      "25%        82.00\n",
      "50%       154.00\n",
      "75%       252.00\n",
      "max      7546.00\n",
      "Name: av_rech_amt_data_6, dtype: float64\n",
      "-------------------------------------------------------------------------------- \n",
      "\n",
      "count   25571.00\n",
      "mean      200.98\n",
      "std       196.79\n",
      "min         0.50\n",
      "25%        92.00\n",
      "50%       154.00\n",
      "75%       252.00\n",
      "max      4365.00\n",
      "Name: av_rech_amt_data_7, dtype: float64\n",
      "-------------------------------------------------------------------------------- \n",
      "\n"
     ]
    }
   ],
   "source": [
    "# Treat missing values\n",
    "# Columns used for filtering high-value customers, can't be dropped\n",
    "# total_rech_data_6 \n",
    "# total_rech_data_7 \n",
    "# av_rech_amt_data_6 \n",
    "# av_rech_amt_data_7 \n",
    "\n",
    "# All these columns has more than 70% missing values\n",
    "\n",
    "print(telecom.total_rech_data_6.describe()); print_ln()\n",
    "print(telecom.total_rech_data_7.describe()); print_ln()\n",
    "print(telecom.av_rech_amt_data_6.describe()); print_ln()\n",
    "print(telecom.av_rech_amt_data_7.describe()); print_ln()"
   ]
  },
  {
   "cell_type": "code",
   "execution_count": 9,
   "metadata": {},
   "outputs": [
    {
     "data": {
      "text/plain": [
       "<matplotlib.figure.Figure at 0x28daf9dd3c8>"
      ]
     },
     "metadata": {},
     "output_type": "display_data"
    },
    {
     "data": {
      "image/png": "[encoded data removed]",
      "text/plain": [
       "<matplotlib.figure.Figure at 0x28daf9dda20>"
      ]
     },
     "metadata": {},
     "output_type": "display_data"
    }
   ],
   "source": [
    "# Let us look at the distribution to find out the value to fill\n",
    "# total_rech_data_6\n",
    "plt.figure(1)\n",
    "fig, ax = plt.subplots(figsize=(10,10))\n",
    "plt.subplot(2,2,1)\n",
    "plt.title(\"total_rech_data_6\")\n",
    "plt.hist(telecom.total_rech_data_6.dropna(),bins=25)\n",
    "\n",
    "# total_rech_data_7\n",
    "plt.subplot(2,2,2)\n",
    "plt.title(\"total_rech_data_7\")\n",
    "plt.hist(telecom.total_rech_data_7.dropna(),bins=25)\n",
    "\n",
    "# av_rech_amt_data_6\n",
    "plt.subplot(2,2,3)\n",
    "plt.title(\"av_rech_amt_data_6\")\n",
    "plt.hist(telecom.av_rech_amt_data_6.dropna(),bins=25)\n",
    "\n",
    "# total_rech_data_7\n",
    "plt.subplot(2,2,4)\n",
    "plt.title(\"av_rech_amt_data_7\")\n",
    "plt.hist(telecom.av_rech_amt_data_7.dropna(),bins=25)\n",
    "\n",
    "plt.show()"
   ]
  },
  {
   "cell_type": "code",
   "execution_count": 10,
   "metadata": {
    "collapsed": true
   },
   "outputs": [],
   "source": [
    "# Variables are numeric and distribution resemble the 'power law'. \n",
    "# The minimum value is 1, and not zero, \n",
    "# The rows with missing values also have the 'dates of recharge' columns \n",
    "# missing -- indicating that no recharge was done in this month. \n",
    "# Thus, missing values can be imputed with 0.\n",
    "\n",
    "telecom.total_rech_data_6.fillna(value=0, inplace=True)\n",
    "telecom.total_rech_data_7.fillna(value=0, inplace=True)\n",
    "telecom.total_rech_data_8.fillna(value=0, inplace=True)\n",
    "telecom.total_rech_data_9.fillna(value=0, inplace=True)\n",
    "\n",
    "telecom.av_rech_amt_data_6.fillna(value=0, inplace=True)\n",
    "telecom.av_rech_amt_data_7.fillna(value=0, inplace=True)\n",
    "telecom.av_rech_amt_data_8.fillna(value=0, inplace=True)\n",
    "telecom.av_rech_amt_data_9.fillna(value=0, inplace=True)"
   ]
  },
  {
   "cell_type": "code",
   "execution_count": 11,
   "metadata": {},
   "outputs": [
    {
     "name": "stdout",
     "output_type": "stream",
     "text": [
      "0\n"
     ]
    }
   ],
   "source": [
    "print(telecom[\"total_rech_data_6\"].isnull().sum())"
   ]
  },
  {
   "cell_type": "code",
   "execution_count": 12,
   "metadata": {},
   "outputs": [
    {
     "name": "stdout",
     "output_type": "stream",
     "text": [
      "mobile_number          0.00\n",
      "circle_id              0.00\n",
      "loc_og_t2o_mou         1.02\n",
      "std_og_t2o_mou         1.02\n",
      "loc_ic_t2o_mou         1.02\n",
      "last_date_of_month_6   0.00\n",
      "last_date_of_month_7   0.60\n",
      "last_date_of_month_8   1.10\n",
      "last_date_of_month_9   1.66\n",
      "arpu_6                 0.00\n",
      "arpu_7                 0.00\n",
      "arpu_8                 0.00\n",
      "arpu_9                 0.00\n",
      "onnet_mou_6            3.94\n",
      "onnet_mou_7            3.86\n",
      "onnet_mou_8            5.38\n",
      "onnet_mou_9            7.75\n",
      "offnet_mou_6           3.94\n",
      "offnet_mou_7           3.86\n",
      "offnet_mou_8           5.38\n",
      "offnet_mou_9           7.75\n",
      "roam_ic_mou_6          3.94\n",
      "roam_ic_mou_7          3.86\n",
      "roam_ic_mou_8          5.38\n",
      "roam_ic_mou_9          7.75\n",
      "roam_og_mou_6          3.94\n",
      "roam_og_mou_7          3.86\n",
      "roam_og_mou_8          5.38\n",
      "roam_og_mou_9          7.75\n",
      "loc_og_t2t_mou_6       3.94\n",
      "                       ... \n",
      "sachet_2g_9            0.00\n",
      "monthly_3g_6           0.00\n",
      "monthly_3g_7           0.00\n",
      "monthly_3g_8           0.00\n",
      "monthly_3g_9           0.00\n",
      "sachet_3g_6            0.00\n",
      "sachet_3g_7            0.00\n",
      "sachet_3g_8            0.00\n",
      "sachet_3g_9            0.00\n",
      "fb_user_6              0.00\n",
      "fb_user_7              0.00\n",
      "fb_user_8              0.00\n",
      "fb_user_9              0.00\n",
      "aon                    0.00\n",
      "aug_vbc_3g             0.00\n",
      "jul_vbc_3g             0.00\n",
      "jun_vbc_3g             0.00\n",
      "sep_vbc_3g             0.00\n",
      "night6_0.0             0.00\n",
      "night6_1.0             0.00\n",
      "night7_0.0             0.00\n",
      "night7_1.0             0.00\n",
      "night8_0.0             0.00\n",
      "night8_1.0             0.00\n",
      "fb6_0.0                0.00\n",
      "fb6_1.0                0.00\n",
      "fb7_0.0                0.00\n",
      "fb7_1.0                0.00\n",
      "fb8_0.0                0.00\n",
      "fb8_1.0                0.00\n",
      "Length: 238, dtype: float64\n",
      "-------------------------------------------------------------------------------- \n",
      "\n",
      "date_of_last_rech_data_6   74.85\n",
      "date_of_last_rech_data_7   74.43\n",
      "date_of_last_rech_data_8   73.66\n",
      "date_of_last_rech_data_9   74.08\n",
      "max_rech_data_6            74.85\n",
      "max_rech_data_7            74.43\n",
      "max_rech_data_8            73.66\n",
      "max_rech_data_9            74.08\n",
      "count_rech_2g_6            74.85\n",
      "count_rech_2g_7            74.43\n",
      "count_rech_2g_8            73.66\n",
      "count_rech_2g_9            74.08\n",
      "count_rech_3g_6            74.85\n",
      "count_rech_3g_7            74.43\n",
      "count_rech_3g_8            73.66\n",
      "count_rech_3g_9            74.08\n",
      "arpu_3g_6                  74.85\n",
      "arpu_3g_7                  74.43\n",
      "arpu_3g_8                  73.66\n",
      "arpu_3g_9                  74.08\n",
      "arpu_2g_6                  74.85\n",
      "arpu_2g_7                  74.43\n",
      "arpu_2g_8                  73.66\n",
      "arpu_2g_9                  74.08\n",
      "dtype: float64\n"
     ]
    }
   ],
   "source": [
    "# Column analysis % of missing values\n",
    "print(round(100*(telecom.isnull().sum()/len(telecom.index)), 2)); print_ln()\n",
    "\n",
    "# Columns with more than 70% missing values\n",
    "colmns_missing_data = round(100*(telecom.isnull().sum()/len(telecom.index)), 2)\n",
    "print(colmns_missing_data[colmns_missing_data >= 70])"
   ]
  },
  {
   "cell_type": "code",
   "execution_count": 13,
   "metadata": {},
   "outputs": [
    {
     "name": "stdout",
     "output_type": "stream",
     "text": [
      "Number of columns droped here  =  24\n",
      "Dataframe Shape:  (99999, 214)\n"
     ]
    }
   ],
   "source": [
    "drop_missing_values_columns = colmns_missing_data[colmns_missing_data > 70].index\n",
    "telecom.drop(drop_missing_values_columns, axis=1, inplace=True)\n",
    "\n",
    "print('Number of columns droped here  = ', len(drop_missing_values_columns))\n",
    "print('Dataframe Shape: ', telecom.shape)"
   ]
  },
  {
   "cell_type": "markdown",
   "metadata": {},
   "source": [
    "### Filter High-Value Customers"
   ]
  },
  {
   "cell_type": "code",
   "execution_count": 14,
   "metadata": {
    "collapsed": true
   },
   "outputs": [],
   "source": [
    "# New DERIVED Columns for Total Data Recharge Amount\n",
    "\n",
    "telecom[\"total_rech_data_amt_6\"] = telecom[\"total_rech_data_6\"]*telecom['av_rech_amt_data_6']\n",
    "telecom[\"total_rech_data_amt_7\"] = telecom[\"total_rech_data_7\"]*telecom['av_rech_amt_data_7']\n",
    "telecom[\"total_rech_data_amt_8\"] = telecom[\"total_rech_data_8\"]*telecom['av_rech_amt_data_8']\n",
    "telecom[\"total_rech_data_amt_9\"] = telecom[\"total_rech_data_9\"]*telecom['av_rech_amt_data_9']\n",
    "\n",
    "# We can drop total_rech_data_* and av_rech_amt_data_*\n",
    "drop_data_columns = [\"total_rech_data_6\", \"total_rech_data_7\", \"total_rech_data_8\", \"total_rech_data_9\", \n",
    "                'av_rech_amt_data_6', 'av_rech_amt_data_7', 'av_rech_amt_data_8', 'av_rech_amt_data_9']\n",
    "telecom.drop(drop_data_columns, axis=1, inplace=True)"
   ]
  },
  {
   "cell_type": "code",
   "execution_count": 15,
   "metadata": {
    "scrolled": true
   },
   "outputs": [
    {
     "name": "stdout",
     "output_type": "stream",
     "text": [
      "70 percentile of first two months avg recharge amount:  478.0\n",
      "Dataframe Shape:  (30001, 210)\n"
     ]
    }
   ],
   "source": [
    "# Filter high-value customers\n",
    "avg_rech_amt_6_7 = (telecom[\"total_rech_amt_6\"] + telecom[\"total_rech_data_amt_6\"] + \n",
    "                      telecom[\"total_rech_amt_7\"] + telecom[\"total_rech_data_amt_7\"]) / 2.0\n",
    "amont_70_pc = np.percentile(avg_rech_amt_6_7, 70.0)\n",
    "print('70 percentile of first two months avg recharge amount: ', amont_70_pc)\n",
    "\n",
    "telecom = telecom[avg_rech_amt_6_7 >= amont_70_pc]\n",
    "print('Dataframe Shape: ', telecom.shape)"
   ]
  },
  {
   "cell_type": "markdown",
   "metadata": {},
   "source": [
    "### Idnetify Curn & Tag Churners"
   ]
  },
  {
   "cell_type": "code",
   "execution_count": 16,
   "metadata": {},
   "outputs": [
    {
     "name": "stdout",
     "output_type": "stream",
     "text": [
      "Number of columns droped here  =  48\n",
      "Dataframe Shape:  (30001, 163)\n",
      "-------------------------------------------------------------------------------- \n",
      "\n"
     ]
    }
   ],
   "source": [
    "# Identify Churn\n",
    "X = telecom[\"total_ic_mou_9\"] + telecom[\"total_og_mou_9\"] + telecom[\"vol_2g_mb_9\"] + telecom[\"vol_3g_mb_9\"]\n",
    "telecom[\"churn\"] = np.where(X, 0, 1)\n",
    "#telecom[\"churn\"].head(10)\n",
    "\n",
    "# Columns to be dropped: all columns ending with \"_9\"\n",
    "drop_fourth_month_columns = [hdr for hdr in list(telecom) if hdr.endswith(\"_9\")]\n",
    "drop_fourth_month_columns += [\"sep_vbc_3g\"]\n",
    "telecom.drop(drop_fourth_month_columns, axis=1, inplace=True)\n",
    "\n",
    "print('Number of columns droped here  = ', len(drop_fourth_month_columns))\n",
    "print('Dataframe Shape: ', telecom.shape); print_ln();"
   ]
  },
  {
   "cell_type": "markdown",
   "metadata": {},
   "source": [
    "### Identify columns that have no varience & Drop"
   ]
  },
  {
   "cell_type": "code",
   "execution_count": 17,
   "metadata": {},
   "outputs": [
    {
     "name": "stdout",
     "output_type": "stream",
     "text": [
      "Dataframe Unique Value Count is ZERO (all null values): \n",
      " Series([], dtype: int64)\n",
      "-------------------------------------------------------------------------------- \n",
      "\n",
      "Dataframe Unique Value Count is ONE (all same values): \n",
      " std_ic_t2o_mou_8        1\n",
      "last_date_of_month_6    1\n",
      "circle_id               1\n",
      "loc_og_t2o_mou          1\n",
      "std_og_t2o_mou          1\n",
      "loc_ic_t2o_mou          1\n",
      "std_og_t2c_mou_6        1\n",
      "last_date_of_month_7    1\n",
      "last_date_of_month_8    1\n",
      "std_ic_t2o_mou_7        1\n",
      "std_og_t2c_mou_7        1\n",
      "std_ic_t2o_mou_6        1\n",
      "std_og_t2c_mou_8        1\n",
      "dtype: int64\n",
      "-------------------------------------------------------------------------------- \n",
      "\n",
      "Dataframe Shape:  (30001, 150)\n",
      "-------------------------------------------------------------------------------- \n",
      "\n",
      "Number of columns dropped here  =  13\n",
      "Dataframe Shape:  (30001, 150)\n",
      "-------------------------------------------------------------------------------- \n",
      "\n"
     ]
    }
   ],
   "source": [
    "# Identify columns that have no varience\n",
    "telecom_unique_count = telecom.nunique().sort_values(ascending=False)\n",
    "#print(\"Dataframe Unique Values: \\n\", telecom_unique_count); print_ln()\n",
    "\n",
    "# Identify bad colums that has no infromation (all entries are NA or same)\n",
    "# Find columns with all NULL entries and add to drop_columns list\n",
    "telecom_unique_count_is_zero = telecom_unique_count[telecom_unique_count == 0]\n",
    "print(\"Dataframe Unique Value Count is ZERO (all null values): \\n\", telecom_unique_count_is_zero); print_ln();\n",
    "drop_no_varience_columns = list(telecom_unique_count_is_zero.index)\n",
    "\n",
    "# Find columns with all same entries and add to drop_columns list\n",
    "telecom_unique_count_is_one = telecom_unique_count[telecom_unique_count == 1]\n",
    "print(\"Dataframe Unique Value Count is ONE (all same values): \\n\", telecom_unique_count_is_one); print_ln();\n",
    "drop_no_varience_columns += list(telecom_unique_count_is_one.index)\n",
    "\n",
    "telecom.drop(drop_no_varience_columns, axis=1, inplace=True)\n",
    "\n",
    "print('Dataframe Shape: ', telecom.shape); print_ln();\n",
    "print('Number of columns dropped here  = ', len(drop_no_varience_columns))\n",
    "print('Dataframe Shape: ', telecom.shape); print_ln();"
   ]
  },
  {
   "cell_type": "code",
   "execution_count": 18,
   "metadata": {},
   "outputs": [
    {
     "data": {
      "text/html": [
       "<div>\n",
       "<style>\n",
       "    .dataframe thead tr:only-child th {\n",
       "        text-align: right;\n",
       "    }\n",
       "\n",
       "    .dataframe thead th {\n",
       "        text-align: left;\n",
       "    }\n",
       "\n",
       "    .dataframe tbody tr th {\n",
       "        vertical-align: top;\n",
       "    }\n",
       "</style>\n",
       "<table border=\"1\" class=\"dataframe\">\n",
       "  <thead>\n",
       "    <tr style=\"text-align: right;\">\n",
       "      <th></th>\n",
       "      <th>mobile_number</th>\n",
       "      <th>arpu_6</th>\n",
       "      <th>arpu_7</th>\n",
       "      <th>arpu_8</th>\n",
       "      <th>onnet_mou_6</th>\n",
       "      <th>onnet_mou_7</th>\n",
       "      <th>onnet_mou_8</th>\n",
       "      <th>offnet_mou_6</th>\n",
       "      <th>offnet_mou_7</th>\n",
       "      <th>offnet_mou_8</th>\n",
       "      <th>...</th>\n",
       "      <th>fb6_0.0</th>\n",
       "      <th>fb6_1.0</th>\n",
       "      <th>fb7_0.0</th>\n",
       "      <th>fb7_1.0</th>\n",
       "      <th>fb8_0.0</th>\n",
       "      <th>fb8_1.0</th>\n",
       "      <th>total_rech_data_amt_6</th>\n",
       "      <th>total_rech_data_amt_7</th>\n",
       "      <th>total_rech_data_amt_8</th>\n",
       "      <th>churn</th>\n",
       "    </tr>\n",
       "  </thead>\n",
       "  <tbody>\n",
       "    <tr>\n",
       "      <th>0</th>\n",
       "      <td>7000842753</td>\n",
       "      <td>197.38</td>\n",
       "      <td>214.82</td>\n",
       "      <td>213.80</td>\n",
       "      <td>nan</td>\n",
       "      <td>nan</td>\n",
       "      <td>0.00</td>\n",
       "      <td>nan</td>\n",
       "      <td>nan</td>\n",
       "      <td>0.00</td>\n",
       "      <td>...</td>\n",
       "      <td>0</td>\n",
       "      <td>1</td>\n",
       "      <td>0</td>\n",
       "      <td>1</td>\n",
       "      <td>0</td>\n",
       "      <td>1</td>\n",
       "      <td>252.00</td>\n",
       "      <td>252.00</td>\n",
       "      <td>252.00</td>\n",
       "      <td>1</td>\n",
       "    </tr>\n",
       "    <tr>\n",
       "      <th>7</th>\n",
       "      <td>7000701601</td>\n",
       "      <td>1069.18</td>\n",
       "      <td>1349.85</td>\n",
       "      <td>3171.48</td>\n",
       "      <td>57.84</td>\n",
       "      <td>54.68</td>\n",
       "      <td>52.29</td>\n",
       "      <td>453.43</td>\n",
       "      <td>567.16</td>\n",
       "      <td>325.91</td>\n",
       "      <td>...</td>\n",
       "      <td>0</td>\n",
       "      <td>0</td>\n",
       "      <td>0</td>\n",
       "      <td>0</td>\n",
       "      <td>0</td>\n",
       "      <td>0</td>\n",
       "      <td>0.00</td>\n",
       "      <td>0.00</td>\n",
       "      <td>0.00</td>\n",
       "      <td>1</td>\n",
       "    </tr>\n",
       "    <tr>\n",
       "      <th>8</th>\n",
       "      <td>7001524846</td>\n",
       "      <td>378.72</td>\n",
       "      <td>492.22</td>\n",
       "      <td>137.36</td>\n",
       "      <td>413.69</td>\n",
       "      <td>351.03</td>\n",
       "      <td>35.08</td>\n",
       "      <td>94.66</td>\n",
       "      <td>80.63</td>\n",
       "      <td>136.48</td>\n",
       "      <td>...</td>\n",
       "      <td>0</td>\n",
       "      <td>0</td>\n",
       "      <td>0</td>\n",
       "      <td>1</td>\n",
       "      <td>0</td>\n",
       "      <td>1</td>\n",
       "      <td>0.00</td>\n",
       "      <td>354.00</td>\n",
       "      <td>207.00</td>\n",
       "      <td>0</td>\n",
       "    </tr>\n",
       "    <tr>\n",
       "      <th>21</th>\n",
       "      <td>7002124215</td>\n",
       "      <td>514.45</td>\n",
       "      <td>597.75</td>\n",
       "      <td>637.76</td>\n",
       "      <td>102.41</td>\n",
       "      <td>132.11</td>\n",
       "      <td>85.14</td>\n",
       "      <td>757.93</td>\n",
       "      <td>896.68</td>\n",
       "      <td>983.39</td>\n",
       "      <td>...</td>\n",
       "      <td>0</td>\n",
       "      <td>0</td>\n",
       "      <td>0</td>\n",
       "      <td>0</td>\n",
       "      <td>0</td>\n",
       "      <td>0</td>\n",
       "      <td>0.00</td>\n",
       "      <td>0.00</td>\n",
       "      <td>0.00</td>\n",
       "      <td>0</td>\n",
       "    </tr>\n",
       "    <tr>\n",
       "      <th>23</th>\n",
       "      <td>7000887461</td>\n",
       "      <td>74.35</td>\n",
       "      <td>193.90</td>\n",
       "      <td>366.97</td>\n",
       "      <td>48.96</td>\n",
       "      <td>50.66</td>\n",
       "      <td>33.58</td>\n",
       "      <td>85.41</td>\n",
       "      <td>89.36</td>\n",
       "      <td>205.89</td>\n",
       "      <td>...</td>\n",
       "      <td>0</td>\n",
       "      <td>0</td>\n",
       "      <td>0</td>\n",
       "      <td>1</td>\n",
       "      <td>0</td>\n",
       "      <td>1</td>\n",
       "      <td>0.00</td>\n",
       "      <td>712.00</td>\n",
       "      <td>540.00</td>\n",
       "      <td>0</td>\n",
       "    </tr>\n",
       "  </tbody>\n",
       "</table>\n",
       "<p>5 rows × 150 columns</p>\n",
       "</div>"
      ],
      "text/plain": [
       "    mobile_number  arpu_6  arpu_7  arpu_8  onnet_mou_6  onnet_mou_7  \\\n",
       "0      7000842753  197.38  214.82  213.80          nan          nan   \n",
       "7      7000701601 1069.18 1349.85 3171.48        57.84        54.68   \n",
       "8      7001524846  378.72  492.22  137.36       413.69       351.03   \n",
       "21     7002124215  514.45  597.75  637.76       102.41       132.11   \n",
       "23     7000887461   74.35  193.90  366.97        48.96        50.66   \n",
       "\n",
       "    onnet_mou_8  offnet_mou_6  offnet_mou_7  offnet_mou_8  ...    fb6_0.0  \\\n",
       "0          0.00           nan           nan          0.00  ...          0   \n",
       "7         52.29        453.43        567.16        325.91  ...          0   \n",
       "8         35.08         94.66         80.63        136.48  ...          0   \n",
       "21        85.14        757.93        896.68        983.39  ...          0   \n",
       "23        33.58         85.41         89.36        205.89  ...          0   \n",
       "\n",
       "    fb6_1.0  fb7_0.0  fb7_1.0  fb8_0.0  fb8_1.0  total_rech_data_amt_6  \\\n",
       "0         1        0        1        0        1                 252.00   \n",
       "7         0        0        0        0        0                   0.00   \n",
       "8         0        0        1        0        1                   0.00   \n",
       "21        0        0        0        0        0                   0.00   \n",
       "23        0        0        1        0        1                   0.00   \n",
       "\n",
       "    total_rech_data_amt_7  total_rech_data_amt_8  churn  \n",
       "0                  252.00                 252.00      1  \n",
       "7                    0.00                   0.00      1  \n",
       "8                  354.00                 207.00      0  \n",
       "21                   0.00                   0.00      0  \n",
       "23                 712.00                 540.00      0  \n",
       "\n",
       "[5 rows x 150 columns]"
      ]
     },
     "execution_count": 18,
     "metadata": {},
     "output_type": "execute_result"
    }
   ],
   "source": [
    "telecom.head(5) "
   ]
  },
  {
   "cell_type": "markdown",
   "metadata": {},
   "source": [
    "#### ROW-WISE: MISSING VALUES"
   ]
  },
  {
   "cell_type": "code",
   "execution_count": 19,
   "metadata": {},
   "outputs": [
    {
     "name": "stdout",
     "output_type": "stream",
     "text": [
      "Rows with all NULL values = 0\n"
     ]
    },
    {
     "data": {
      "text/plain": [
       "0        54\n",
       "77       27\n",
       "91        1\n",
       "111      27\n",
       "188      28\n",
       "191       1\n",
       "358      27\n",
       "364      27\n",
       "414      28\n",
       "423      27\n",
       "527      27\n",
       "539      54\n",
       "588       1\n",
       "603       2\n",
       "679       1\n",
       "687      82\n",
       "690      28\n",
       "723      28\n",
       "788      27\n",
       "845      28\n",
       "895      27\n",
       "933      27\n",
       "934      27\n",
       "1138     54\n",
       "1255     27\n",
       "1374      1\n",
       "1489     54\n",
       "1500     55\n",
       "1524     28\n",
       "1555     56\n",
       "         ..\n",
       "98790    55\n",
       "98823    28\n",
       "98838     1\n",
       "98872    28\n",
       "98943    81\n",
       "98962    27\n",
       "98971     1\n",
       "99000    27\n",
       "99034    27\n",
       "99070    27\n",
       "99135    81\n",
       "99142    81\n",
       "99195    27\n",
       "99224     2\n",
       "99246    27\n",
       "99296    27\n",
       "99313     1\n",
       "99323    27\n",
       "99338    81\n",
       "99391    27\n",
       "99398    28\n",
       "99436    28\n",
       "99515     1\n",
       "99611    27\n",
       "99625    27\n",
       "99672     1\n",
       "99700    27\n",
       "99790    55\n",
       "99827    27\n",
       "99851    56\n",
       "Length: 1838, dtype: int64"
      ]
     },
     "execution_count": 19,
     "metadata": {},
     "output_type": "execute_result"
    }
   ],
   "source": [
    "# sum it up to check how many rows have all missing values\n",
    "print(\"Rows with all NULL values =\",  telecom.isnull().all(axis=1).sum())\n",
    "\n",
    "# sum of misisng values in each row\n",
    "rows_missing_data = telecom.isnull().sum(axis=1)\n",
    "rows_missing_data[rows_missing_data > 0]"
   ]
  },
  {
   "cell_type": "code",
   "execution_count": 20,
   "metadata": {},
   "outputs": [
    {
     "name": "stdout",
     "output_type": "stream",
     "text": [
      "Number of rows with >= 27 missing values = 1497\n",
      "     % of rows with >= 27 missing values = 4.989833672210926 %\n",
      "Dataframe Shape after dropping rows:  (28504, 150)\n",
      "-------------------------------------------------------------------------------- \n",
      "\n"
     ]
    }
   ],
   "source": [
    "# small percentage of rows has more than or equal to 27 missing values\n",
    "drop_rows = telecom.isnull().sum(axis=1) >= 27\n",
    "print(\"Number of rows with >= 27 missing values = {}\".format(drop_rows.sum()))\n",
    "print(\"     % of rows with >= 27 missing values = {} %\".format(drop_rows.sum()/telecom.shape[0]*100))\n",
    "\n",
    "# drop rows with missing values greater >= 27\n",
    "telecom = telecom[telecom.isnull().sum(axis=1) < 27]\n",
    "print('Dataframe Shape after dropping rows: ', telecom.shape); print_ln();"
   ]
  },
  {
   "cell_type": "code",
   "execution_count": 21,
   "metadata": {},
   "outputs": [
    {
     "name": "stdout",
     "output_type": "stream",
     "text": [
      "91       1\n",
      "191      1\n",
      "588      1\n",
      "603      2\n",
      "679      1\n",
      "1374     1\n",
      "1913     1\n",
      "2777     1\n",
      "3757     1\n",
      "4284     1\n",
      "4814     1\n",
      "4934     1\n",
      "5187     1\n",
      "5449     1\n",
      "5798     1\n",
      "5926     1\n",
      "7304     1\n",
      "7399     1\n",
      "7567     1\n",
      "7662     1\n",
      "7914     1\n",
      "8118     1\n",
      "8159     1\n",
      "8281     1\n",
      "8454     1\n",
      "8680     1\n",
      "8979     1\n",
      "9012     1\n",
      "9027     1\n",
      "9068     1\n",
      "        ..\n",
      "93165    1\n",
      "93483    1\n",
      "93755    1\n",
      "93769    1\n",
      "94057    1\n",
      "94089    1\n",
      "94241    1\n",
      "94719    1\n",
      "94970    1\n",
      "95531    1\n",
      "95638    1\n",
      "95709    1\n",
      "96053    1\n",
      "96387    1\n",
      "96403    1\n",
      "96480    1\n",
      "96522    1\n",
      "96524    1\n",
      "96715    2\n",
      "97077    1\n",
      "97158    1\n",
      "97926    1\n",
      "98753    1\n",
      "98789    1\n",
      "98838    1\n",
      "98971    1\n",
      "99224    2\n",
      "99313    1\n",
      "99515    1\n",
      "99672    1\n",
      "Length: 341, dtype: int64\n"
     ]
    }
   ],
   "source": [
    "rows_missing_data = telecom.isnull().sum(axis=1)\n",
    "#print(rows_missing_data)\n",
    "print(rows_missing_data[rows_missing_data > 0])"
   ]
  },
  {
   "cell_type": "code",
   "execution_count": 22,
   "metadata": {},
   "outputs": [
    {
     "data": {
      "text/plain": [
       "date_of_last_rech_6   0.12\n",
       "date_of_last_rech_7   0.18\n",
       "date_of_last_rech_8   0.97\n",
       "dtype: float64"
      ]
     },
     "execution_count": 22,
     "metadata": {},
     "output_type": "execute_result"
    }
   ],
   "source": [
    "# Missing Values Treatment: continue\n",
    "# look at the COLUMN summary again\n",
    "df = round(100*(telecom.isnull().sum()/len(telecom.index)), 2)\n",
    "df[df > 0]"
   ]
  },
  {
   "cell_type": "markdown",
   "metadata": {},
   "source": [
    "Note: The remaining missing values are in date columns, before imputing convert them into appropreate values for analysis."
   ]
  },
  {
   "cell_type": "markdown",
   "metadata": {},
   "source": [
    "### Fix Dates & convert to meaningful numbers\n",
    "1. Convert date_of_last_rech_6 --> rech_b4_days_to_month_end_6 (voice rechanrged before number of days to month end)\n",
    "2. convert date_of_last_rech_data_6 --> rech_b4_days_to_month_end_data_6 (data rechanrged before number of days to month end)"
   ]
  },
  {
   "cell_type": "code",
   "execution_count": 23,
   "metadata": {},
   "outputs": [
    {
     "data": {
      "text/html": [
       "<div>\n",
       "<style>\n",
       "    .dataframe thead tr:only-child th {\n",
       "        text-align: right;\n",
       "    }\n",
       "\n",
       "    .dataframe thead th {\n",
       "        text-align: left;\n",
       "    }\n",
       "\n",
       "    .dataframe tbody tr th {\n",
       "        vertical-align: top;\n",
       "    }\n",
       "</style>\n",
       "<table border=\"1\" class=\"dataframe\">\n",
       "  <thead>\n",
       "    <tr style=\"text-align: right;\">\n",
       "      <th></th>\n",
       "      <th>date_of_last_rech_6</th>\n",
       "      <th>date_of_last_rech_7</th>\n",
       "      <th>date_of_last_rech_8</th>\n",
       "    </tr>\n",
       "  </thead>\n",
       "  <tbody>\n",
       "    <tr>\n",
       "      <th>7</th>\n",
       "      <td>6/27/2014</td>\n",
       "      <td>7/25/2014</td>\n",
       "      <td>8/26/2014</td>\n",
       "    </tr>\n",
       "    <tr>\n",
       "      <th>8</th>\n",
       "      <td>6/25/2014</td>\n",
       "      <td>7/31/2014</td>\n",
       "      <td>8/30/2014</td>\n",
       "    </tr>\n",
       "    <tr>\n",
       "      <th>21</th>\n",
       "      <td>6/30/2014</td>\n",
       "      <td>7/31/2014</td>\n",
       "      <td>8/31/2014</td>\n",
       "    </tr>\n",
       "    <tr>\n",
       "      <th>23</th>\n",
       "      <td>6/18/2014</td>\n",
       "      <td>7/7/2014</td>\n",
       "      <td>8/24/2014</td>\n",
       "    </tr>\n",
       "    <tr>\n",
       "      <th>33</th>\n",
       "      <td>6/30/2014</td>\n",
       "      <td>7/30/2014</td>\n",
       "      <td>8/26/2014</td>\n",
       "    </tr>\n",
       "  </tbody>\n",
       "</table>\n",
       "</div>"
      ],
      "text/plain": [
       "   date_of_last_rech_6 date_of_last_rech_7 date_of_last_rech_8\n",
       "7            6/27/2014           7/25/2014           8/26/2014\n",
       "8            6/25/2014           7/31/2014           8/30/2014\n",
       "21           6/30/2014           7/31/2014           8/31/2014\n",
       "23           6/18/2014            7/7/2014           8/24/2014\n",
       "33           6/30/2014           7/30/2014           8/26/2014"
      ]
     },
     "execution_count": 23,
     "metadata": {},
     "output_type": "execute_result"
    }
   ],
   "source": [
    "# covert date columns to python datetime format\n",
    "date_vars = [\"date_of_last_rech_6\",  \"date_of_last_rech_7\", \"date_of_last_rech_8\"]\n",
    "telecom[date_vars].head()"
   ]
  },
  {
   "cell_type": "code",
   "execution_count": 24,
   "metadata": {},
   "outputs": [
    {
     "name": "stdout",
     "output_type": "stream",
     "text": [
      "<class 'pandas.core.frame.DataFrame'>\n",
      "Int64Index: 28504 entries, 7 to 99997\n",
      "Data columns (total 3 columns):\n",
      "date_of_last_rech_6    28471 non-null datetime64[ns]\n",
      "date_of_last_rech_7    28452 non-null datetime64[ns]\n",
      "date_of_last_rech_8    28228 non-null datetime64[ns]\n",
      "dtypes: datetime64[ns](3)\n",
      "memory usage: 2.1 MB\n",
      "None\n"
     ]
    },
    {
     "data": {
      "text/html": [
       "<div>\n",
       "<style>\n",
       "    .dataframe thead tr:only-child th {\n",
       "        text-align: right;\n",
       "    }\n",
       "\n",
       "    .dataframe thead th {\n",
       "        text-align: left;\n",
       "    }\n",
       "\n",
       "    .dataframe tbody tr th {\n",
       "        vertical-align: top;\n",
       "    }\n",
       "</style>\n",
       "<table border=\"1\" class=\"dataframe\">\n",
       "  <thead>\n",
       "    <tr style=\"text-align: right;\">\n",
       "      <th></th>\n",
       "      <th>date_of_last_rech_6</th>\n",
       "      <th>date_of_last_rech_7</th>\n",
       "      <th>date_of_last_rech_8</th>\n",
       "    </tr>\n",
       "  </thead>\n",
       "  <tbody>\n",
       "    <tr>\n",
       "      <th>7</th>\n",
       "      <td>2014-06-27</td>\n",
       "      <td>2014-07-25</td>\n",
       "      <td>2014-08-26</td>\n",
       "    </tr>\n",
       "    <tr>\n",
       "      <th>8</th>\n",
       "      <td>2014-06-25</td>\n",
       "      <td>2014-07-31</td>\n",
       "      <td>2014-08-30</td>\n",
       "    </tr>\n",
       "    <tr>\n",
       "      <th>21</th>\n",
       "      <td>2014-06-30</td>\n",
       "      <td>2014-07-31</td>\n",
       "      <td>2014-08-31</td>\n",
       "    </tr>\n",
       "    <tr>\n",
       "      <th>23</th>\n",
       "      <td>2014-06-18</td>\n",
       "      <td>2014-07-07</td>\n",
       "      <td>2014-08-24</td>\n",
       "    </tr>\n",
       "    <tr>\n",
       "      <th>33</th>\n",
       "      <td>2014-06-30</td>\n",
       "      <td>2014-07-30</td>\n",
       "      <td>2014-08-26</td>\n",
       "    </tr>\n",
       "  </tbody>\n",
       "</table>\n",
       "</div>"
      ],
      "text/plain": [
       "   date_of_last_rech_6 date_of_last_rech_7 date_of_last_rech_8\n",
       "7           2014-06-27          2014-07-25          2014-08-26\n",
       "8           2014-06-25          2014-07-31          2014-08-30\n",
       "21          2014-06-30          2014-07-31          2014-08-31\n",
       "23          2014-06-18          2014-07-07          2014-08-24\n",
       "33          2014-06-30          2014-07-30          2014-08-26"
      ]
     },
     "execution_count": 24,
     "metadata": {},
     "output_type": "execute_result"
    }
   ],
   "source": [
    "# convert to datetime\n",
    "for col in date_vars:\n",
    "    telecom[col] = pd.to_datetime(telecom[col])\n",
    "\n",
    "print(telecom[date_vars].info())\n",
    "telecom[date_vars].head()"
   ]
  },
  {
   "cell_type": "code",
   "execution_count": 25,
   "metadata": {},
   "outputs": [
    {
     "name": "stdout",
     "output_type": "stream",
     "text": [
      "<class 'pandas.core.frame.DataFrame'>\n",
      "Int64Index: 28504 entries, 7 to 99997\n",
      "Data columns (total 3 columns):\n",
      "rech_days_left_6    28471 non-null float64\n",
      "rech_days_left_7    28452 non-null float64\n",
      "rech_days_left_8    28228 non-null float64\n",
      "dtypes: float64(3)\n",
      "memory usage: 2.1 MB\n",
      "None\n"
     ]
    }
   ],
   "source": [
    "# Create new days columns, instead of date\n",
    "import datetime\n",
    "last_date_of_month_6 = datetime.datetime.strptime(\"30-06-2014\", \"%d-%m-%Y\")\n",
    "last_date_of_month_7 = datetime.datetime.strptime(\"31-07-2014\", \"%d-%m-%Y\")\n",
    "last_date_of_month_8 = datetime.datetime.strptime(\"31-08-2014\", \"%d-%m-%Y\")\n",
    "\n",
    "telecom[\"rech_days_left_6\"]      = (last_date_of_month_6 - telecom.date_of_last_rech_6).astype('timedelta64[D]')\n",
    "telecom[\"rech_days_left_7\"]      = (last_date_of_month_7 - telecom.date_of_last_rech_7).astype('timedelta64[D]')\n",
    "telecom[\"rech_days_left_8\"]      = (last_date_of_month_8 - telecom.date_of_last_rech_8).astype('timedelta64[D]')\n",
    "\n",
    "day_columns = [\"rech_days_left_6\", \"rech_days_left_7\", \"rech_days_left_8\"]\n",
    "#print(telecom[day_columns].head(10))\n",
    "print(telecom[day_columns].info())"
   ]
  },
  {
   "cell_type": "code",
   "execution_count": 26,
   "metadata": {},
   "outputs": [
    {
     "name": "stdout",
     "output_type": "stream",
     "text": [
      "Number of columns droped here  =  3\n",
      "Dataframe Shape:  (28504, 150)\n"
     ]
    }
   ],
   "source": [
    "# Drop all old date columns: add dates columns to drop_column list\n",
    "telecom.drop(date_vars, axis=1, inplace=True)\n",
    "telecom1 = telecom.copy()\n",
    "\n",
    "print('Number of columns droped here  = ', len(date_vars))\n",
    "print('Dataframe Shape: ', telecom.shape)"
   ]
  },
  {
   "cell_type": "code",
   "execution_count": 27,
   "metadata": {},
   "outputs": [
    {
     "data": {
      "text/plain": [
       "rech_days_left_6   0.12\n",
       "rech_days_left_7   0.18\n",
       "rech_days_left_8   0.97\n",
       "dtype: float64"
      ]
     },
     "execution_count": 27,
     "metadata": {},
     "output_type": "execute_result"
    }
   ],
   "source": [
    "# Missing Values Treatment: continue\n",
    "# look at the COLUMN summary again\n",
    "df = round(100*(telecom.isnull().sum()/len(telecom.index)), 2)\n",
    "df[df > 0]"
   ]
  },
  {
   "cell_type": "code",
   "execution_count": 29,
   "metadata": {},
   "outputs": [
    {
     "data": {
      "text/html": [
       "<div>\n",
       "<style>\n",
       "    .dataframe thead tr:only-child th {\n",
       "        text-align: right;\n",
       "    }\n",
       "\n",
       "    .dataframe thead th {\n",
       "        text-align: left;\n",
       "    }\n",
       "\n",
       "    .dataframe tbody tr th {\n",
       "        vertical-align: top;\n",
       "    }\n",
       "</style>\n",
       "<table border=\"1\" class=\"dataframe\">\n",
       "  <thead>\n",
       "    <tr style=\"text-align: right;\">\n",
       "      <th></th>\n",
       "      <th>rech_days_left_6</th>\n",
       "      <th>rech_days_left_7</th>\n",
       "      <th>rech_days_left_8</th>\n",
       "    </tr>\n",
       "  </thead>\n",
       "  <tbody>\n",
       "    <tr>\n",
       "      <th>count</th>\n",
       "      <td>28471.00</td>\n",
       "      <td>28452.00</td>\n",
       "      <td>28228.00</td>\n",
       "    </tr>\n",
       "    <tr>\n",
       "      <th>mean</th>\n",
       "      <td>3.39</td>\n",
       "      <td>3.49</td>\n",
       "      <td>4.15</td>\n",
       "    </tr>\n",
       "    <tr>\n",
       "      <th>std</th>\n",
       "      <td>4.49</td>\n",
       "      <td>4.29</td>\n",
       "      <td>5.10</td>\n",
       "    </tr>\n",
       "    <tr>\n",
       "      <th>min</th>\n",
       "      <td>0.00</td>\n",
       "      <td>0.00</td>\n",
       "      <td>0.00</td>\n",
       "    </tr>\n",
       "    <tr>\n",
       "      <th>25%</th>\n",
       "      <td>0.00</td>\n",
       "      <td>0.00</td>\n",
       "      <td>1.00</td>\n",
       "    </tr>\n",
       "    <tr>\n",
       "      <th>50%</th>\n",
       "      <td>2.00</td>\n",
       "      <td>2.00</td>\n",
       "      <td>3.00</td>\n",
       "    </tr>\n",
       "    <tr>\n",
       "      <th>75%</th>\n",
       "      <td>4.00</td>\n",
       "      <td>5.00</td>\n",
       "      <td>6.00</td>\n",
       "    </tr>\n",
       "    <tr>\n",
       "      <th>max</th>\n",
       "      <td>29.00</td>\n",
       "      <td>30.00</td>\n",
       "      <td>30.00</td>\n",
       "    </tr>\n",
       "  </tbody>\n",
       "</table>\n",
       "</div>"
      ],
      "text/plain": [
       "       rech_days_left_6  rech_days_left_7  rech_days_left_8\n",
       "count          28471.00          28452.00          28228.00\n",
       "mean               3.39              3.49              4.15\n",
       "std                4.49              4.29              5.10\n",
       "min                0.00              0.00              0.00\n",
       "25%                0.00              0.00              1.00\n",
       "50%                2.00              2.00              3.00\n",
       "75%                4.00              5.00              6.00\n",
       "max               29.00             30.00             30.00"
      ]
     },
     "execution_count": 29,
     "metadata": {},
     "output_type": "execute_result"
    }
   ],
   "source": [
    "telecom[['rech_days_left_6', 'rech_days_left_7', 'rech_days_left_8']].describe()"
   ]
  },
  {
   "cell_type": "code",
   "execution_count": 30,
   "metadata": {},
   "outputs": [
    {
     "name": "stdout",
     "output_type": "stream",
     "text": [
      "\n",
      "Total Number of missing values in the data frame = 0\n",
      "Dataframe Shape:  (28504, 150)\n",
      "-------------------------------------------------------------------------------- \n",
      "\n"
     ]
    }
   ],
   "source": [
    "# Mean & Median are different: imputing with median value for recharge days left \n",
    "telecom.loc[np.isnan(telecom['rech_days_left_6']), ['rech_days_left_6']] = telecom['rech_days_left_6'].median()\n",
    "telecom.loc[np.isnan(telecom['rech_days_left_7']), ['rech_days_left_7']] = telecom['rech_days_left_7'].median()\n",
    "telecom.loc[np.isnan(telecom['rech_days_left_8']), ['rech_days_left_8']] = telecom['rech_days_left_8'].median()\n",
    "\n",
    "#round(100*(telecom.isnull().sum()/len(telecom.index)), 2)\n",
    "print(\"\\nTotal Number of missing values in the data frame = {}\".format(telecom.isnull().sum().sum()))\n",
    "print('Dataframe Shape: ', telecom.shape); print_ln();"
   ]
  },
  {
   "cell_type": "markdown",
   "metadata": {},
   "source": [
    "### Oulier Assessment\n",
    "- Use data distribution to find outliers"
   ]
  },
  {
   "cell_type": "code",
   "execution_count": 31,
   "metadata": {},
   "outputs": [
    {
     "data": {
      "text/html": [
       "<div>\n",
       "<style>\n",
       "    .dataframe thead tr:only-child th {\n",
       "        text-align: right;\n",
       "    }\n",
       "\n",
       "    .dataframe thead th {\n",
       "        text-align: left;\n",
       "    }\n",
       "\n",
       "    .dataframe tbody tr th {\n",
       "        vertical-align: top;\n",
       "    }\n",
       "</style>\n",
       "<table border=\"1\" class=\"dataframe\">\n",
       "  <thead>\n",
       "    <tr style=\"text-align: right;\">\n",
       "      <th></th>\n",
       "      <th>mobile_number</th>\n",
       "      <th>arpu_6</th>\n",
       "      <th>arpu_7</th>\n",
       "      <th>arpu_8</th>\n",
       "      <th>onnet_mou_6</th>\n",
       "      <th>onnet_mou_7</th>\n",
       "      <th>onnet_mou_8</th>\n",
       "      <th>offnet_mou_6</th>\n",
       "      <th>offnet_mou_7</th>\n",
       "      <th>offnet_mou_8</th>\n",
       "      <th>...</th>\n",
       "      <th>fb7_1.0</th>\n",
       "      <th>fb8_0.0</th>\n",
       "      <th>fb8_1.0</th>\n",
       "      <th>total_rech_data_amt_6</th>\n",
       "      <th>total_rech_data_amt_7</th>\n",
       "      <th>total_rech_data_amt_8</th>\n",
       "      <th>churn</th>\n",
       "      <th>rech_days_left_6</th>\n",
       "      <th>rech_days_left_7</th>\n",
       "      <th>rech_days_left_8</th>\n",
       "    </tr>\n",
       "  </thead>\n",
       "  <tbody>\n",
       "    <tr>\n",
       "      <th>count</th>\n",
       "      <td>28504.00</td>\n",
       "      <td>28504.00</td>\n",
       "      <td>28504.00</td>\n",
       "      <td>28504.00</td>\n",
       "      <td>28504.00</td>\n",
       "      <td>28504.00</td>\n",
       "      <td>28504.00</td>\n",
       "      <td>28504.00</td>\n",
       "      <td>28504.00</td>\n",
       "      <td>28504.00</td>\n",
       "      <td>...</td>\n",
       "      <td>28504.00</td>\n",
       "      <td>28504.00</td>\n",
       "      <td>28504.00</td>\n",
       "      <td>28504.00</td>\n",
       "      <td>28504.00</td>\n",
       "      <td>28504.00</td>\n",
       "      <td>28504.00</td>\n",
       "      <td>28504.00</td>\n",
       "      <td>28504.00</td>\n",
       "      <td>28504.00</td>\n",
       "    </tr>\n",
       "    <tr>\n",
       "      <th>mean</th>\n",
       "      <td>7001213864.75</td>\n",
       "      <td>560.38</td>\n",
       "      <td>570.63</td>\n",
       "      <td>526.06</td>\n",
       "      <td>265.25</td>\n",
       "      <td>275.93</td>\n",
       "      <td>244.73</td>\n",
       "      <td>379.89</td>\n",
       "      <td>389.85</td>\n",
       "      <td>350.23</td>\n",
       "      <td>...</td>\n",
       "      <td>0.52</td>\n",
       "      <td>0.06</td>\n",
       "      <td>0.48</td>\n",
       "      <td>444.79</td>\n",
       "      <td>527.56</td>\n",
       "      <td>469.51</td>\n",
       "      <td>0.06</td>\n",
       "      <td>3.39</td>\n",
       "      <td>3.48</td>\n",
       "      <td>4.14</td>\n",
       "    </tr>\n",
       "    <tr>\n",
       "      <th>std</th>\n",
       "      <td>687776.04</td>\n",
       "      <td>448.96</td>\n",
       "      <td>480.08</td>\n",
       "      <td>500.75</td>\n",
       "      <td>458.72</td>\n",
       "      <td>482.67</td>\n",
       "      <td>464.02</td>\n",
       "      <td>479.25</td>\n",
       "      <td>502.60</td>\n",
       "      <td>485.65</td>\n",
       "      <td>...</td>\n",
       "      <td>0.50</td>\n",
       "      <td>0.23</td>\n",
       "      <td>0.50</td>\n",
       "      <td>1417.12</td>\n",
       "      <td>1481.60</td>\n",
       "      <td>1644.91</td>\n",
       "      <td>0.23</td>\n",
       "      <td>4.49</td>\n",
       "      <td>4.29</td>\n",
       "      <td>5.08</td>\n",
       "    </tr>\n",
       "    <tr>\n",
       "      <th>min</th>\n",
       "      <td>7000000074.00</td>\n",
       "      <td>-2258.71</td>\n",
       "      <td>-2014.05</td>\n",
       "      <td>-945.81</td>\n",
       "      <td>0.00</td>\n",
       "      <td>0.00</td>\n",
       "      <td>0.00</td>\n",
       "      <td>0.00</td>\n",
       "      <td>0.00</td>\n",
       "      <td>0.00</td>\n",
       "      <td>...</td>\n",
       "      <td>0.00</td>\n",
       "      <td>0.00</td>\n",
       "      <td>0.00</td>\n",
       "      <td>0.00</td>\n",
       "      <td>0.00</td>\n",
       "      <td>0.00</td>\n",
       "      <td>0.00</td>\n",
       "      <td>0.00</td>\n",
       "      <td>0.00</td>\n",
       "      <td>0.00</td>\n",
       "    </tr>\n",
       "    <tr>\n",
       "      <th>25%</th>\n",
       "      <td>7000622950.00</td>\n",
       "      <td>317.36</td>\n",
       "      <td>322.60</td>\n",
       "      <td>254.76</td>\n",
       "      <td>20.14</td>\n",
       "      <td>19.53</td>\n",
       "      <td>14.84</td>\n",
       "      <td>80.73</td>\n",
       "      <td>80.35</td>\n",
       "      <td>60.49</td>\n",
       "      <td>...</td>\n",
       "      <td>0.00</td>\n",
       "      <td>0.00</td>\n",
       "      <td>0.00</td>\n",
       "      <td>0.00</td>\n",
       "      <td>0.00</td>\n",
       "      <td>0.00</td>\n",
       "      <td>0.00</td>\n",
       "      <td>0.00</td>\n",
       "      <td>0.00</td>\n",
       "      <td>1.00</td>\n",
       "    </tr>\n",
       "    <tr>\n",
       "      <th>50%</th>\n",
       "      <td>7001217677.00</td>\n",
       "      <td>485.17</td>\n",
       "      <td>488.90</td>\n",
       "      <td>442.79</td>\n",
       "      <td>89.98</td>\n",
       "      <td>89.91</td>\n",
       "      <td>74.09</td>\n",
       "      <td>231.55</td>\n",
       "      <td>231.82</td>\n",
       "      <td>199.88</td>\n",
       "      <td>...</td>\n",
       "      <td>1.00</td>\n",
       "      <td>0.00</td>\n",
       "      <td>0.00</td>\n",
       "      <td>92.00</td>\n",
       "      <td>100.00</td>\n",
       "      <td>25.00</td>\n",
       "      <td>0.00</td>\n",
       "      <td>2.00</td>\n",
       "      <td>2.00</td>\n",
       "      <td>3.00</td>\n",
       "    </tr>\n",
       "    <tr>\n",
       "      <th>75%</th>\n",
       "      <td>7001806580.25</td>\n",
       "      <td>698.91</td>\n",
       "      <td>705.00</td>\n",
       "      <td>672.45</td>\n",
       "      <td>298.76</td>\n",
       "      <td>304.89</td>\n",
       "      <td>257.41</td>\n",
       "      <td>494.37</td>\n",
       "      <td>506.47</td>\n",
       "      <td>457.43</td>\n",
       "      <td>...</td>\n",
       "      <td>1.00</td>\n",
       "      <td>0.00</td>\n",
       "      <td>1.00</td>\n",
       "      <td>392.00</td>\n",
       "      <td>575.00</td>\n",
       "      <td>342.00</td>\n",
       "      <td>0.00</td>\n",
       "      <td>4.00</td>\n",
       "      <td>5.00</td>\n",
       "      <td>6.00</td>\n",
       "    </tr>\n",
       "    <tr>\n",
       "      <th>90%</th>\n",
       "      <td>7002165664.10</td>\n",
       "      <td>987.58</td>\n",
       "      <td>1001.34</td>\n",
       "      <td>991.09</td>\n",
       "      <td>760.84</td>\n",
       "      <td>801.71</td>\n",
       "      <td>688.28</td>\n",
       "      <td>898.93</td>\n",
       "      <td>931.20</td>\n",
       "      <td>844.92</td>\n",
       "      <td>...</td>\n",
       "      <td>1.00</td>\n",
       "      <td>0.00</td>\n",
       "      <td>1.00</td>\n",
       "      <td>1051.40</td>\n",
       "      <td>1374.00</td>\n",
       "      <td>1118.80</td>\n",
       "      <td>0.00</td>\n",
       "      <td>10.00</td>\n",
       "      <td>9.00</td>\n",
       "      <td>10.00</td>\n",
       "    </tr>\n",
       "    <tr>\n",
       "      <th>95%</th>\n",
       "      <td>7002285365.20</td>\n",
       "      <td>1232.63</td>\n",
       "      <td>1268.47</td>\n",
       "      <td>1267.39</td>\n",
       "      <td>1135.71</td>\n",
       "      <td>1206.17</td>\n",
       "      <td>1101.55</td>\n",
       "      <td>1256.09</td>\n",
       "      <td>1292.28</td>\n",
       "      <td>1187.34</td>\n",
       "      <td>...</td>\n",
       "      <td>1.00</td>\n",
       "      <td>1.00</td>\n",
       "      <td>1.00</td>\n",
       "      <td>2025.00</td>\n",
       "      <td>2424.00</td>\n",
       "      <td>2268.00</td>\n",
       "      <td>1.00</td>\n",
       "      <td>14.00</td>\n",
       "      <td>13.00</td>\n",
       "      <td>15.00</td>\n",
       "    </tr>\n",
       "    <tr>\n",
       "      <th>99%</th>\n",
       "      <td>7002385436.73</td>\n",
       "      <td>1955.15</td>\n",
       "      <td>1999.46</td>\n",
       "      <td>1989.92</td>\n",
       "      <td>2146.08</td>\n",
       "      <td>2220.47</td>\n",
       "      <td>2175.25</td>\n",
       "      <td>2301.03</td>\n",
       "      <td>2434.54</td>\n",
       "      <td>2219.38</td>\n",
       "      <td>...</td>\n",
       "      <td>1.00</td>\n",
       "      <td>1.00</td>\n",
       "      <td>1.00</td>\n",
       "      <td>5129.73</td>\n",
       "      <td>6219.16</td>\n",
       "      <td>5749.82</td>\n",
       "      <td>1.00</td>\n",
       "      <td>19.00</td>\n",
       "      <td>18.00</td>\n",
       "      <td>25.00</td>\n",
       "    </tr>\n",
       "    <tr>\n",
       "      <th>max</th>\n",
       "      <td>7002410905.00</td>\n",
       "      <td>27731.09</td>\n",
       "      <td>35145.83</td>\n",
       "      <td>33543.62</td>\n",
       "      <td>7376.71</td>\n",
       "      <td>8157.78</td>\n",
       "      <td>10752.56</td>\n",
       "      <td>8362.36</td>\n",
       "      <td>9667.13</td>\n",
       "      <td>14007.34</td>\n",
       "      <td>...</td>\n",
       "      <td>1.00</td>\n",
       "      <td>1.00</td>\n",
       "      <td>1.00</td>\n",
       "      <td>105644.00</td>\n",
       "      <td>55080.00</td>\n",
       "      <td>89106.50</td>\n",
       "      <td>1.00</td>\n",
       "      <td>29.00</td>\n",
       "      <td>30.00</td>\n",
       "      <td>30.00</td>\n",
       "    </tr>\n",
       "  </tbody>\n",
       "</table>\n",
       "<p>11 rows × 150 columns</p>\n",
       "</div>"
      ],
      "text/plain": [
       "       mobile_number   arpu_6   arpu_7   arpu_8  onnet_mou_6  onnet_mou_7  \\\n",
       "count       28504.00 28504.00 28504.00 28504.00     28504.00     28504.00   \n",
       "mean   7001213864.75   560.38   570.63   526.06       265.25       275.93   \n",
       "std        687776.04   448.96   480.08   500.75       458.72       482.67   \n",
       "min    7000000074.00 -2258.71 -2014.05  -945.81         0.00         0.00   \n",
       "25%    7000622950.00   317.36   322.60   254.76        20.14        19.53   \n",
       "50%    7001217677.00   485.17   488.90   442.79        89.98        89.91   \n",
       "75%    7001806580.25   698.91   705.00   672.45       298.76       304.89   \n",
       "90%    7002165664.10   987.58  1001.34   991.09       760.84       801.71   \n",
       "95%    7002285365.20  1232.63  1268.47  1267.39      1135.71      1206.17   \n",
       "99%    7002385436.73  1955.15  1999.46  1989.92      2146.08      2220.47   \n",
       "max    7002410905.00 27731.09 35145.83 33543.62      7376.71      8157.78   \n",
       "\n",
       "       onnet_mou_8  offnet_mou_6  offnet_mou_7  offnet_mou_8  \\\n",
       "count     28504.00      28504.00      28504.00      28504.00   \n",
       "mean        244.73        379.89        389.85        350.23   \n",
       "std         464.02        479.25        502.60        485.65   \n",
       "min           0.00          0.00          0.00          0.00   \n",
       "25%          14.84         80.73         80.35         60.49   \n",
       "50%          74.09        231.55        231.82        199.88   \n",
       "75%         257.41        494.37        506.47        457.43   \n",
       "90%         688.28        898.93        931.20        844.92   \n",
       "95%        1101.55       1256.09       1292.28       1187.34   \n",
       "99%        2175.25       2301.03       2434.54       2219.38   \n",
       "max       10752.56       8362.36       9667.13      14007.34   \n",
       "\n",
       "             ...         fb7_1.0  fb8_0.0  fb8_1.0  total_rech_data_amt_6  \\\n",
       "count        ...        28504.00 28504.00 28504.00               28504.00   \n",
       "mean         ...            0.52     0.06     0.48                 444.79   \n",
       "std          ...            0.50     0.23     0.50                1417.12   \n",
       "min          ...            0.00     0.00     0.00                   0.00   \n",
       "25%          ...            0.00     0.00     0.00                   0.00   \n",
       "50%          ...            1.00     0.00     0.00                  92.00   \n",
       "75%          ...            1.00     0.00     1.00                 392.00   \n",
       "90%          ...            1.00     0.00     1.00                1051.40   \n",
       "95%          ...            1.00     1.00     1.00                2025.00   \n",
       "99%          ...            1.00     1.00     1.00                5129.73   \n",
       "max          ...            1.00     1.00     1.00              105644.00   \n",
       "\n",
       "       total_rech_data_amt_7  total_rech_data_amt_8    churn  \\\n",
       "count               28504.00               28504.00 28504.00   \n",
       "mean                  527.56                 469.51     0.06   \n",
       "std                  1481.60                1644.91     0.23   \n",
       "min                     0.00                   0.00     0.00   \n",
       "25%                     0.00                   0.00     0.00   \n",
       "50%                   100.00                  25.00     0.00   \n",
       "75%                   575.00                 342.00     0.00   \n",
       "90%                  1374.00                1118.80     0.00   \n",
       "95%                  2424.00                2268.00     1.00   \n",
       "99%                  6219.16                5749.82     1.00   \n",
       "max                 55080.00               89106.50     1.00   \n",
       "\n",
       "       rech_days_left_6  rech_days_left_7  rech_days_left_8  \n",
       "count          28504.00          28504.00          28504.00  \n",
       "mean               3.39              3.48              4.14  \n",
       "std                4.49              4.29              5.08  \n",
       "min                0.00              0.00              0.00  \n",
       "25%                0.00              0.00              1.00  \n",
       "50%                2.00              2.00              3.00  \n",
       "75%                4.00              5.00              6.00  \n",
       "90%               10.00              9.00             10.00  \n",
       "95%               14.00             13.00             15.00  \n",
       "99%               19.00             18.00             25.00  \n",
       "max               29.00             30.00             30.00  \n",
       "\n",
       "[11 rows x 150 columns]"
      ]
     },
     "execution_count": 31,
     "metadata": {},
     "output_type": "execute_result"
    }
   ],
   "source": [
    "# Checking outliers at 25%,50%,75%,90%,95% and 99%\n",
    "telecom.describe(percentiles=[.25,.5,.75,.90,.95,.99])"
   ]
  },
  {
   "cell_type": "code",
   "execution_count": 32,
   "metadata": {
    "collapsed": true
   },
   "outputs": [],
   "source": [
    "# Most of the outliers are on the revenue data and the model being built is on usage of voice and data.\n",
    "# Hence there is no need to treat these outliers"
   ]
  },
  {
   "cell_type": "markdown",
   "metadata": {},
   "source": [
    "# <font color='blue'>SUMMARY PART 1: DATA UNDERSTANDING AND CLEANING</font>"
   ]
  },
  {
   "cell_type": "code",
   "execution_count": 35,
   "metadata": {},
   "outputs": [
    {
     "name": "stdout",
     "output_type": "stream",
     "text": [
      "Original Dataframe Shape:  (99999, 226)\n",
      "-------------------------------------------------------------------------------- \n",
      "\n",
      "Original Dataframe Info: \n",
      "\n",
      "<class 'pandas.core.frame.DataFrame'>\n",
      "RangeIndex: 99999 entries, 0 to 99998\n",
      "Columns: 226 entries, mobile_number to sep_vbc_3g\n",
      "dtypes: float64(179), int64(35), object(12)\n",
      "memory usage: 172.4+ MB\n",
      "-------------------------------------------------------------------------------- \n",
      "\n",
      "Original Dataframe Nulls: 3594931\n",
      "-------------------------------------------------------------------------------- \n",
      "\n",
      "Cleaned Dataframe Shape:  (28504, 150)\n",
      "-------------------------------------------------------------------------------- \n",
      "\n",
      "Cleaned Dataframe Info: \n",
      "\n",
      "<class 'pandas.core.frame.DataFrame'>\n",
      "Int64Index: 28504 entries, 7 to 99997\n",
      "Columns: 150 entries, mobile_number to rech_days_left_8\n",
      "dtypes: float64(111), int32(1), int64(26), uint8(12)\n",
      "memory usage: 31.7 MB\n",
      "-------------------------------------------------------------------------------- \n",
      "\n",
      "Cleaned Dataframe Nulls: 0\n",
      "-------------------------------------------------------------------------------- \n",
      "\n"
     ]
    }
   ],
   "source": [
    "print('Original Dataframe Shape: ', telecom_orig.shape); print_ln();\n",
    "print(\"Original Dataframe Info: \\n\"); telecom_orig.info(); print_ln();\n",
    "print(\"Original Dataframe Nulls:\", telecom_orig.isnull().sum().sum()); print_ln();\n",
    "\n",
    "print('Cleaned Dataframe Shape: ', telecom.shape); print_ln();\n",
    "print(\"Cleaned Dataframe Info: \\n\"); telecom.info(); print_ln();\n",
    "print(\"Cleaned Dataframe Nulls:\", telecom.isnull().sum().sum()); print_ln();\n"
   ]
  },
  {
   "cell_type": "markdown",
   "metadata": {},
   "source": [
    "### Save the clened data in new file"
   ]
  },
  {
   "cell_type": "code",
   "execution_count": 34,
   "metadata": {
    "collapsed": true
   },
   "outputs": [],
   "source": [
    "# write treated telecom file\n",
    "telecom.to_csv(\"telecom_churn_data_clean.csv\", sep=',', index=False)"
   ]
  },
  {
   "cell_type": "markdown",
   "metadata": {},
   "source": [
    "# <font color='blue'>PART 2: EXPLORATORY DATA ANALYSIS (EDA)</font>\n",
    "1. Univariate \n",
    "2. Bivatiate Analysis\n",
    "3. Check imbalance in data-set (dependent variable)"
   ]
  },
  {
   "cell_type": "code",
   "execution_count": null,
   "metadata": {
    "collapsed": true
   },
   "outputs": [],
   "source": [
    "# # Load csv data file\n",
    "# telecom_orig = pd.read_csv('telecom_churn_data_clean_cat.csv', low_memory=False)\n",
    "# telecom = telecom_orig.copy()"
   ]
  },
  {
   "cell_type": "markdown",
   "metadata": {},
   "source": [
    "### Dependent Variable: check data imbalance"
   ]
  },
  {
   "cell_type": "code",
   "execution_count": 3,
   "metadata": {},
   "outputs": [
    {
     "name": "stdout",
     "output_type": "stream",
     "text": [
      "Total Churn Count     = 1596\n",
      "Total Not-Churn Count = 26908\n",
      "Churn Rate            = 5.60%\n",
      "-------------------------------------------------------------------------------- \n",
      "\n"
     ]
    }
   ],
   "source": [
    "#checking whether data is imbalanced or not\n",
    "churn  = telecom[\"churn\"].value_counts()\n",
    "churn_rate = churn[1]/(churn[1] + churn[0])\n",
    "\n",
    "print(\"Total Churn Count     = {}\".format(churn[1]))\n",
    "print(\"Total Not-Churn Count = {}\".format(churn[0]))\n",
    "print(\"Churn Rate            = {:.2f}%\".format(churn_rate*100))\n",
    "print_ln()"
   ]
  },
  {
   "cell_type": "markdown",
   "metadata": {},
   "source": [
    "OBSERVATION: Data is highly imbalanced, we need to balance it before we can create the model"
   ]
  },
  {
   "cell_type": "markdown",
   "metadata": {},
   "source": [
    "### Univariate Analysis on  'total_rech_num_6', 'total_rech_num_7', 'total_rech_num_8'"
   ]
  },
  {
   "cell_type": "code",
   "execution_count": 4,
   "metadata": {
    "collapsed": true
   },
   "outputs": [],
   "source": [
    "df_not_churn = telecom[telecom[\"churn\"] == 0]\n",
    "df_churn     = telecom[telecom[\"churn\"] == 1]"
   ]
  },
  {
   "cell_type": "code",
   "execution_count": 5,
   "metadata": {},
   "outputs": [
    {
     "name": "stdout",
     "output_type": "stream",
     "text": [
      "Mean:\n",
      "11.826036866359447\n",
      "14.31704260651629\n",
      "median:\n",
      "9.0\n",
      "12.0\n",
      "Quantiles:\n",
      "[  0.   6.   9.  14.]\n",
      "[  0.   8.  12.  18.]\n"
     ]
    }
   ],
   "source": [
    "#claculation of mean for churn or non churn\n",
    "print(\"Mean:\")\n",
    "print(np.mean(df_not_churn[\"total_rech_num_6\"]))\n",
    "print(np.mean(df_churn[\"total_rech_num_6\"]))\n",
    "print(\"median:\")\n",
    "print(np.median(df_not_churn[\"total_rech_num_6\"]))\n",
    "print(np.median(df_churn[\"total_rech_num_6\"]))\n",
    "\n",
    "print(\"Quantiles:\")\n",
    "print(np.percentile(df_not_churn[\"total_rech_num_6\"],np.arange(0,100,25)))\n",
    "print(np.percentile(df_churn[\"total_rech_num_6\"],np.arange(0,100,25)))"
   ]
  },
  {
   "cell_type": "code",
   "execution_count": 6,
   "metadata": {},
   "outputs": [
    {
     "data": {
      "text/plain": [
       "<seaborn.axisgrid.FacetGrid at 0x147e8391eb8>"
      ]
     },
     "execution_count": 6,
     "metadata": {},
     "output_type": "execute_result"
    },
    {
     "data": {
      "image/png": "[encoded data removed]",
      "text/plain": [
       "<matplotlib.figure.Figure at 0x147e20400f0>"
      ]
     },
     "metadata": {},
     "output_type": "display_data"
    }
   ],
   "source": [
    "#feature importance of total_rech_num_6\n",
    "#now use histogram or probability density function for univiraite analysis\n",
    "#one variable analysis\n",
    "#this is important to know feature importance in classification\n",
    "sns.set_style('whitegrid')\n",
    "sns.FacetGrid(telecom,hue='churn',size=6).map(sns.distplot,\"total_rech_num_6\").add_legend()\n",
    "\n",
    "#its difficult to know about the churning rate based on total_rech_num_6 feature as overlaped data."
   ]
  },
  {
   "cell_type": "code",
   "execution_count": 7,
   "metadata": {},
   "outputs": [
    {
     "name": "stdout",
     "output_type": "stream",
     "text": [
      "Mean:\n",
      "11.875464545859968\n",
      "13.43170426065163\n",
      "median:\n",
      "9.0\n",
      "10.0\n",
      "Quantiles:\n",
      "[  0.   6.   9.  15.]\n",
      "[  0.   7.  10.  17.]\n"
     ]
    }
   ],
   "source": [
    "print(\"Mean:\")\n",
    "print(np.mean(df_not_churn[\"total_rech_num_7\"]))\n",
    "print(np.mean(df_churn[\"total_rech_num_7\"]))\n",
    "print(\"median:\")\n",
    "print(np.median(df_not_churn[\"total_rech_num_7\"]))\n",
    "print(np.median(df_churn[\"total_rech_num_7\"]))\n",
    "\n",
    "print(\"Quantiles:\")\n",
    "print(np.percentile(df_not_churn[\"total_rech_num_7\"],np.arange(0,100,25)))\n",
    "print(np.percentile(df_churn[\"total_rech_num_7\"],np.arange(0,100,25)))"
   ]
  },
  {
   "cell_type": "code",
   "execution_count": 8,
   "metadata": {},
   "outputs": [
    {
     "data": {
      "text/plain": [
       "<seaborn.axisgrid.FacetGrid at 0x147eb60c9b0>"
      ]
     },
     "execution_count": 8,
     "metadata": {},
     "output_type": "execute_result"
    },
    {
     "data": {
      "image/png": "[encoded data removed]",
      "text/plain": [
       "<matplotlib.figure.Figure at 0x147e8c3def0>"
      ]
     },
     "metadata": {},
     "output_type": "display_data"
    }
   ],
   "source": [
    "#feature importance of total_rech_data_7\n",
    "#now use histogram or probability density function for univiraite analysis\n",
    "#one variable analysis\n",
    "#this is important to know feature importance in classification\n",
    "sns.set_style('whitegrid')\n",
    "sns.FacetGrid(telecom,hue='churn',size=6).map(sns.distplot,\"total_rech_num_7\").add_legend()\n",
    "\n",
    "#its difficult to know about the churning rate based on total_rech_data_7 feature as overlaped data."
   ]
  },
  {
   "cell_type": "code",
   "execution_count": 9,
   "metadata": {},
   "outputs": [
    {
     "name": "stdout",
     "output_type": "stream",
     "text": [
      "Mean:\n",
      "10.523561766017542\n",
      "7.021303258145363\n",
      "median:\n",
      "8.0\n",
      "5.0\n",
      "Quantiles:\n",
      "[  0.   5.   8.  13.]\n",
      "[ 0.  3.  5.  9.]\n"
     ]
    }
   ],
   "source": [
    "print(\"Mean:\")\n",
    "print(np.mean(df_not_churn[\"total_rech_num_8\"]))\n",
    "print(np.mean(df_churn[\"total_rech_num_8\"]))\n",
    "print(\"median:\")\n",
    "print(np.median(df_not_churn[\"total_rech_num_8\"]))\n",
    "print(np.median(df_churn[\"total_rech_num_8\"]))\n",
    "\n",
    "print(\"Quantiles:\")\n",
    "print(np.percentile(df_not_churn[\"total_rech_num_8\"],np.arange(0,100,25)))\n",
    "print(np.percentile(df_churn[\"total_rech_num_8\"],np.arange(0,100,25)))"
   ]
  },
  {
   "cell_type": "code",
   "execution_count": 10,
   "metadata": {},
   "outputs": [
    {
     "data": {
      "text/plain": [
       "<seaborn.axisgrid.FacetGrid at 0x147eb6000f0>"
      ]
     },
     "execution_count": 10,
     "metadata": {},
     "output_type": "execute_result"
    },
    {
     "data": {
      "image/png": "[encoded data removed]",
      "text/plain": [
       "<matplotlib.figure.Figure at 0x147e8c25dd8>"
      ]
     },
     "metadata": {},
     "output_type": "display_data"
    }
   ],
   "source": [
    "#feature importance of total_rech_amt_8\n",
    "#now use histogram or probability density function for univiraite analysis\n",
    "#one variable analysis\n",
    "#this is important to know feature importance in classification\n",
    "sns.FacetGrid(telecom,hue='churn',size=6).map(sns.distplot,\"total_rech_num_8\").add_legend()"
   ]
  },
  {
   "cell_type": "code",
   "execution_count": 11,
   "metadata": {},
   "outputs": [
    {
     "data": {
      "text/plain": [
       "<seaborn.axisgrid.FacetGrid at 0x147ef381da0>"
      ]
     },
     "execution_count": 11,
     "metadata": {},
     "output_type": "execute_result"
    },
    {
     "data": {
      "image/png": "[encoded data removed]",
      "text/plain": [
       "<matplotlib.figure.Figure at 0x147ef392b70>"
      ]
     },
     "metadata": {},
     "output_type": "display_data"
    }
   ],
   "source": [
    "sns.FacetGrid(telecom,hue='churn',size=5).map(plt.scatter,\"total_rech_num_6\",\"total_rech_num_7\").add_legend()"
   ]
  },
  {
   "cell_type": "code",
   "execution_count": 12,
   "metadata": {},
   "outputs": [
    {
     "data": {
      "text/plain": [
       "<seaborn.axisgrid.FacetGrid at 0x147ef3ef5c0>"
      ]
     },
     "execution_count": 12,
     "metadata": {},
     "output_type": "execute_result"
    },
    {
     "data": {
      "image/png": "[encoded data removed]",
      "text/plain": [
       "<matplotlib.figure.Figure at 0x147e8c6ed30>"
      ]
     },
     "metadata": {},
     "output_type": "display_data"
    }
   ],
   "source": [
    "sns.FacetGrid(telecom,hue='churn',size=5).map(plt.scatter,\"total_rech_num_7\",\"total_rech_num_8\").add_legend()"
   ]
  },
  {
   "cell_type": "code",
   "execution_count": 13,
   "metadata": {},
   "outputs": [
    {
     "data": {
      "text/plain": [
       "<seaborn.axisgrid.FacetGrid at 0x147ef44a5f8>"
      ]
     },
     "execution_count": 13,
     "metadata": {},
     "output_type": "execute_result"
    },
    {
     "data": {
      "image/png": "[encoded data removed]",
      "text/plain": [
       "<matplotlib.figure.Figure at 0x147eb6cb748>"
      ]
     },
     "metadata": {},
     "output_type": "display_data"
    }
   ],
   "source": [
    "sns.FacetGrid(telecom,hue='churn',size=5).map(plt.scatter,\"total_rech_num_6\",\"total_rech_num_8\").add_legend()"
   ]
  },
  {
   "cell_type": "markdown",
   "metadata": {},
   "source": [
    "### Univariate Analysis on 'total_rech_amt_6', 'total_rech_amt_7', 'total_rech_amt_8',"
   ]
  },
  {
   "cell_type": "code",
   "execution_count": null,
   "metadata": {
    "collapsed": true
   },
   "outputs": [],
   "source": [
    "print(\"Mean:\")\n",
    "print(np.mean(df_not_churn[\"total_rech_amt_6\"]))\n",
    "print(np.mean(df_churn[\"total_rech_amt_6\"]))\n",
    "print(\"median:\")\n",
    "print(np.median(df_not_churn[\"total_rech_amt_6\"]))\n",
    "print(np.median(df_churn[\"total_rech_amt_6\"]))\n",
    "\n",
    "print(\"Quantiles:\")\n",
    "print(np.percentile(df_not_churn[\"total_rech_amt_6\"],np.arange(0,100,25)))\n",
    "print(np.percentile(df_churn[\"total_rech_amt_6\"],np.arange(0,100,25)))"
   ]
  },
  {
   "cell_type": "code",
   "execution_count": null,
   "metadata": {
    "collapsed": true
   },
   "outputs": [],
   "source": [
    "#feature importance of total_rech_num_6\n",
    "#now use histogram or probability density function for univiraite analysis\n",
    "#one variable analysis\n",
    "#this is important to know feature importance in classification\n",
    "sns.FacetGrid(telecom,hue='churn',size=6).map(sns.distplot,\"total_rech_amt_6\").add_legend()"
   ]
  },
  {
   "cell_type": "code",
   "execution_count": null,
   "metadata": {
    "collapsed": true
   },
   "outputs": [],
   "source": [
    "print(\"Mean:\")\n",
    "print(np.mean(df_not_churn[\"total_rech_amt_7\"]))\n",
    "print(np.mean(df_churn[\"total_rech_amt_7\"]))\n",
    "print(\"median:\")\n",
    "print(np.median(df_not_churn[\"total_rech_amt_7\"]))\n",
    "print(np.median(df_churn[\"total_rech_amt_7\"]))\n",
    "\n",
    "print(\"Quantiles:\")\n",
    "print(np.percentile(df_not_churn[\"total_rech_amt_7\"],np.arange(0,100,25)))\n",
    "print(np.percentile(df_churn[\"total_rech_amt_7\"],np.arange(0,100,25)))"
   ]
  },
  {
   "cell_type": "code",
   "execution_count": null,
   "metadata": {
    "collapsed": true
   },
   "outputs": [],
   "source": [
    "#feature importance of total_rech_num_6\n",
    "#now use histogram or probability density function for univiraite analysis\n",
    "#one variable analysis\n",
    "#this is important to know feature importance in classification\n",
    "sns.FacetGrid(telecom,hue='churn',size=6).map(sns.distplot,\"total_rech_amt_7\").add_legend()"
   ]
  },
  {
   "cell_type": "code",
   "execution_count": null,
   "metadata": {
    "collapsed": true
   },
   "outputs": [],
   "source": [
    "print(\"Mean:\")\n",
    "print(np.mean(df_not_churn[\"total_rech_amt_8\"]))\n",
    "print(np.mean(df_churn[\"total_rech_amt_8\"]))\n",
    "print(\"median:\")\n",
    "print(np.median(df_not_churn[\"total_rech_amt_8\"]))\n",
    "print(np.median(df_churn[\"total_rech_amt_8\"]))\n",
    "\n",
    "print(\"Quantiles:\")\n",
    "print(np.percentile(df_not_churn[\"total_rech_amt_8\"],np.arange(0,100,25)))\n",
    "print(np.percentile(df_churn[\"total_rech_amt_8\"],np.arange(0,100,25)))"
   ]
  },
  {
   "cell_type": "code",
   "execution_count": null,
   "metadata": {
    "collapsed": true
   },
   "outputs": [],
   "source": [
    "#feature importance of total_rech_num_6\n",
    "#now use histogram or probability density function for univiraite analysis\n",
    "#one variable analysis\n",
    "#this is important to know feature importance in classification\n",
    "sns.FacetGrid(telecom,hue='churn',size=6).map(sns.distplot,\"total_rech_amt_8\").add_legend()"
   ]
  },
  {
   "cell_type": "code",
   "execution_count": null,
   "metadata": {
    "collapsed": true
   },
   "outputs": [],
   "source": [
    "sns.FacetGrid(telecom,hue='churn',size=5).map(plt.scatter,\"total_rech_amt_6\",\"total_rech_amt_7\").add_legend()"
   ]
  },
  {
   "cell_type": "code",
   "execution_count": null,
   "metadata": {
    "collapsed": true
   },
   "outputs": [],
   "source": [
    "sns.FacetGrid(telecom,hue='churn',size=5).map(plt.scatter,\"total_rech_amt_6\",\"total_rech_amt_8\").add_legend()"
   ]
  },
  {
   "cell_type": "code",
   "execution_count": null,
   "metadata": {
    "collapsed": true
   },
   "outputs": [],
   "source": [
    "sns.FacetGrid(telecom,hue='churn',size=5).map(plt.scatter,\"total_rech_amt_7\",\"total_rech_amt_8\").add_legend()"
   ]
  },
  {
   "cell_type": "markdown",
   "metadata": {},
   "source": [
    "### Univariate Analysis on max_rech_amt_6', 'max_rech_amt_7', 'max_rech_amt_8',"
   ]
  },
  {
   "cell_type": "code",
   "execution_count": null,
   "metadata": {
    "collapsed": true
   },
   "outputs": [],
   "source": [
    "print(\"Mean:\")\n",
    "print(np.mean(df_not_churn[\"max_rech_amt_6\"]))\n",
    "print(np.mean(df_churn[\"max_rech_amt_6\"]))\n",
    "print(\"median:\")\n",
    "print(np.median(df_not_churn[\"max_rech_amt_6\"]))\n",
    "print(np.median(df_churn[\"max_rech_amt_6\"]))\n",
    "\n",
    "print(\"Quantiles:\")\n",
    "print(np.percentile(df_not_churn[\"max_rech_amt_6\"],np.arange(0,100,25)))\n",
    "print(np.percentile(df_churn[\"max_rech_amt_6\"],np.arange(0,100,25)))"
   ]
  },
  {
   "cell_type": "code",
   "execution_count": null,
   "metadata": {
    "collapsed": true
   },
   "outputs": [],
   "source": [
    "sns.FacetGrid(telecom,hue='churn',size=6).map(sns.distplot,\"max_rech_amt_6\").add_legend()"
   ]
  },
  {
   "cell_type": "code",
   "execution_count": null,
   "metadata": {
    "collapsed": true
   },
   "outputs": [],
   "source": [
    "print(\"Mean:\")\n",
    "print(np.mean(df_not_churn[\"max_rech_amt_7\"]))\n",
    "print(np.mean(df_churn[\"max_rech_amt_7\"]))\n",
    "print(\"median:\")\n",
    "print(np.median(df_not_churn[\"max_rech_amt_7\"]))\n",
    "print(np.median(df_churn[\"max_rech_amt_7\"]))\n",
    "\n",
    "print(\"Quantiles:\")\n",
    "print(np.percentile(df_not_churn[\"max_rech_amt_7\"],np.arange(0,100,25)))\n",
    "print(np.percentile(df_churn[\"max_rech_amt_7\"],np.arange(0,100,25)))"
   ]
  },
  {
   "cell_type": "code",
   "execution_count": null,
   "metadata": {
    "collapsed": true
   },
   "outputs": [],
   "source": [
    "sns.FacetGrid(telecom,hue='churn',size=6).map(sns.distplot,\"max_rech_amt_7\").add_legend()"
   ]
  },
  {
   "cell_type": "code",
   "execution_count": null,
   "metadata": {
    "collapsed": true
   },
   "outputs": [],
   "source": [
    "print(\"Mean:\")\n",
    "print(np.mean(df_not_churn[\"max_rech_amt_8\"]))\n",
    "print(np.mean(df_churn[\"max_rech_amt_8\"]))\n",
    "print(\"median:\")\n",
    "print(np.median(df_not_churn[\"max_rech_amt_8\"]))\n",
    "print(np.median(df_churn[\"max_rech_amt_8\"]))\n",
    "\n",
    "print(\"Quantiles:\")\n",
    "print(np.percentile(df_not_churn[\"max_rech_amt_8\"],np.arange(0,100,25)))\n",
    "print(np.percentile(df_churn[\"max_rech_amt_8\"],np.arange(0,100,25)))"
   ]
  },
  {
   "cell_type": "code",
   "execution_count": null,
   "metadata": {
    "collapsed": true
   },
   "outputs": [],
   "source": [
    "sns.FacetGrid(telecom,hue='churn',size=6).map(sns.distplot,\"max_rech_amt_8\").add_legend()"
   ]
  },
  {
   "cell_type": "code",
   "execution_count": null,
   "metadata": {
    "collapsed": true
   },
   "outputs": [],
   "source": [
    "sns.FacetGrid(telecom,hue='churn',size=5).map(plt.scatter,\"max_rech_amt_6\",\"max_rech_amt_7\").add_legend()"
   ]
  },
  {
   "cell_type": "code",
   "execution_count": null,
   "metadata": {
    "collapsed": true
   },
   "outputs": [],
   "source": [
    "sns.FacetGrid(telecom,hue='churn',size=5).map(plt.scatter,\"max_rech_amt_7\",\"max_rech_amt_8\").add_legend()"
   ]
  },
  {
   "cell_type": "code",
   "execution_count": null,
   "metadata": {
    "collapsed": true
   },
   "outputs": [],
   "source": [
    "sns.FacetGrid(telecom,hue='churn',size=5).map(plt.scatter,\"max_rech_amt_6\",\"max_rech_amt_8\").add_legend()"
   ]
  },
  {
   "cell_type": "markdown",
   "metadata": {},
   "source": [
    "Note: due to space & size we did not include all univariate and bivariate analysis in this file."
   ]
  },
  {
   "cell_type": "markdown",
   "metadata": {},
   "source": [
    "### Correlation Matrix: Bivariate Analysis"
   ]
  },
  {
   "cell_type": "code",
   "execution_count": 19,
   "metadata": {},
   "outputs": [
    {
     "data": {
      "text/plain": [
       "<matplotlib.axes._subplots.AxesSubplot at 0x147f0a3c470>"
      ]
     },
     "execution_count": 19,
     "metadata": {},
     "output_type": "execute_result"
    },
    {
     "data": {
      "image/png": "[encoded data removed]",
      "text/plain": [
       "<matplotlib.figure.Figure at 0x147ef717c50>"
      ]
     },
     "metadata": {},
     "output_type": "display_data"
    }
   ],
   "source": [
    "telecom2 = telecom.drop(['mobile_number', 'churn'], axis=1)\n",
    "\n",
    "# Let's see the correlation matrix \n",
    "plt.figure(figsize = (20,20))        # Size of the figure\n",
    "sns.heatmap(telecom2.corr())"
   ]
  },
  {
   "cell_type": "code",
   "execution_count": 23,
   "metadata": {},
   "outputs": [
    {
     "name": "stdout",
     "output_type": "stream",
     "text": [
      "HIGHLY CORRELATED FEATURES IN DATA SET:38\n",
      "\n",
      "['onnet_mou_8', 'loc_og_t2t_mou_8', 'loc_og_t2m_mou_8', 'loc_og_t2f_mou_7', 'loc_og_mou_6', 'loc_og_mou_7', 'loc_og_mou_8', 'std_og_t2t_mou_6', 'std_og_t2t_mou_7', 'std_og_t2t_mou_8', 'std_og_t2m_mou_6', 'std_og_t2m_mou_7', 'std_og_t2m_mou_8', 'isd_og_mou_7', 'isd_og_mou_8', 'total_og_mou_6', 'total_og_mou_7', 'total_og_mou_8', 'loc_ic_t2t_mou_7', 'loc_ic_t2t_mou_8', 'loc_ic_t2m_mou_8', 'loc_ic_mou_6', 'loc_ic_mou_7', 'loc_ic_mou_8', 'std_ic_mou_6', 'std_ic_mou_7', 'std_ic_mou_8', 'total_ic_mou_6', 'total_ic_mou_7', 'total_ic_mou_8', 'total_rech_amt_6', 'total_rech_amt_7', 'total_rech_amt_8', 'night_pck_user_7_churn', 'night_pck_user_8_churn', 'fb_user_6_churn', 'fb_user_7_churn', 'fb_user_8_churn']\n"
     ]
    }
   ],
   "source": [
    "# Create correlation matrix\n",
    "corr_matrix = telecom2.corr().abs()\n",
    "\n",
    "# Select upper triangle of correlation matrix\n",
    "upper = corr_matrix.where(np.triu(np.ones(corr_matrix.shape), k=1).astype(np.bool))\n",
    "\n",
    "# Find index of feature columns with correlation greater than 0.80\n",
    "high_corr_features = [column for column in upper.columns if any(upper[column] > 0.80)]\n",
    "\n",
    "print(\"HIGHLY CORRELATED FEATURES IN DATA SET:{}\\n\\n{}\".format(len(high_corr_features), high_corr_features))"
   ]
  },
  {
   "cell_type": "markdown",
   "metadata": {},
   "source": [
    "* OBSERVATION: 38 highly correlated features (> 80%) found in the data set.\n",
    "* NOTE: We are not dropping these columns manually rather using feature reduction methods to do the job. We worked with RFE, LASSO and PCA."
   ]
  },
  {
   "cell_type": "markdown",
   "metadata": {},
   "source": [
    "# <font color='blue'>SUMMARY PART 2: EXPLORATORY DATA ANALYSIS (EDA)</font>\n",
    "\n",
    "OBSERVATIONS\n",
    "1. Data is higly imbalanced only 5.6% data is churn & remaining is non_churn\n",
    "2. From univariate analysis some relationship is emerging to the churn, but no clear relationship found.\n",
    "3. There are many highly correlated features, found 38 features with more then 0.8 correlation.\n",
    "\n",
    "NEXT STEPS:\n",
    "1. Need to balance the data, apply suitable data-balancing method\n",
    "2. Features are highly correlated, use feture reduction methods before modelling."
   ]
  },
  {
   "cell_type": "code",
   "execution_count": null,
   "metadata": {
    "collapsed": true
   },
   "outputs": [],
   "source": []
  },
  {
   "cell_type": "code",
   "execution_count": 36,
   "metadata": {},
   "outputs": [
    {
     "data": {
      "text/plain": [
       "3.0"
      ]
     },
     "execution_count": 36,
     "metadata": {},
     "output_type": "execute_result"
    }
   ],
   "source": [
    "# <font color='blue'>SUMMARY PART 2: EXPLORATORY DATA ANALYSIS (EDA)</font>\n",
    "1.\n",
    "2.\n",
    "3."
   ]
  },
  {
   "cell_type": "markdown",
   "metadata": {},
   "source": [
    "## Create X, y variables"
   ]
  },
  {
   "cell_type": "code",
   "execution_count": null,
   "metadata": {
    "collapsed": true
   },
   "outputs": [],
   "source": [
    "X = telecom.drop(['churn'],axis=1)\n",
    "y = telecom['churn']"
   ]
  },
  {
   "cell_type": "markdown",
   "metadata": {},
   "source": [
    "## Applying standard scale"
   ]
  },
  {
   "cell_type": "code",
   "execution_count": null,
   "metadata": {
    "collapsed": true
   },
   "outputs": [],
   "source": [
    "from sklearn import preprocessing\n",
    "from sklearn.preprocessing import StandardScaler\n",
    "\n",
    "\n",
    "scaler = preprocessing.StandardScaler().fit(X)\n",
    "\n",
    "X = scaler.transform(X)"
   ]
  },
  {
   "cell_type": "markdown",
   "metadata": {},
   "source": [
    "## Applying Lasso"
   ]
  },
  {
   "cell_type": "code",
   "execution_count": null,
   "metadata": {},
   "outputs": [],
   "source": [
    "from sklearn.svm import LinearSVC\n",
    "from sklearn.feature_selection import SelectFromModel\n",
    " \n",
    "lsvc = LinearSVC(C=0.02, penalty=\"l1\", dual=False).fit(X,y)\n",
    "model = SelectFromModel(lsvc, prefit=True)\n",
    "X_l = model.transform(X)\n",
    "pos = model.get_support(indices=True)\n",
    " \n",
    "print(X_l.shape)\n",
    "print(pos)"
   ]
  },
  {
   "cell_type": "markdown",
   "metadata": {},
   "source": [
    "## Split"
   ]
  },
  {
   "cell_type": "code",
   "execution_count": null,
   "metadata": {},
   "outputs": [],
   "source": [
    "from sklearn.model_selection import train_test_split\n",
    "\n",
    "X_train, X_test, y_train, y_test = train_test_split(X_l,y, train_size=0.7,random_state=42)"
   ]
  },
  {
   "cell_type": "markdown",
   "metadata": {},
   "source": [
    "# Applying smote"
   ]
  },
  {
   "cell_type": "code",
   "execution_count": null,
   "metadata": {},
   "outputs": [],
   "source": [
    "from imblearn.over_sampling import SMOTE\n",
    "sm = SMOTE(kind = \"regular\")\n",
    "X_tr,y_tr = sm.fit_sample(X_train,y_train)\n",
    "print(X_tr.shape)\n",
    "print(y_tr.shape)\n",
    "np.count_nonzero(y_tr)"
   ]
  },
  {
   "cell_type": "markdown",
   "metadata": {},
   "source": [
    "# Applying decision tree"
   ]
  },
  {
   "cell_type": "code",
   "execution_count": null,
   "metadata": {},
   "outputs": [],
   "source": [
    "# Importing decision tree classifier from sklearn library\n",
    "from sklearn.tree import DecisionTreeClassifier\n",
    "from sklearn import tree\n",
    "\n",
    "# Fitting the decision tree with default hyperparameters, apart from\n",
    "# max_depth which is 5 so that we can plot and read the tree.\n",
    "dt_default = DecisionTreeClassifier(max_depth=5)\n",
    "dt_default.fit(X_tr, y_tr)"
   ]
  },
  {
   "cell_type": "code",
   "execution_count": null,
   "metadata": {},
   "outputs": [],
   "source": [
    "# Let's check the evaluation metrics of our default model\n",
    "\n",
    "# Importing classification report and confusion matrix from sklearn metrics\n",
    "from sklearn.metrics import classification_report, confusion_matrix, accuracy_score\n",
    "\n",
    "# Making predictions\n",
    "y_pred_default = dt_default.predict(X_test)\n",
    "\n",
    "# Printing classification report\n",
    "print(classification_report(y_test, y_pred_default))"
   ]
  },
  {
   "cell_type": "code",
   "execution_count": null,
   "metadata": {},
   "outputs": [],
   "source": [
    "# Printing confusion matrix\n",
    "print(confusion_matrix(y_test,y_pred_default))"
   ]
  },
  {
   "cell_type": "code",
   "execution_count": null,
   "metadata": {},
   "outputs": [],
   "source": [
    "print(\"DecisionTreeClassifier accuracy with Lasso: \", accuracy_score(y_test,y_pred_default))"
   ]
  },
  {
   "cell_type": "markdown",
   "metadata": {},
   "source": [
    "# Applying PCA"
   ]
  },
  {
   "cell_type": "code",
   "execution_count": null,
   "metadata": {},
   "outputs": [],
   "source": [
    "#Improting the PCA module\n",
    "from sklearn.decomposition import PCA\n",
    "pca = PCA(random_state=100)\n",
    "\n",
    "#Doing the PCA on the train data\n",
    "pca.fit(X_tr)"
   ]
  },
  {
   "cell_type": "code",
   "execution_count": null,
   "metadata": {},
   "outputs": [],
   "source": [
    "df_train_pca = pca.fit_transform(X_tr)\n",
    "print(df_train_pca.shape)\n",
    "\n",
    "df_test_pca = pca.transform(X_test)\n",
    "print(df_test_pca.shape)"
   ]
  },
  {
   "cell_type": "markdown",
   "metadata": {},
   "source": [
    "# Apply logistic regression"
   ]
  },
  {
   "cell_type": "code",
   "execution_count": null,
   "metadata": {
    "collapsed": true
   },
   "outputs": [],
   "source": [
    "# Let's run the model using the selected variables\n",
    "from sklearn.linear_model import LogisticRegression\n",
    "from sklearn import metrics\n",
    "logsk = LogisticRegression(C=1e9)\n",
    "logsk.fit(df_train_pca, y_tr)\n",
    "\n",
    "# Predicted probabilities\n",
    "y_pred = logsk.predict(df_test_pca)\n",
    "# Converting y_pred to a dataframe which is an array\n",
    "y_pred_df = pd.DataFrame(y_pred)"
   ]
  },
  {
   "cell_type": "code",
   "execution_count": null,
   "metadata": {},
   "outputs": [],
   "source": [
    "# Printing confusion matrix\n",
    "print(confusion_matrix(y_test,y_pred))"
   ]
  },
  {
   "cell_type": "code",
   "execution_count": null,
   "metadata": {},
   "outputs": [],
   "source": [
    "print(\"LogisticRegression accuracy with PCA: \",accuracy_score(y_test,y_pred))"
   ]
  },
  {
   "cell_type": "code",
   "execution_count": null,
   "metadata": {
    "collapsed": true
   },
   "outputs": [],
   "source": []
  }
 ],
 "metadata": {
  "kernelspec": {
   "display_name": "Python 3",
   "language": "python",
   "name": "python3"
  },
  "language_info": {
   "codemirror_mode": {
    "name": "ipython",
    "version": 3
   },
   "file_extension": ".py",
   "mimetype": "text/x-python",
   "name": "python",
   "nbconvert_exporter": "python",
   "pygments_lexer": "ipython3",
   "version": "3.6.3"
  }
 },
 "nbformat": 4,
 "nbformat_minor": 2
}
